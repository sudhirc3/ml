{
 "cells": [
  {
   "cell_type": "code",
   "execution_count": 94,
   "metadata": {},
   "outputs": [],
   "source": [
    "import pandas as pd\n",
    "from pandas.io.json import json_normalize\n",
    "import numpy as np\n",
    "import matplotlib.pyplot as plt\n",
    "import seaborn as sns\n",
    "%matplotlib inline"
   ]
  },
  {
   "cell_type": "code",
   "execution_count": 2,
   "metadata": {},
   "outputs": [],
   "source": [
    "import requests\n",
    "from bs4 import BeautifulSoup"
   ]
  },
  {
   "cell_type": "code",
   "execution_count": 3,
   "metadata": {},
   "outputs": [],
   "source": [
    "from geopy.geocoders import Nominatim\n",
    "import folium"
   ]
  },
  {
   "cell_type": "code",
   "execution_count": 4,
   "metadata": {},
   "outputs": [],
   "source": [
    "import sys,os.path\n",
    "import re"
   ]
  },
  {
   "cell_type": "code",
   "execution_count": 5,
   "metadata": {},
   "outputs": [],
   "source": [
    "SFO_FILE = \"/var/tmp/sfo_wiki.txt\"\n",
    "NYC_FILE = \"/var/tmp/nyc_wiki.txt\""
   ]
  },
  {
   "cell_type": "code",
   "execution_count": 6,
   "metadata": {},
   "outputs": [
    {
     "name": "stdout",
     "output_type": "stream",
     "text": [
      "reading sfo wiki from file\n"
     ]
    }
   ],
   "source": [
    "# scrape SFO wiki for neighborhoods\n",
    "\n",
    "if (os.path.exists(SFO_FILE) and os.path.getsize(SFO_FILE)):\n",
    "    #read from file instead of the net\n",
    "    print(\"reading sfo wiki from file\")\n",
    "    with open(SFO_FILE) as rsf:\n",
    "        sfo_text = rsf.read()\n",
    "else:\n",
    "    print(\"reading sfo wiki from net\")\n",
    "    sfo_wiki = requests.get(\"https://en.wikipedia.org/wiki/List_of_neighborhoods_in_San_Francisco\")\n",
    "    if sfo_wiki.ok:\n",
    "        #write it to file\n",
    "        sfo_text = sfo_wiki.text\n",
    "        with open(SFO_FILE, \"w\") as wsf:\n",
    "            wsf.write(sfo_wiki.text)\n",
    "    else:\n",
    "        sys.exit(\"error reading wiki!\")"
   ]
  },
  {
   "cell_type": "code",
   "execution_count": 7,
   "metadata": {},
   "outputs": [
    {
     "name": "stdout",
     "output_type": "stream",
     "text": [
      "reading nyc wiki from file\n"
     ]
    }
   ],
   "source": [
    "# scrape NYC wiki for neighborhoods\n",
    "\n",
    "if (os.path.exists(NYC_FILE) and os.path.getsize(NYC_FILE)):\n",
    "    #read from file instead of the net\n",
    "    print(\"reading nyc wiki from file\")\n",
    "    with open(NYC_FILE) as rny:\n",
    "        nyc_text = rny.read()\n",
    "else:\n",
    "    print(\"reading nyc wiki from net\")\n",
    "    nyc_wiki = requests.get(\"https://en.wikipedia.org/wiki/Neighborhoods_in_New_York_City\")\n",
    "    if nyc_wiki.ok:\n",
    "        #write it to file\n",
    "        nyc_text = nyc_wiki.text\n",
    "        with open(NYC_FILE, \"w\") as wny:\n",
    "            wny.write(nyc_wiki.text)\n",
    "    else:\n",
    "        sys.exit(\"error reading wiki!\")"
   ]
  },
  {
   "cell_type": "code",
   "execution_count": 8,
   "metadata": {},
   "outputs": [],
   "source": [
    "sfo_soup = BeautifulSoup(sfo_text, \"lxml\")\n",
    "\n",
    "nyc_soup = BeautifulSoup(nyc_text, \"lxml\")"
   ]
  },
  {
   "cell_type": "code",
   "execution_count": 9,
   "metadata": {},
   "outputs": [],
   "source": [
    "# begin - process SFO data\n",
    "\n",
    "sfo_neigh = sfo_soup.find_all('span',class_=\"toctext\")"
   ]
  },
  {
   "cell_type": "code",
   "execution_count": 10,
   "metadata": {},
   "outputs": [
    {
     "name": "stdout",
     "output_type": "stream",
     "text": [
      "count is:  123\n"
     ]
    }
   ],
   "source": [
    "sfo_neighborhoods = []\n",
    "for n in sfo_neigh:\n",
    "    sfo_neighborhoods.append(n.string)\n",
    "print(\"count is: \",len(sfo_neighborhoods))"
   ]
  },
  {
   "cell_type": "code",
   "execution_count": 11,
   "metadata": {},
   "outputs": [
    {
     "data": {
      "text/plain": [
       "['Alamo Square',\n",
       " 'Anza Vista',\n",
       " 'Ashbury Heights',\n",
       " 'Balboa Park',\n",
       " 'Balboa Terrace']"
      ]
     },
     "execution_count": 11,
     "metadata": {},
     "output_type": "execute_result"
    }
   ],
   "source": [
    "sfo_neighborhoods[0:5]"
   ]
  },
  {
   "cell_type": "code",
   "execution_count": 12,
   "metadata": {},
   "outputs": [
    {
     "data": {
      "text/plain": [
       "['Yerba Buena',\n",
       " 'See also',\n",
       " 'References',\n",
       " 'External links',\n",
       " 'Specific neighborhoods']"
      ]
     },
     "execution_count": 12,
     "metadata": {},
     "output_type": "execute_result"
    }
   ],
   "source": [
    "sfo_neighborhoods[-5:]"
   ]
  },
  {
   "cell_type": "code",
   "execution_count": 13,
   "metadata": {},
   "outputs": [],
   "source": [
    "sfo_neighborhoods = sfo_neighborhoods[:-4]"
   ]
  },
  {
   "cell_type": "code",
   "execution_count": 14,
   "metadata": {},
   "outputs": [
    {
     "data": {
      "text/plain": [
       "119"
      ]
     },
     "execution_count": 14,
     "metadata": {},
     "output_type": "execute_result"
    }
   ],
   "source": [
    "len(sfo_neighborhoods)"
   ]
  },
  {
   "cell_type": "code",
   "execution_count": 15,
   "metadata": {},
   "outputs": [
    {
     "data": {
      "text/plain": [
       "['West Portal',\n",
       " 'Western Addition',\n",
       " 'Westwood Highlands',\n",
       " 'Westwood Park',\n",
       " 'Yerba Buena']"
      ]
     },
     "execution_count": 15,
     "metadata": {},
     "output_type": "execute_result"
    }
   ],
   "source": [
    "# end - process SFO wiki data\n",
    "\n",
    "sfo_neighborhoods[-5:]"
   ]
  },
  {
   "cell_type": "code",
   "execution_count": 16,
   "metadata": {},
   "outputs": [],
   "source": [
    "# begin - process NYC wiki data\n",
    "\n",
    "nyc_rows = nyc_soup.select(\"table.wikitable.sortable > tbody > tr > td:nth-of-type(5) > a\")"
   ]
  },
  {
   "cell_type": "code",
   "execution_count": 17,
   "metadata": {},
   "outputs": [
    {
     "data": {
      "text/plain": [
       "list"
      ]
     },
     "execution_count": 17,
     "metadata": {},
     "output_type": "execute_result"
    }
   ],
   "source": [
    "type(nyc_rows)"
   ]
  },
  {
   "cell_type": "code",
   "execution_count": 18,
   "metadata": {},
   "outputs": [
    {
     "data": {
      "text/plain": [
       "[<a href=\"/wiki/Melrose,_Bronx\" title=\"Melrose, Bronx\">Melrose</a>,\n",
       " <a href=\"/wiki/Mott_Haven,_Bronx\" title=\"Mott Haven, Bronx\">Mott Haven</a>,\n",
       " <a href=\"/wiki/Port_Morris,_Bronx\" title=\"Port Morris, Bronx\">Port Morris</a>,\n",
       " <a href=\"/wiki/Hunts_Point,_Bronx\" title=\"Hunts Point, Bronx\">Hunts Point</a>,\n",
       " <a href=\"/wiki/Longwood,_Bronx\" title=\"Longwood, Bronx\">Longwood</a>]"
      ]
     },
     "execution_count": 18,
     "metadata": {},
     "output_type": "execute_result"
    }
   ],
   "source": [
    "nyc_rows[:5]"
   ]
  },
  {
   "cell_type": "code",
   "execution_count": 19,
   "metadata": {},
   "outputs": [
    {
     "data": {
      "text/plain": [
       "[<a href=\"/wiki/Prince%27s_Bay,_Staten_Island\" title=\"Prince's Bay, Staten Island\">Prince's Bay</a>,\n",
       " <a href=\"/wiki/Richmond_Valley,_Staten_Island\" title=\"Richmond Valley, Staten Island\">Richmond Valley</a>,\n",
       " <a href=\"/wiki/Rossville,_Staten_Island\" title=\"Rossville, Staten Island\">Rossville</a>,\n",
       " <a href=\"/wiki/Tottenville,_Staten_Island\" title=\"Tottenville, Staten Island\">Tottenville</a>,\n",
       " <a href=\"/wiki/Woodrow,_Staten_Island\" title=\"Woodrow, Staten Island\">Woodrow</a>]"
      ]
     },
     "execution_count": 19,
     "metadata": {},
     "output_type": "execute_result"
    }
   ],
   "source": [
    "nyc_rows[-5:]"
   ]
  },
  {
   "cell_type": "code",
   "execution_count": 20,
   "metadata": {},
   "outputs": [],
   "source": [
    "nyc_neighborhoods = []\n",
    "for row in nyc_rows:\n",
    "    neighs = [str(x).strip() for x in str(row.string).split(',')]\n",
    "    nyc_neighborhoods.extend(neighs)"
   ]
  },
  {
   "cell_type": "code",
   "execution_count": 21,
   "metadata": {},
   "outputs": [
    {
     "data": {
      "text/plain": [
       "['Melrose', 'Mott Haven', 'Port Morris', 'Hunts Point', 'Longwood']"
      ]
     },
     "execution_count": 21,
     "metadata": {},
     "output_type": "execute_result"
    }
   ],
   "source": [
    "nyc_neighborhoods[0:5]"
   ]
  },
  {
   "cell_type": "code",
   "execution_count": 22,
   "metadata": {},
   "outputs": [
    {
     "data": {
      "text/plain": [
       "[\"Prince's Bay\", 'Richmond Valley', 'Rossville', 'Tottenville', 'Woodrow']"
      ]
     },
     "execution_count": 22,
     "metadata": {},
     "output_type": "execute_result"
    }
   ],
   "source": [
    "nyc_neighborhoods[-5:]"
   ]
  },
  {
   "cell_type": "code",
   "execution_count": 23,
   "metadata": {},
   "outputs": [
    {
     "data": {
      "text/plain": [
       "328"
      ]
     },
     "execution_count": 23,
     "metadata": {},
     "output_type": "execute_result"
    }
   ],
   "source": [
    "# end - process NYC wiki data\n",
    "\n",
    "len(nyc_neighborhoods)"
   ]
  },
  {
   "cell_type": "code",
   "execution_count": 24,
   "metadata": {},
   "outputs": [],
   "source": [
    "# get NYC lats & lngs\n",
    "\n",
    "geolocator = Nominatim(user_agent=\"nyc_sfo_explorer\")"
   ]
  },
  {
   "cell_type": "code",
   "execution_count": 25,
   "metadata": {},
   "outputs": [],
   "source": [
    "dfny_file = \"/var/tmp/nyc2_df.csv\"\n",
    "dfsf_file = \"/var/tmp/sfo2_df.csv\""
   ]
  },
  {
   "cell_type": "code",
   "execution_count": 26,
   "metadata": {},
   "outputs": [
    {
     "name": "stdout",
     "output_type": "stream",
     "text": [
      "getting lats & lngs from disk\n"
     ]
    }
   ],
   "source": [
    "if not os.path.exists(dfny_file):\n",
    "    \n",
    "    print('getting lats & lngs from net')\n",
    "    lats = []\n",
    "    lngs = []\n",
    "    neighs = []\n",
    "    missing_ny_neighs = []\n",
    "    \n",
    "    for loc in nyc_neighborhoods:\n",
    "            addr = loc + \", New York, NY\"\n",
    "            #print(\"addr: \", addr)\n",
    "            location = geolocator.geocode(addr)\n",
    "            if (location is not None):\n",
    "                lat = location.latitude\n",
    "                lng = location.longitude\n",
    "                #print(\"addr {} is at lat: {}, lng: {}\".format(addr, lat,lng))\n",
    "                lats.append(lat)\n",
    "                lngs.append(lng)\n",
    "                neighs.append(loc)\n",
    "            else:\n",
    "                #print(\"could not find geocode for {}\".format(loc))\n",
    "                missing_ny_neighs.append(loc)\n",
    "                \n",
    "    dfny = pd.DataFrame(list(zip(neighs,lats,lngs)), columns=['Neighborhood', 'Latitude', 'Longitude'])\n",
    "    dfny.to_csv(dfny_file, index=False)\n",
    "    \n",
    "else:\n",
    "    print('getting lats & lngs from disk')\n",
    "    dfny = pd.read_csv(dfny_file)"
   ]
  },
  {
   "cell_type": "code",
   "execution_count": 27,
   "metadata": {},
   "outputs": [
    {
     "data": {
      "text/plain": [
       "(314, 3)"
      ]
     },
     "execution_count": 27,
     "metadata": {},
     "output_type": "execute_result"
    }
   ],
   "source": [
    "dfny.shape"
   ]
  },
  {
   "cell_type": "code",
   "execution_count": 28,
   "metadata": {},
   "outputs": [
    {
     "data": {
      "text/html": [
       "<div>\n",
       "<style scoped>\n",
       "    .dataframe tbody tr th:only-of-type {\n",
       "        vertical-align: middle;\n",
       "    }\n",
       "\n",
       "    .dataframe tbody tr th {\n",
       "        vertical-align: top;\n",
       "    }\n",
       "\n",
       "    .dataframe thead th {\n",
       "        text-align: right;\n",
       "    }\n",
       "</style>\n",
       "<table border=\"1\" class=\"dataframe\">\n",
       "  <thead>\n",
       "    <tr style=\"text-align: right;\">\n",
       "      <th></th>\n",
       "      <th>Neighborhood</th>\n",
       "      <th>Latitude</th>\n",
       "      <th>Longitude</th>\n",
       "    </tr>\n",
       "  </thead>\n",
       "  <tbody>\n",
       "    <tr>\n",
       "      <th>0</th>\n",
       "      <td>Melrose</td>\n",
       "      <td>40.824545</td>\n",
       "      <td>-73.910414</td>\n",
       "    </tr>\n",
       "    <tr>\n",
       "      <th>1</th>\n",
       "      <td>Mott Haven</td>\n",
       "      <td>40.808990</td>\n",
       "      <td>-73.922915</td>\n",
       "    </tr>\n",
       "    <tr>\n",
       "      <th>2</th>\n",
       "      <td>Port Morris</td>\n",
       "      <td>40.801515</td>\n",
       "      <td>-73.909581</td>\n",
       "    </tr>\n",
       "    <tr>\n",
       "      <th>3</th>\n",
       "      <td>Hunts Point</td>\n",
       "      <td>40.812601</td>\n",
       "      <td>-73.884025</td>\n",
       "    </tr>\n",
       "    <tr>\n",
       "      <th>4</th>\n",
       "      <td>Longwood</td>\n",
       "      <td>42.953115</td>\n",
       "      <td>-78.369465</td>\n",
       "    </tr>\n",
       "  </tbody>\n",
       "</table>\n",
       "</div>"
      ],
      "text/plain": [
       "  Neighborhood   Latitude  Longitude\n",
       "0      Melrose  40.824545 -73.910414\n",
       "1   Mott Haven  40.808990 -73.922915\n",
       "2  Port Morris  40.801515 -73.909581\n",
       "3  Hunts Point  40.812601 -73.884025\n",
       "4     Longwood  42.953115 -78.369465"
      ]
     },
     "execution_count": 28,
     "metadata": {},
     "output_type": "execute_result"
    }
   ],
   "source": [
    "dfny.head()"
   ]
  },
  {
   "cell_type": "code",
   "execution_count": 29,
   "metadata": {},
   "outputs": [
    {
     "data": {
      "text/html": [
       "<div>\n",
       "<style scoped>\n",
       "    .dataframe tbody tr th:only-of-type {\n",
       "        vertical-align: middle;\n",
       "    }\n",
       "\n",
       "    .dataframe tbody tr th {\n",
       "        vertical-align: top;\n",
       "    }\n",
       "\n",
       "    .dataframe thead th {\n",
       "        text-align: right;\n",
       "    }\n",
       "</style>\n",
       "<table border=\"1\" class=\"dataframe\">\n",
       "  <thead>\n",
       "    <tr style=\"text-align: right;\">\n",
       "      <th></th>\n",
       "      <th>Neighborhood</th>\n",
       "      <th>Latitude</th>\n",
       "      <th>Longitude</th>\n",
       "    </tr>\n",
       "  </thead>\n",
       "  <tbody>\n",
       "    <tr>\n",
       "      <th>309</th>\n",
       "      <td>Prince's Bay</td>\n",
       "      <td>40.528994</td>\n",
       "      <td>-74.197644</td>\n",
       "    </tr>\n",
       "    <tr>\n",
       "      <th>310</th>\n",
       "      <td>Richmond Valley</td>\n",
       "      <td>40.520105</td>\n",
       "      <td>-74.229311</td>\n",
       "    </tr>\n",
       "    <tr>\n",
       "      <th>311</th>\n",
       "      <td>Rossville</td>\n",
       "      <td>40.555624</td>\n",
       "      <td>-74.212898</td>\n",
       "    </tr>\n",
       "    <tr>\n",
       "      <th>312</th>\n",
       "      <td>Tottenville</td>\n",
       "      <td>40.511217</td>\n",
       "      <td>-74.249312</td>\n",
       "    </tr>\n",
       "    <tr>\n",
       "      <th>313</th>\n",
       "      <td>Woodrow</td>\n",
       "      <td>40.543439</td>\n",
       "      <td>-74.197644</td>\n",
       "    </tr>\n",
       "  </tbody>\n",
       "</table>\n",
       "</div>"
      ],
      "text/plain": [
       "        Neighborhood   Latitude  Longitude\n",
       "309     Prince's Bay  40.528994 -74.197644\n",
       "310  Richmond Valley  40.520105 -74.229311\n",
       "311        Rossville  40.555624 -74.212898\n",
       "312      Tottenville  40.511217 -74.249312\n",
       "313          Woodrow  40.543439 -74.197644"
      ]
     },
     "execution_count": 29,
     "metadata": {},
     "output_type": "execute_result"
    }
   ],
   "source": [
    "dfny.tail()"
   ]
  },
  {
   "cell_type": "code",
   "execution_count": 30,
   "metadata": {},
   "outputs": [
    {
     "data": {
      "text/html": [
       "<div>\n",
       "<style scoped>\n",
       "    .dataframe tbody tr th:only-of-type {\n",
       "        vertical-align: middle;\n",
       "    }\n",
       "\n",
       "    .dataframe tbody tr th {\n",
       "        vertical-align: top;\n",
       "    }\n",
       "\n",
       "    .dataframe thead th {\n",
       "        text-align: right;\n",
       "    }\n",
       "</style>\n",
       "<table border=\"1\" class=\"dataframe\">\n",
       "  <thead>\n",
       "    <tr style=\"text-align: right;\">\n",
       "      <th></th>\n",
       "      <th>Latitude</th>\n",
       "      <th>Longitude</th>\n",
       "    </tr>\n",
       "  </thead>\n",
       "  <tbody>\n",
       "    <tr>\n",
       "      <th>count</th>\n",
       "      <td>314.000000</td>\n",
       "      <td>314.000000</td>\n",
       "    </tr>\n",
       "    <tr>\n",
       "      <th>mean</th>\n",
       "      <td>40.927502</td>\n",
       "      <td>-74.102143</td>\n",
       "    </tr>\n",
       "    <tr>\n",
       "      <th>std</th>\n",
       "      <td>0.684101</td>\n",
       "      <td>0.853240</td>\n",
       "    </tr>\n",
       "    <tr>\n",
       "      <th>min</th>\n",
       "      <td>40.511217</td>\n",
       "      <td>-78.799202</td>\n",
       "    </tr>\n",
       "    <tr>\n",
       "      <th>25%</th>\n",
       "      <td>40.637197</td>\n",
       "      <td>-74.006881</td>\n",
       "    </tr>\n",
       "    <tr>\n",
       "      <th>50%</th>\n",
       "      <td>40.728297</td>\n",
       "      <td>-73.941158</td>\n",
       "    </tr>\n",
       "    <tr>\n",
       "      <th>75%</th>\n",
       "      <td>40.824445</td>\n",
       "      <td>-73.852635</td>\n",
       "    </tr>\n",
       "    <tr>\n",
       "      <th>max</th>\n",
       "      <td>44.751610</td>\n",
       "      <td>-72.173984</td>\n",
       "    </tr>\n",
       "  </tbody>\n",
       "</table>\n",
       "</div>"
      ],
      "text/plain": [
       "         Latitude   Longitude\n",
       "count  314.000000  314.000000\n",
       "mean    40.927502  -74.102143\n",
       "std      0.684101    0.853240\n",
       "min     40.511217  -78.799202\n",
       "25%     40.637197  -74.006881\n",
       "50%     40.728297  -73.941158\n",
       "75%     40.824445  -73.852635\n",
       "max     44.751610  -72.173984"
      ]
     },
     "execution_count": 30,
     "metadata": {},
     "output_type": "execute_result"
    }
   ],
   "source": [
    "dfny.describe()"
   ]
  },
  {
   "cell_type": "code",
   "execution_count": 31,
   "metadata": {},
   "outputs": [],
   "source": [
    "# begin - NYC data clean up \n",
    "dfny.drop_duplicates(keep='first', inplace=True)"
   ]
  },
  {
   "cell_type": "code",
   "execution_count": 32,
   "metadata": {},
   "outputs": [],
   "source": [
    "# clean up outliers - likely from the geocoder not getting the address right\n",
    "\n",
    "# Lngs IQR\n",
    "ny_lng_Q1 = dfny['Longitude'].quantile(.25)\n",
    "ny_lng_Q3 = dfny['Longitude'].quantile(.75)\n",
    "ny_lng_IQR = ny_lng_Q3 - ny_lng_Q1\n",
    "\n",
    "# Lats IQR\n",
    "ny_lat_Q1 = dfny['Latitude'].quantile(.25)\n",
    "ny_lat_Q3 = dfny['Latitude'].quantile(.75)\n",
    "ny_lat_IQR = ny_lat_Q3 - ny_lat_Q1"
   ]
  },
  {
   "cell_type": "code",
   "execution_count": 33,
   "metadata": {},
   "outputs": [],
   "source": [
    "# drop longitude outliers\n",
    "\n",
    "dfny.drop(dfny[(dfny['Longitude'] > (ny_lng_Q3 + 1.5 * ny_lng_IQR)) | (dfny['Longitude'] < (ny_lng_Q1 - 1.5 * ny_lng_IQR))].index, axis=0, inplace=True)"
   ]
  },
  {
   "cell_type": "code",
   "execution_count": 34,
   "metadata": {},
   "outputs": [],
   "source": [
    "# drop latitide outliers\n",
    "\n",
    "dfny.drop(dfny[(dfny['Latitude'] > (ny_lat_Q3 + 1.5 * ny_lat_IQR)) | (dfny['Latitude'] < (ny_lat_Q1 - 1.5 * ny_lat_IQR))].index, axis=0, inplace=True)"
   ]
  },
  {
   "cell_type": "code",
   "execution_count": 35,
   "metadata": {},
   "outputs": [],
   "source": [
    "# remove Bronx River neighborhood from the listing. wrong data from wiki ...\n",
    "\n",
    "dfny.drop(dfny[dfny['Neighborhood'] == 'Bronx River'].index, inplace=True)"
   ]
  },
  {
   "cell_type": "code",
   "execution_count": 36,
   "metadata": {},
   "outputs": [
    {
     "data": {
      "text/html": [
       "<div>\n",
       "<style scoped>\n",
       "    .dataframe tbody tr th:only-of-type {\n",
       "        vertical-align: middle;\n",
       "    }\n",
       "\n",
       "    .dataframe tbody tr th {\n",
       "        vertical-align: top;\n",
       "    }\n",
       "\n",
       "    .dataframe thead th {\n",
       "        text-align: right;\n",
       "    }\n",
       "</style>\n",
       "<table border=\"1\" class=\"dataframe\">\n",
       "  <thead>\n",
       "    <tr style=\"text-align: right;\">\n",
       "      <th></th>\n",
       "      <th>Neighborhood</th>\n",
       "      <th>Latitude</th>\n",
       "      <th>Longitude</th>\n",
       "    </tr>\n",
       "  </thead>\n",
       "  <tbody>\n",
       "    <tr>\n",
       "      <th>0</th>\n",
       "      <td>Melrose</td>\n",
       "      <td>40.824545</td>\n",
       "      <td>-73.910414</td>\n",
       "    </tr>\n",
       "    <tr>\n",
       "      <th>1</th>\n",
       "      <td>Mott Haven</td>\n",
       "      <td>40.808990</td>\n",
       "      <td>-73.922915</td>\n",
       "    </tr>\n",
       "    <tr>\n",
       "      <th>2</th>\n",
       "      <td>Port Morris</td>\n",
       "      <td>40.801515</td>\n",
       "      <td>-73.909581</td>\n",
       "    </tr>\n",
       "    <tr>\n",
       "      <th>3</th>\n",
       "      <td>Hunts Point</td>\n",
       "      <td>40.812601</td>\n",
       "      <td>-73.884025</td>\n",
       "    </tr>\n",
       "    <tr>\n",
       "      <th>5</th>\n",
       "      <td>Claremont</td>\n",
       "      <td>40.839876</td>\n",
       "      <td>-73.907328</td>\n",
       "    </tr>\n",
       "  </tbody>\n",
       "</table>\n",
       "</div>"
      ],
      "text/plain": [
       "  Neighborhood   Latitude  Longitude\n",
       "0      Melrose  40.824545 -73.910414\n",
       "1   Mott Haven  40.808990 -73.922915\n",
       "2  Port Morris  40.801515 -73.909581\n",
       "3  Hunts Point  40.812601 -73.884025\n",
       "5    Claremont  40.839876 -73.907328"
      ]
     },
     "execution_count": 36,
     "metadata": {},
     "output_type": "execute_result"
    }
   ],
   "source": [
    "dfny.head()"
   ]
  },
  {
   "cell_type": "code",
   "execution_count": 37,
   "metadata": {},
   "outputs": [
    {
     "data": {
      "text/html": [
       "<div>\n",
       "<style scoped>\n",
       "    .dataframe tbody tr th:only-of-type {\n",
       "        vertical-align: middle;\n",
       "    }\n",
       "\n",
       "    .dataframe tbody tr th {\n",
       "        vertical-align: top;\n",
       "    }\n",
       "\n",
       "    .dataframe thead th {\n",
       "        text-align: right;\n",
       "    }\n",
       "</style>\n",
       "<table border=\"1\" class=\"dataframe\">\n",
       "  <thead>\n",
       "    <tr style=\"text-align: right;\">\n",
       "      <th></th>\n",
       "      <th>Neighborhood</th>\n",
       "      <th>Latitude</th>\n",
       "      <th>Longitude</th>\n",
       "    </tr>\n",
       "  </thead>\n",
       "  <tbody>\n",
       "    <tr>\n",
       "      <th>308</th>\n",
       "      <td>Pleasant Plains</td>\n",
       "      <td>40.523994</td>\n",
       "      <td>-74.215700</td>\n",
       "    </tr>\n",
       "    <tr>\n",
       "      <th>309</th>\n",
       "      <td>Prince's Bay</td>\n",
       "      <td>40.528994</td>\n",
       "      <td>-74.197644</td>\n",
       "    </tr>\n",
       "    <tr>\n",
       "      <th>310</th>\n",
       "      <td>Richmond Valley</td>\n",
       "      <td>40.520105</td>\n",
       "      <td>-74.229311</td>\n",
       "    </tr>\n",
       "    <tr>\n",
       "      <th>311</th>\n",
       "      <td>Rossville</td>\n",
       "      <td>40.555624</td>\n",
       "      <td>-74.212898</td>\n",
       "    </tr>\n",
       "    <tr>\n",
       "      <th>313</th>\n",
       "      <td>Woodrow</td>\n",
       "      <td>40.543439</td>\n",
       "      <td>-74.197644</td>\n",
       "    </tr>\n",
       "  </tbody>\n",
       "</table>\n",
       "</div>"
      ],
      "text/plain": [
       "        Neighborhood   Latitude  Longitude\n",
       "308  Pleasant Plains  40.523994 -74.215700\n",
       "309     Prince's Bay  40.528994 -74.197644\n",
       "310  Richmond Valley  40.520105 -74.229311\n",
       "311        Rossville  40.555624 -74.212898\n",
       "313          Woodrow  40.543439 -74.197644"
      ]
     },
     "execution_count": 37,
     "metadata": {},
     "output_type": "execute_result"
    }
   ],
   "source": [
    "dfny.tail()"
   ]
  },
  {
   "cell_type": "code",
   "execution_count": 38,
   "metadata": {},
   "outputs": [],
   "source": [
    "dfny.reset_index(drop=True, inplace=True)"
   ]
  },
  {
   "cell_type": "code",
   "execution_count": 39,
   "metadata": {},
   "outputs": [
    {
     "data": {
      "text/plain": [
       "(255, 3)"
      ]
     },
     "execution_count": 39,
     "metadata": {},
     "output_type": "execute_result"
    }
   ],
   "source": [
    "# end - NYC data clean up\n",
    "\n",
    "dfny.shape"
   ]
  },
  {
   "cell_type": "code",
   "execution_count": 40,
   "metadata": {},
   "outputs": [],
   "source": [
    "# begin - NYC merge neighborhoods with similar lats & lngs\n",
    "\n",
    "dfgny = dfny.groupby(['Latitude', 'Longitude'], as_index=False).agg({'Neighborhood': lambda x: ','.join(x)})"
   ]
  },
  {
   "cell_type": "code",
   "execution_count": 41,
   "metadata": {},
   "outputs": [
    {
     "data": {
      "text/html": [
       "<div>\n",
       "<style scoped>\n",
       "    .dataframe tbody tr th:only-of-type {\n",
       "        vertical-align: middle;\n",
       "    }\n",
       "\n",
       "    .dataframe tbody tr th {\n",
       "        vertical-align: top;\n",
       "    }\n",
       "\n",
       "    .dataframe thead th {\n",
       "        text-align: right;\n",
       "    }\n",
       "</style>\n",
       "<table border=\"1\" class=\"dataframe\">\n",
       "  <thead>\n",
       "    <tr style=\"text-align: right;\">\n",
       "      <th></th>\n",
       "      <th>Latitude</th>\n",
       "      <th>Longitude</th>\n",
       "      <th>Neighborhood</th>\n",
       "    </tr>\n",
       "  </thead>\n",
       "  <tbody>\n",
       "    <tr>\n",
       "      <th>245</th>\n",
       "      <td>40.894444</td>\n",
       "      <td>-73.903333</td>\n",
       "      <td>Fieldston</td>\n",
       "    </tr>\n",
       "    <tr>\n",
       "      <th>246</th>\n",
       "      <td>40.897877</td>\n",
       "      <td>-73.852357</td>\n",
       "      <td>Wakefield</td>\n",
       "    </tr>\n",
       "    <tr>\n",
       "      <th>247</th>\n",
       "      <td>40.898155</td>\n",
       "      <td>-73.867357</td>\n",
       "      <td>Woodlawn</td>\n",
       "    </tr>\n",
       "    <tr>\n",
       "      <th>248</th>\n",
       "      <td>40.900560</td>\n",
       "      <td>-73.906390</td>\n",
       "      <td>Riverdale</td>\n",
       "    </tr>\n",
       "    <tr>\n",
       "      <th>249</th>\n",
       "      <td>40.909821</td>\n",
       "      <td>-73.807911</td>\n",
       "      <td>Pelham Gardens</td>\n",
       "    </tr>\n",
       "  </tbody>\n",
       "</table>\n",
       "</div>"
      ],
      "text/plain": [
       "      Latitude  Longitude    Neighborhood\n",
       "245  40.894444 -73.903333       Fieldston\n",
       "246  40.897877 -73.852357       Wakefield\n",
       "247  40.898155 -73.867357        Woodlawn\n",
       "248  40.900560 -73.906390       Riverdale\n",
       "249  40.909821 -73.807911  Pelham Gardens"
      ]
     },
     "execution_count": 41,
     "metadata": {},
     "output_type": "execute_result"
    }
   ],
   "source": [
    "dfgny.tail()"
   ]
  },
  {
   "cell_type": "code",
   "execution_count": 42,
   "metadata": {},
   "outputs": [
    {
     "name": "stderr",
     "output_type": "stream",
     "text": [
      "/Users/sudhirc/anaconda3/lib/python3.6/site-packages/ipykernel_launcher.py:1: UserWarning: This pattern has match groups. To actually get the groups, use str.extract.\n",
      "  \"\"\"Entry point for launching an IPython kernel.\n"
     ]
    },
    {
     "data": {
      "text/html": [
       "<div>\n",
       "<style scoped>\n",
       "    .dataframe tbody tr th:only-of-type {\n",
       "        vertical-align: middle;\n",
       "    }\n",
       "\n",
       "    .dataframe tbody tr th {\n",
       "        vertical-align: top;\n",
       "    }\n",
       "\n",
       "    .dataframe thead th {\n",
       "        text-align: right;\n",
       "    }\n",
       "</style>\n",
       "<table border=\"1\" class=\"dataframe\">\n",
       "  <thead>\n",
       "    <tr style=\"text-align: right;\">\n",
       "      <th></th>\n",
       "      <th>Latitude</th>\n",
       "      <th>Longitude</th>\n",
       "      <th>Neighborhood</th>\n",
       "    </tr>\n",
       "  </thead>\n",
       "  <tbody>\n",
       "    <tr>\n",
       "      <th>36</th>\n",
       "      <td>40.596134</td>\n",
       "      <td>-73.973943</td>\n",
       "      <td>Gravesend,East Gravesend</td>\n",
       "    </tr>\n",
       "    <tr>\n",
       "      <th>108</th>\n",
       "      <td>40.691485</td>\n",
       "      <td>-73.805677</td>\n",
       "      <td>Jamaica,South Jamaica</td>\n",
       "    </tr>\n",
       "    <tr>\n",
       "      <th>114</th>\n",
       "      <td>40.702185</td>\n",
       "      <td>-73.936434</td>\n",
       "      <td>Flushing South,East Flushing</td>\n",
       "    </tr>\n",
       "    <tr>\n",
       "      <th>124</th>\n",
       "      <td>40.713322</td>\n",
       "      <td>-73.782506</td>\n",
       "      <td>Jamaica Estates</td>\n",
       "    </tr>\n",
       "    <tr>\n",
       "      <th>160</th>\n",
       "      <td>40.744181</td>\n",
       "      <td>-73.835854</td>\n",
       "      <td>Flushing</td>\n",
       "    </tr>\n",
       "    <tr>\n",
       "      <th>162</th>\n",
       "      <td>40.746959</td>\n",
       "      <td>-73.860146</td>\n",
       "      <td>North Corona,Corona</td>\n",
       "    </tr>\n",
       "    <tr>\n",
       "      <th>181</th>\n",
       "      <td>40.772015</td>\n",
       "      <td>-73.930267</td>\n",
       "      <td>Astoria,Old Astoria</td>\n",
       "    </tr>\n",
       "  </tbody>\n",
       "</table>\n",
       "</div>"
      ],
      "text/plain": [
       "      Latitude  Longitude                  Neighborhood\n",
       "36   40.596134 -73.973943      Gravesend,East Gravesend\n",
       "108  40.691485 -73.805677         Jamaica,South Jamaica\n",
       "114  40.702185 -73.936434  Flushing South,East Flushing\n",
       "124  40.713322 -73.782506               Jamaica Estates\n",
       "160  40.744181 -73.835854                      Flushing\n",
       "162  40.746959 -73.860146           North Corona,Corona\n",
       "181  40.772015 -73.930267           Astoria,Old Astoria"
      ]
     },
     "execution_count": 42,
     "metadata": {},
     "output_type": "execute_result"
    }
   ],
   "source": [
    "dfgny.loc[dfgny['Neighborhood'].str.contains(r'(Grave|Astoria|Corona|Flushing|Jamaica)')]"
   ]
  },
  {
   "cell_type": "code",
   "execution_count": 43,
   "metadata": {},
   "outputs": [
    {
     "data": {
      "text/plain": [
       "pandas.core.frame.DataFrame"
      ]
     },
     "execution_count": 43,
     "metadata": {},
     "output_type": "execute_result"
    }
   ],
   "source": [
    "type(dfgny)"
   ]
  },
  {
   "cell_type": "code",
   "execution_count": 44,
   "metadata": {},
   "outputs": [
    {
     "data": {
      "text/plain": [
       "Index(['Latitude', 'Longitude', 'Neighborhood'], dtype='object')"
      ]
     },
     "execution_count": 44,
     "metadata": {},
     "output_type": "execute_result"
    }
   ],
   "source": [
    "dfgny.columns"
   ]
  },
  {
   "cell_type": "code",
   "execution_count": 45,
   "metadata": {},
   "outputs": [],
   "source": [
    "# end - NYC merge\n",
    "\n",
    "dfg_nyc = dfgny[['Neighborhood','Latitude', 'Longitude']]"
   ]
  },
  {
   "cell_type": "code",
   "execution_count": 46,
   "metadata": {},
   "outputs": [],
   "source": [
    "# begin - NYC map lats & lngs\n",
    "\n",
    "nyc_addr = \"New York, NY\"\n",
    "nyc_loc = geolocator.geocode(nyc_addr)\n",
    "nyc_lat = nyc_loc.latitude\n",
    "nyc_lng = nyc_loc.longitude"
   ]
  },
  {
   "cell_type": "code",
   "execution_count": 47,
   "metadata": {},
   "outputs": [],
   "source": [
    "map_nyc = folium.Map(location=[nyc_lat, nyc_lng], zoom_start=10)"
   ]
  },
  {
   "cell_type": "code",
   "execution_count": 48,
   "metadata": {},
   "outputs": [],
   "source": [
    "# adding markers for the neighborhoods on the map\n",
    "for lat, lng, neighborhood in zip(dfg_nyc['Latitude'], dfg_nyc['Longitude'], dfg_nyc['Neighborhood']):\n",
    "    label = '{}'.format(neighborhood) \n",
    "    label = folium.Popup(label, parse_html=True)\n",
    "    folium.CircleMarker(\n",
    "        [lat, lng],\n",
    "        radius=5,\n",
    "        popup=label,\n",
    "        color='blue',\n",
    "        fill=True,\n",
    "        fill_color='#3186cc', fill_opacity=0.7, parse_html=False).add_to(map_nyc)"
   ]
  },
  {
   "cell_type": "code",
   "execution_count": 49,
   "metadata": {},
   "outputs": [
    {
     "data": {
      "text/html": [
       "<div style=\"width:100%;\"><div style=\"position:relative;width:100%;height:0;padding-bottom:60%;\"><iframe src=\"data:text/html;charset=utf-8;base64,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\" style=\"position:absolute;width:100%;height:100%;left:0;top:0;border:none !important;\" allowfullscreen webkitallowfullscreen mozallowfullscreen></iframe></div></div>"
      ],
      "text/plain": [
       "<folium.folium.Map at 0x1a1b2b11d0>"
      ]
     },
     "execution_count": 49,
     "metadata": {},
     "output_type": "execute_result"
    }
   ],
   "source": [
    "# end - NYC map\n",
    "map_nyc"
   ]
  },
  {
   "cell_type": "code",
   "execution_count": 50,
   "metadata": {},
   "outputs": [
    {
     "name": "stdout",
     "output_type": "stream",
     "text": [
      "getting lats & lngs from disk\n"
     ]
    }
   ],
   "source": [
    "# begin - SFO get lats & lngs\n",
    "\n",
    "if not os.path.exists(dfsf_file):\n",
    "    \n",
    "    print('getting lats & lngs from net')\n",
    "    lats = []\n",
    "    lngs = []\n",
    "    neighs = []\n",
    "    missing_sf_neighs = []\n",
    "    \n",
    "    for loc in sfo_neighborhoods:\n",
    "            addr = loc + \", San Francisco, CA\"\n",
    "            #print(\"addr: \", addr)\n",
    "            location = geolocator.geocode(addr)\n",
    "            if (location is not None):\n",
    "                lat = location.latitude\n",
    "                lng = location.longitude\n",
    "                #print(\"addr {} is at lat: {}, lng: {}\".format(addr, lat,lng))\n",
    "                lats.append(lat)\n",
    "                lngs.append(lng)\n",
    "                neighs.append(loc)\n",
    "            else:\n",
    "                #print(\"could not find geocode for {}\".format(loc))\n",
    "                missing_sf_neighs.append(loc)\n",
    "                \n",
    "    dfsf = pd.DataFrame(list(zip(neighs,lats,lngs)), columns=['Neighborhood', 'Latitude', 'Longitude'])\n",
    "    dfsf.to_csv(dfsf_file, index=False)\n",
    "    \n",
    "else:\n",
    "    print('getting lats & lngs from disk')\n",
    "    dfsf = pd.read_csv(dfsf_file)"
   ]
  },
  {
   "cell_type": "code",
   "execution_count": 51,
   "metadata": {},
   "outputs": [
    {
     "data": {
      "text/plain": [
       "(83, 3)"
      ]
     },
     "execution_count": 51,
     "metadata": {},
     "output_type": "execute_result"
    }
   ],
   "source": [
    "dfsf.shape"
   ]
  },
  {
   "cell_type": "code",
   "execution_count": 52,
   "metadata": {},
   "outputs": [
    {
     "data": {
      "text/html": [
       "<div>\n",
       "<style scoped>\n",
       "    .dataframe tbody tr th:only-of-type {\n",
       "        vertical-align: middle;\n",
       "    }\n",
       "\n",
       "    .dataframe tbody tr th {\n",
       "        vertical-align: top;\n",
       "    }\n",
       "\n",
       "    .dataframe thead th {\n",
       "        text-align: right;\n",
       "    }\n",
       "</style>\n",
       "<table border=\"1\" class=\"dataframe\">\n",
       "  <thead>\n",
       "    <tr style=\"text-align: right;\">\n",
       "      <th></th>\n",
       "      <th>Neighborhood</th>\n",
       "      <th>Latitude</th>\n",
       "      <th>Longitude</th>\n",
       "    </tr>\n",
       "  </thead>\n",
       "  <tbody>\n",
       "    <tr>\n",
       "      <th>0</th>\n",
       "      <td>Alamo Square</td>\n",
       "      <td>37.776357</td>\n",
       "      <td>-122.434694</td>\n",
       "    </tr>\n",
       "    <tr>\n",
       "      <th>1</th>\n",
       "      <td>Anza Vista</td>\n",
       "      <td>37.780836</td>\n",
       "      <td>-122.443149</td>\n",
       "    </tr>\n",
       "    <tr>\n",
       "      <th>2</th>\n",
       "      <td>Balboa Park</td>\n",
       "      <td>37.724949</td>\n",
       "      <td>-122.444805</td>\n",
       "    </tr>\n",
       "    <tr>\n",
       "      <th>3</th>\n",
       "      <td>Bayview</td>\n",
       "      <td>37.728889</td>\n",
       "      <td>-122.392500</td>\n",
       "    </tr>\n",
       "    <tr>\n",
       "      <th>4</th>\n",
       "      <td>Belden Place</td>\n",
       "      <td>37.791744</td>\n",
       "      <td>-122.403886</td>\n",
       "    </tr>\n",
       "  </tbody>\n",
       "</table>\n",
       "</div>"
      ],
      "text/plain": [
       "   Neighborhood   Latitude   Longitude\n",
       "0  Alamo Square  37.776357 -122.434694\n",
       "1    Anza Vista  37.780836 -122.443149\n",
       "2   Balboa Park  37.724949 -122.444805\n",
       "3       Bayview  37.728889 -122.392500\n",
       "4  Belden Place  37.791744 -122.403886"
      ]
     },
     "execution_count": 52,
     "metadata": {},
     "output_type": "execute_result"
    }
   ],
   "source": [
    "dfsf.iloc[0:5]"
   ]
  },
  {
   "cell_type": "code",
   "execution_count": 53,
   "metadata": {},
   "outputs": [
    {
     "data": {
      "text/html": [
       "<div>\n",
       "<style scoped>\n",
       "    .dataframe tbody tr th:only-of-type {\n",
       "        vertical-align: middle;\n",
       "    }\n",
       "\n",
       "    .dataframe tbody tr th {\n",
       "        vertical-align: top;\n",
       "    }\n",
       "\n",
       "    .dataframe thead th {\n",
       "        text-align: right;\n",
       "    }\n",
       "</style>\n",
       "<table border=\"1\" class=\"dataframe\">\n",
       "  <thead>\n",
       "    <tr style=\"text-align: right;\">\n",
       "      <th></th>\n",
       "      <th>Neighborhood</th>\n",
       "      <th>Latitude</th>\n",
       "      <th>Longitude</th>\n",
       "    </tr>\n",
       "  </thead>\n",
       "  <tbody>\n",
       "    <tr>\n",
       "      <th>78</th>\n",
       "      <td>Union Square</td>\n",
       "      <td>37.787936</td>\n",
       "      <td>-122.407517</td>\n",
       "    </tr>\n",
       "    <tr>\n",
       "      <th>79</th>\n",
       "      <td>Visitacion Valley</td>\n",
       "      <td>37.712132</td>\n",
       "      <td>-122.409713</td>\n",
       "    </tr>\n",
       "    <tr>\n",
       "      <th>80</th>\n",
       "      <td>West Portal</td>\n",
       "      <td>37.741141</td>\n",
       "      <td>-122.465634</td>\n",
       "    </tr>\n",
       "    <tr>\n",
       "      <th>81</th>\n",
       "      <td>Western Addition</td>\n",
       "      <td>37.779559</td>\n",
       "      <td>-122.429810</td>\n",
       "    </tr>\n",
       "    <tr>\n",
       "      <th>82</th>\n",
       "      <td>Yerba Buena</td>\n",
       "      <td>-5.735634</td>\n",
       "      <td>-79.043992</td>\n",
       "    </tr>\n",
       "  </tbody>\n",
       "</table>\n",
       "</div>"
      ],
      "text/plain": [
       "         Neighborhood   Latitude   Longitude\n",
       "78       Union Square  37.787936 -122.407517\n",
       "79  Visitacion Valley  37.712132 -122.409713\n",
       "80        West Portal  37.741141 -122.465634\n",
       "81   Western Addition  37.779559 -122.429810\n",
       "82        Yerba Buena  -5.735634  -79.043992"
      ]
     },
     "execution_count": 53,
     "metadata": {},
     "output_type": "execute_result"
    }
   ],
   "source": [
    "# end - SFO get lats & lngs\n",
    "dfsf.iloc[-5:]"
   ]
  },
  {
   "cell_type": "code",
   "execution_count": 54,
   "metadata": {},
   "outputs": [],
   "source": [
    "# begin - SFO data clean up\n",
    "\n",
    "dfsf.drop_duplicates(keep='first', inplace=True)"
   ]
  },
  {
   "cell_type": "code",
   "execution_count": 56,
   "metadata": {},
   "outputs": [],
   "source": [
    "# clean up outliers - likely from the geocoder not getting the address right\n",
    "\n",
    "# Lngs IQR\n",
    "sf_lng_Q1 = dfsf['Longitude'].quantile(.25)\n",
    "sf_lng_Q3 = dfsf['Longitude'].quantile(.75)\n",
    "sf_lng_IQR = sf_lng_Q3 - sf_lng_Q1\n",
    "\n",
    "# Lats IQR\n",
    "sf_lat_Q1 = dfsf['Latitude'].quantile(.25)\n",
    "sf_lat_Q3 = dfsf['Latitude'].quantile(.75)\n",
    "sf_lat_IQR = sf_lat_Q3 - sf_lat_Q1"
   ]
  },
  {
   "cell_type": "code",
   "execution_count": 57,
   "metadata": {},
   "outputs": [],
   "source": [
    "# drop longitude outliers\n",
    "\n",
    "dfsf.drop(dfsf[(dfsf['Longitude'] > (sf_lng_Q3 + 1.5 * sf_lng_IQR)) | (dfsf['Longitude'] < (sf_lng_Q1 - 1.5 * sf_lng_IQR))].index, axis=0, inplace=True)"
   ]
  },
  {
   "cell_type": "code",
   "execution_count": 58,
   "metadata": {},
   "outputs": [],
   "source": [
    "# drop latitide outliers\n",
    "\n",
    "dfsf.drop(dfsf[(dfsf['Latitude'] > (sf_lat_Q3 + 1.5 * sf_lat_IQR)) | (dfsf['Latitude'] < (sf_lat_Q1 - 1.5 * sf_lat_IQR))].index, axis=0, inplace=True)"
   ]
  },
  {
   "cell_type": "code",
   "execution_count": 60,
   "metadata": {},
   "outputs": [
    {
     "data": {
      "text/html": [
       "<div>\n",
       "<style scoped>\n",
       "    .dataframe tbody tr th:only-of-type {\n",
       "        vertical-align: middle;\n",
       "    }\n",
       "\n",
       "    .dataframe tbody tr th {\n",
       "        vertical-align: top;\n",
       "    }\n",
       "\n",
       "    .dataframe thead th {\n",
       "        text-align: right;\n",
       "    }\n",
       "</style>\n",
       "<table border=\"1\" class=\"dataframe\">\n",
       "  <thead>\n",
       "    <tr style=\"text-align: right;\">\n",
       "      <th></th>\n",
       "      <th>Neighborhood</th>\n",
       "      <th>Latitude</th>\n",
       "      <th>Longitude</th>\n",
       "    </tr>\n",
       "  </thead>\n",
       "  <tbody>\n",
       "    <tr>\n",
       "      <th>0</th>\n",
       "      <td>Alamo Square</td>\n",
       "      <td>37.776357</td>\n",
       "      <td>-122.434694</td>\n",
       "    </tr>\n",
       "    <tr>\n",
       "      <th>1</th>\n",
       "      <td>Anza Vista</td>\n",
       "      <td>37.780836</td>\n",
       "      <td>-122.443149</td>\n",
       "    </tr>\n",
       "    <tr>\n",
       "      <th>2</th>\n",
       "      <td>Balboa Park</td>\n",
       "      <td>37.724949</td>\n",
       "      <td>-122.444805</td>\n",
       "    </tr>\n",
       "    <tr>\n",
       "      <th>3</th>\n",
       "      <td>Bayview</td>\n",
       "      <td>37.728889</td>\n",
       "      <td>-122.392500</td>\n",
       "    </tr>\n",
       "    <tr>\n",
       "      <th>4</th>\n",
       "      <td>Belden Place</td>\n",
       "      <td>37.791744</td>\n",
       "      <td>-122.403886</td>\n",
       "    </tr>\n",
       "  </tbody>\n",
       "</table>\n",
       "</div>"
      ],
      "text/plain": [
       "   Neighborhood   Latitude   Longitude\n",
       "0  Alamo Square  37.776357 -122.434694\n",
       "1    Anza Vista  37.780836 -122.443149\n",
       "2   Balboa Park  37.724949 -122.444805\n",
       "3       Bayview  37.728889 -122.392500\n",
       "4  Belden Place  37.791744 -122.403886"
      ]
     },
     "execution_count": 60,
     "metadata": {},
     "output_type": "execute_result"
    }
   ],
   "source": [
    "dfsf.head()"
   ]
  },
  {
   "cell_type": "code",
   "execution_count": 61,
   "metadata": {},
   "outputs": [
    {
     "data": {
      "text/html": [
       "<div>\n",
       "<style scoped>\n",
       "    .dataframe tbody tr th:only-of-type {\n",
       "        vertical-align: middle;\n",
       "    }\n",
       "\n",
       "    .dataframe tbody tr th {\n",
       "        vertical-align: top;\n",
       "    }\n",
       "\n",
       "    .dataframe thead th {\n",
       "        text-align: right;\n",
       "    }\n",
       "</style>\n",
       "<table border=\"1\" class=\"dataframe\">\n",
       "  <thead>\n",
       "    <tr style=\"text-align: right;\">\n",
       "      <th></th>\n",
       "      <th>Neighborhood</th>\n",
       "      <th>Latitude</th>\n",
       "      <th>Longitude</th>\n",
       "    </tr>\n",
       "  </thead>\n",
       "  <tbody>\n",
       "    <tr>\n",
       "      <th>77</th>\n",
       "      <td>Twin Peaks</td>\n",
       "      <td>37.754640</td>\n",
       "      <td>-122.446480</td>\n",
       "    </tr>\n",
       "    <tr>\n",
       "      <th>78</th>\n",
       "      <td>Union Square</td>\n",
       "      <td>37.787936</td>\n",
       "      <td>-122.407517</td>\n",
       "    </tr>\n",
       "    <tr>\n",
       "      <th>79</th>\n",
       "      <td>Visitacion Valley</td>\n",
       "      <td>37.712132</td>\n",
       "      <td>-122.409713</td>\n",
       "    </tr>\n",
       "    <tr>\n",
       "      <th>80</th>\n",
       "      <td>West Portal</td>\n",
       "      <td>37.741141</td>\n",
       "      <td>-122.465634</td>\n",
       "    </tr>\n",
       "    <tr>\n",
       "      <th>81</th>\n",
       "      <td>Western Addition</td>\n",
       "      <td>37.779559</td>\n",
       "      <td>-122.429810</td>\n",
       "    </tr>\n",
       "  </tbody>\n",
       "</table>\n",
       "</div>"
      ],
      "text/plain": [
       "         Neighborhood   Latitude   Longitude\n",
       "77         Twin Peaks  37.754640 -122.446480\n",
       "78       Union Square  37.787936 -122.407517\n",
       "79  Visitacion Valley  37.712132 -122.409713\n",
       "80        West Portal  37.741141 -122.465634\n",
       "81   Western Addition  37.779559 -122.429810"
      ]
     },
     "execution_count": 61,
     "metadata": {},
     "output_type": "execute_result"
    }
   ],
   "source": [
    "dfsf.tail()"
   ]
  },
  {
   "cell_type": "code",
   "execution_count": 62,
   "metadata": {},
   "outputs": [],
   "source": [
    "dfsf.reset_index(drop=True, inplace=True)"
   ]
  },
  {
   "cell_type": "code",
   "execution_count": 63,
   "metadata": {},
   "outputs": [],
   "source": [
    "# merge neighborhoods with similar lats & lngs\n",
    "\n",
    "dfgsf = dfsf.groupby(['Latitude', 'Longitude'], as_index=False).agg({'Neighborhood': lambda x: ','.join(x)})"
   ]
  },
  {
   "cell_type": "code",
   "execution_count": 64,
   "metadata": {},
   "outputs": [
    {
     "data": {
      "text/plain": [
       "(79, 3)"
      ]
     },
     "execution_count": 64,
     "metadata": {},
     "output_type": "execute_result"
    }
   ],
   "source": [
    "dfgsf.shape"
   ]
  },
  {
   "cell_type": "code",
   "execution_count": 65,
   "metadata": {},
   "outputs": [
    {
     "data": {
      "text/html": [
       "<div>\n",
       "<style scoped>\n",
       "    .dataframe tbody tr th:only-of-type {\n",
       "        vertical-align: middle;\n",
       "    }\n",
       "\n",
       "    .dataframe tbody tr th {\n",
       "        vertical-align: top;\n",
       "    }\n",
       "\n",
       "    .dataframe thead th {\n",
       "        text-align: right;\n",
       "    }\n",
       "</style>\n",
       "<table border=\"1\" class=\"dataframe\">\n",
       "  <thead>\n",
       "    <tr style=\"text-align: right;\">\n",
       "      <th></th>\n",
       "      <th>Latitude</th>\n",
       "      <th>Longitude</th>\n",
       "      <th>Neighborhood</th>\n",
       "    </tr>\n",
       "  </thead>\n",
       "  <tbody>\n",
       "    <tr>\n",
       "      <th>74</th>\n",
       "      <td>37.802730</td>\n",
       "      <td>-122.405851</td>\n",
       "      <td>Telegraph Hill</td>\n",
       "    </tr>\n",
       "    <tr>\n",
       "      <th>75</th>\n",
       "      <td>37.802984</td>\n",
       "      <td>-122.437472</td>\n",
       "      <td>Marina District</td>\n",
       "    </tr>\n",
       "    <tr>\n",
       "      <th>76</th>\n",
       "      <td>37.806532</td>\n",
       "      <td>-122.420649</td>\n",
       "      <td>Buena Vista</td>\n",
       "    </tr>\n",
       "    <tr>\n",
       "      <th>77</th>\n",
       "      <td>37.809167</td>\n",
       "      <td>-122.416599</td>\n",
       "      <td>Fisherman's Wharf</td>\n",
       "    </tr>\n",
       "    <tr>\n",
       "      <th>78</th>\n",
       "      <td>37.823354</td>\n",
       "      <td>-122.370153</td>\n",
       "      <td>Treasure Island</td>\n",
       "    </tr>\n",
       "  </tbody>\n",
       "</table>\n",
       "</div>"
      ],
      "text/plain": [
       "     Latitude   Longitude       Neighborhood\n",
       "74  37.802730 -122.405851     Telegraph Hill\n",
       "75  37.802984 -122.437472    Marina District\n",
       "76  37.806532 -122.420649        Buena Vista\n",
       "77  37.809167 -122.416599  Fisherman's Wharf\n",
       "78  37.823354 -122.370153    Treasure Island"
      ]
     },
     "execution_count": 65,
     "metadata": {},
     "output_type": "execute_result"
    }
   ],
   "source": [
    "dfgsf.tail()"
   ]
  },
  {
   "cell_type": "code",
   "execution_count": 66,
   "metadata": {},
   "outputs": [
    {
     "name": "stderr",
     "output_type": "stream",
     "text": [
      "/Users/sudhirc/anaconda3/lib/python3.6/site-packages/ipykernel_launcher.py:1: UserWarning: This pattern has match groups. To actually get the groups, use str.extract.\n",
      "  \"\"\"Entry point for launching an IPython kernel.\n"
     ]
    },
    {
     "data": {
      "text/html": [
       "<div>\n",
       "<style scoped>\n",
       "    .dataframe tbody tr th:only-of-type {\n",
       "        vertical-align: middle;\n",
       "    }\n",
       "\n",
       "    .dataframe tbody tr th {\n",
       "        vertical-align: top;\n",
       "    }\n",
       "\n",
       "    .dataframe thead th {\n",
       "        text-align: right;\n",
       "    }\n",
       "</style>\n",
       "<table border=\"1\" class=\"dataframe\">\n",
       "  <thead>\n",
       "    <tr style=\"text-align: right;\">\n",
       "      <th></th>\n",
       "      <th>Latitude</th>\n",
       "      <th>Longitude</th>\n",
       "      <th>Neighborhood</th>\n",
       "    </tr>\n",
       "  </thead>\n",
       "  <tbody>\n",
       "    <tr>\n",
       "      <th>8</th>\n",
       "      <td>37.726379</td>\n",
       "      <td>-122.408551</td>\n",
       "      <td>Portola,Portola Place</td>\n",
       "    </tr>\n",
       "    <tr>\n",
       "      <th>68</th>\n",
       "      <td>37.793647</td>\n",
       "      <td>-122.398938</td>\n",
       "      <td>Financial District,Financial District South</td>\n",
       "    </tr>\n",
       "  </tbody>\n",
       "</table>\n",
       "</div>"
      ],
      "text/plain": [
       "     Latitude   Longitude                                 Neighborhood\n",
       "8   37.726379 -122.408551                        Portola,Portola Place\n",
       "68  37.793647 -122.398938  Financial District,Financial District South"
      ]
     },
     "execution_count": 66,
     "metadata": {},
     "output_type": "execute_result"
    }
   ],
   "source": [
    "dfgsf.loc[dfgsf['Neighborhood'].str.contains(r'(Portola|Financial)')]"
   ]
  },
  {
   "cell_type": "code",
   "execution_count": 67,
   "metadata": {},
   "outputs": [
    {
     "data": {
      "text/plain": [
       "Index(['Latitude', 'Longitude', 'Neighborhood'], dtype='object')"
      ]
     },
     "execution_count": 67,
     "metadata": {},
     "output_type": "execute_result"
    }
   ],
   "source": [
    "dfgsf.columns"
   ]
  },
  {
   "cell_type": "code",
   "execution_count": 68,
   "metadata": {},
   "outputs": [],
   "source": [
    "dfg_sfo = dfgsf[['Neighborhood','Latitude', 'Longitude']]"
   ]
  },
  {
   "cell_type": "code",
   "execution_count": 69,
   "metadata": {},
   "outputs": [
    {
     "data": {
      "text/plain": [
       "(79, 3)"
      ]
     },
     "execution_count": 69,
     "metadata": {},
     "output_type": "execute_result"
    }
   ],
   "source": [
    "# end - SFO clean up and merge\n",
    "dfg_sfo.shape"
   ]
  },
  {
   "cell_type": "code",
   "execution_count": 70,
   "metadata": {},
   "outputs": [],
   "source": [
    "sfo_addr = \"San Francisco, CA\"\n",
    "sfo_loc = geolocator.geocode(sfo_addr)\n",
    "sfo_lat = sfo_loc.latitude\n",
    "sfo_lng = sfo_loc.longitude"
   ]
  },
  {
   "cell_type": "code",
   "execution_count": 71,
   "metadata": {},
   "outputs": [],
   "source": [
    "map_sfo = folium.Map(location=[sfo_lat, sfo_lng], zoom_start=10)"
   ]
  },
  {
   "cell_type": "code",
   "execution_count": 72,
   "metadata": {},
   "outputs": [],
   "source": [
    "# adding markers for the neighborhoods on the map\n",
    "for lat, lng, neighborhood in zip(dfg_sfo['Latitude'], dfg_sfo['Longitude'], dfg_sfo['Neighborhood']):\n",
    "    label = '{}'.format(neighborhood) \n",
    "    label = folium.Popup(label, parse_html=True)\n",
    "    folium.CircleMarker(\n",
    "        [lat, lng],\n",
    "        radius=5,\n",
    "        popup=label,\n",
    "        color='blue',\n",
    "        fill=True,\n",
    "        fill_color='#3186cc', fill_opacity=0.7, parse_html=False).add_to(map_sfo)"
   ]
  },
  {
   "cell_type": "code",
   "execution_count": 73,
   "metadata": {},
   "outputs": [
    {
     "data": {
      "text/html": [
       "<div style=\"width:100%;\"><div style=\"position:relative;width:100%;height:0;padding-bottom:60%;\"><iframe src=\"data:text/html;charset=utf-8;base64,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\" style=\"position:absolute;width:100%;height:100%;left:0;top:0;border:none !important;\" allowfullscreen webkitallowfullscreen mozallowfullscreen></iframe></div></div>"
      ],
      "text/plain": [
       "<folium.folium.Map at 0x1a1c03d208>"
      ]
     },
     "execution_count": 73,
     "metadata": {},
     "output_type": "execute_result"
    }
   ],
   "source": [
    "map_sfo"
   ]
  },
  {
   "cell_type": "code",
   "execution_count": 75,
   "metadata": {},
   "outputs": [
    {
     "data": {
      "text/html": [
       "<div>\n",
       "<style scoped>\n",
       "    .dataframe tbody tr th:only-of-type {\n",
       "        vertical-align: middle;\n",
       "    }\n",
       "\n",
       "    .dataframe tbody tr th {\n",
       "        vertical-align: top;\n",
       "    }\n",
       "\n",
       "    .dataframe thead th {\n",
       "        text-align: right;\n",
       "    }\n",
       "</style>\n",
       "<table border=\"1\" class=\"dataframe\">\n",
       "  <thead>\n",
       "    <tr style=\"text-align: right;\">\n",
       "      <th></th>\n",
       "      <th>Neighborhood</th>\n",
       "      <th>Latitude</th>\n",
       "      <th>Longitude</th>\n",
       "    </tr>\n",
       "  </thead>\n",
       "  <tbody>\n",
       "    <tr>\n",
       "      <th>0</th>\n",
       "      <td>Crocker-Amazon</td>\n",
       "      <td>37.709378</td>\n",
       "      <td>-122.438587</td>\n",
       "    </tr>\n",
       "    <tr>\n",
       "      <th>1</th>\n",
       "      <td>Sunnydale</td>\n",
       "      <td>37.709519</td>\n",
       "      <td>-122.404779</td>\n",
       "    </tr>\n",
       "    <tr>\n",
       "      <th>2</th>\n",
       "      <td>Visitacion Valley</td>\n",
       "      <td>37.712132</td>\n",
       "      <td>-122.409713</td>\n",
       "    </tr>\n",
       "    <tr>\n",
       "      <th>3</th>\n",
       "      <td>Oceanview</td>\n",
       "      <td>37.713651</td>\n",
       "      <td>-122.457483</td>\n",
       "    </tr>\n",
       "    <tr>\n",
       "      <th>4</th>\n",
       "      <td>Parkmerced</td>\n",
       "      <td>37.717176</td>\n",
       "      <td>-122.478947</td>\n",
       "    </tr>\n",
       "  </tbody>\n",
       "</table>\n",
       "</div>"
      ],
      "text/plain": [
       "        Neighborhood   Latitude   Longitude\n",
       "0     Crocker-Amazon  37.709378 -122.438587\n",
       "1          Sunnydale  37.709519 -122.404779\n",
       "2  Visitacion Valley  37.712132 -122.409713\n",
       "3          Oceanview  37.713651 -122.457483\n",
       "4         Parkmerced  37.717176 -122.478947"
      ]
     },
     "execution_count": 75,
     "metadata": {},
     "output_type": "execute_result"
    }
   ],
   "source": [
    "# combine NYC and SFO into a dataframe ; add city column\n",
    "\n",
    "dfg_sfo.head()"
   ]
  },
  {
   "cell_type": "code",
   "execution_count": 76,
   "metadata": {},
   "outputs": [
    {
     "data": {
      "text/html": [
       "<div>\n",
       "<style scoped>\n",
       "    .dataframe tbody tr th:only-of-type {\n",
       "        vertical-align: middle;\n",
       "    }\n",
       "\n",
       "    .dataframe tbody tr th {\n",
       "        vertical-align: top;\n",
       "    }\n",
       "\n",
       "    .dataframe thead th {\n",
       "        text-align: right;\n",
       "    }\n",
       "</style>\n",
       "<table border=\"1\" class=\"dataframe\">\n",
       "  <thead>\n",
       "    <tr style=\"text-align: right;\">\n",
       "      <th></th>\n",
       "      <th>Neighborhood</th>\n",
       "      <th>Latitude</th>\n",
       "      <th>Longitude</th>\n",
       "    </tr>\n",
       "  </thead>\n",
       "  <tbody>\n",
       "    <tr>\n",
       "      <th>0</th>\n",
       "      <td>Richmond Valley</td>\n",
       "      <td>40.520105</td>\n",
       "      <td>-74.229311</td>\n",
       "    </tr>\n",
       "    <tr>\n",
       "      <th>1</th>\n",
       "      <td>Pleasant Plains</td>\n",
       "      <td>40.523994</td>\n",
       "      <td>-74.215700</td>\n",
       "    </tr>\n",
       "    <tr>\n",
       "      <th>2</th>\n",
       "      <td>Prince's Bay</td>\n",
       "      <td>40.528994</td>\n",
       "      <td>-74.197644</td>\n",
       "    </tr>\n",
       "    <tr>\n",
       "      <th>3</th>\n",
       "      <td>Charleston</td>\n",
       "      <td>40.536772</td>\n",
       "      <td>-74.237367</td>\n",
       "    </tr>\n",
       "    <tr>\n",
       "      <th>4</th>\n",
       "      <td>Huguenot</td>\n",
       "      <td>40.537328</td>\n",
       "      <td>-74.194588</td>\n",
       "    </tr>\n",
       "  </tbody>\n",
       "</table>\n",
       "</div>"
      ],
      "text/plain": [
       "      Neighborhood   Latitude  Longitude\n",
       "0  Richmond Valley  40.520105 -74.229311\n",
       "1  Pleasant Plains  40.523994 -74.215700\n",
       "2     Prince's Bay  40.528994 -74.197644\n",
       "3       Charleston  40.536772 -74.237367\n",
       "4         Huguenot  40.537328 -74.194588"
      ]
     },
     "execution_count": 76,
     "metadata": {},
     "output_type": "execute_result"
    }
   ],
   "source": [
    "dfg_nyc.head()"
   ]
  },
  {
   "cell_type": "code",
   "execution_count": 77,
   "metadata": {},
   "outputs": [
    {
     "name": "stderr",
     "output_type": "stream",
     "text": [
      "/Users/sudhirc/anaconda3/lib/python3.6/site-packages/ipykernel_launcher.py:1: SettingWithCopyWarning: \n",
      "A value is trying to be set on a copy of a slice from a DataFrame.\n",
      "Try using .loc[row_indexer,col_indexer] = value instead\n",
      "\n",
      "See the caveats in the documentation: http://pandas.pydata.org/pandas-docs/stable/indexing.html#indexing-view-versus-copy\n",
      "  \"\"\"Entry point for launching an IPython kernel.\n"
     ]
    }
   ],
   "source": [
    "dfg_nyc['City'] = 'New York'"
   ]
  },
  {
   "cell_type": "code",
   "execution_count": 78,
   "metadata": {},
   "outputs": [
    {
     "data": {
      "text/html": [
       "<div>\n",
       "<style scoped>\n",
       "    .dataframe tbody tr th:only-of-type {\n",
       "        vertical-align: middle;\n",
       "    }\n",
       "\n",
       "    .dataframe tbody tr th {\n",
       "        vertical-align: top;\n",
       "    }\n",
       "\n",
       "    .dataframe thead th {\n",
       "        text-align: right;\n",
       "    }\n",
       "</style>\n",
       "<table border=\"1\" class=\"dataframe\">\n",
       "  <thead>\n",
       "    <tr style=\"text-align: right;\">\n",
       "      <th></th>\n",
       "      <th>Neighborhood</th>\n",
       "      <th>Latitude</th>\n",
       "      <th>Longitude</th>\n",
       "      <th>City</th>\n",
       "    </tr>\n",
       "  </thead>\n",
       "  <tbody>\n",
       "    <tr>\n",
       "      <th>0</th>\n",
       "      <td>Richmond Valley</td>\n",
       "      <td>40.520105</td>\n",
       "      <td>-74.229311</td>\n",
       "      <td>New York</td>\n",
       "    </tr>\n",
       "    <tr>\n",
       "      <th>1</th>\n",
       "      <td>Pleasant Plains</td>\n",
       "      <td>40.523994</td>\n",
       "      <td>-74.215700</td>\n",
       "      <td>New York</td>\n",
       "    </tr>\n",
       "    <tr>\n",
       "      <th>2</th>\n",
       "      <td>Prince's Bay</td>\n",
       "      <td>40.528994</td>\n",
       "      <td>-74.197644</td>\n",
       "      <td>New York</td>\n",
       "    </tr>\n",
       "    <tr>\n",
       "      <th>3</th>\n",
       "      <td>Charleston</td>\n",
       "      <td>40.536772</td>\n",
       "      <td>-74.237367</td>\n",
       "      <td>New York</td>\n",
       "    </tr>\n",
       "    <tr>\n",
       "      <th>4</th>\n",
       "      <td>Huguenot</td>\n",
       "      <td>40.537328</td>\n",
       "      <td>-74.194588</td>\n",
       "      <td>New York</td>\n",
       "    </tr>\n",
       "  </tbody>\n",
       "</table>\n",
       "</div>"
      ],
      "text/plain": [
       "      Neighborhood   Latitude  Longitude      City\n",
       "0  Richmond Valley  40.520105 -74.229311  New York\n",
       "1  Pleasant Plains  40.523994 -74.215700  New York\n",
       "2     Prince's Bay  40.528994 -74.197644  New York\n",
       "3       Charleston  40.536772 -74.237367  New York\n",
       "4         Huguenot  40.537328 -74.194588  New York"
      ]
     },
     "execution_count": 78,
     "metadata": {},
     "output_type": "execute_result"
    }
   ],
   "source": [
    "dfg_nyc.head()"
   ]
  },
  {
   "cell_type": "code",
   "execution_count": 79,
   "metadata": {},
   "outputs": [
    {
     "name": "stderr",
     "output_type": "stream",
     "text": [
      "/Users/sudhirc/anaconda3/lib/python3.6/site-packages/ipykernel_launcher.py:1: SettingWithCopyWarning: \n",
      "A value is trying to be set on a copy of a slice from a DataFrame.\n",
      "Try using .loc[row_indexer,col_indexer] = value instead\n",
      "\n",
      "See the caveats in the documentation: http://pandas.pydata.org/pandas-docs/stable/indexing.html#indexing-view-versus-copy\n",
      "  \"\"\"Entry point for launching an IPython kernel.\n"
     ]
    }
   ],
   "source": [
    "dfg_sfo['City'] = 'San Francisco'"
   ]
  },
  {
   "cell_type": "code",
   "execution_count": 80,
   "metadata": {},
   "outputs": [
    {
     "data": {
      "text/html": [
       "<div>\n",
       "<style scoped>\n",
       "    .dataframe tbody tr th:only-of-type {\n",
       "        vertical-align: middle;\n",
       "    }\n",
       "\n",
       "    .dataframe tbody tr th {\n",
       "        vertical-align: top;\n",
       "    }\n",
       "\n",
       "    .dataframe thead th {\n",
       "        text-align: right;\n",
       "    }\n",
       "</style>\n",
       "<table border=\"1\" class=\"dataframe\">\n",
       "  <thead>\n",
       "    <tr style=\"text-align: right;\">\n",
       "      <th></th>\n",
       "      <th>Neighborhood</th>\n",
       "      <th>Latitude</th>\n",
       "      <th>Longitude</th>\n",
       "      <th>City</th>\n",
       "    </tr>\n",
       "  </thead>\n",
       "  <tbody>\n",
       "    <tr>\n",
       "      <th>0</th>\n",
       "      <td>Crocker-Amazon</td>\n",
       "      <td>37.709378</td>\n",
       "      <td>-122.438587</td>\n",
       "      <td>San Francisco</td>\n",
       "    </tr>\n",
       "    <tr>\n",
       "      <th>1</th>\n",
       "      <td>Sunnydale</td>\n",
       "      <td>37.709519</td>\n",
       "      <td>-122.404779</td>\n",
       "      <td>San Francisco</td>\n",
       "    </tr>\n",
       "    <tr>\n",
       "      <th>2</th>\n",
       "      <td>Visitacion Valley</td>\n",
       "      <td>37.712132</td>\n",
       "      <td>-122.409713</td>\n",
       "      <td>San Francisco</td>\n",
       "    </tr>\n",
       "    <tr>\n",
       "      <th>3</th>\n",
       "      <td>Oceanview</td>\n",
       "      <td>37.713651</td>\n",
       "      <td>-122.457483</td>\n",
       "      <td>San Francisco</td>\n",
       "    </tr>\n",
       "    <tr>\n",
       "      <th>4</th>\n",
       "      <td>Parkmerced</td>\n",
       "      <td>37.717176</td>\n",
       "      <td>-122.478947</td>\n",
       "      <td>San Francisco</td>\n",
       "    </tr>\n",
       "  </tbody>\n",
       "</table>\n",
       "</div>"
      ],
      "text/plain": [
       "        Neighborhood   Latitude   Longitude           City\n",
       "0     Crocker-Amazon  37.709378 -122.438587  San Francisco\n",
       "1          Sunnydale  37.709519 -122.404779  San Francisco\n",
       "2  Visitacion Valley  37.712132 -122.409713  San Francisco\n",
       "3          Oceanview  37.713651 -122.457483  San Francisco\n",
       "4         Parkmerced  37.717176 -122.478947  San Francisco"
      ]
     },
     "execution_count": 80,
     "metadata": {},
     "output_type": "execute_result"
    }
   ],
   "source": [
    "dfg_sfo.head()"
   ]
  },
  {
   "cell_type": "code",
   "execution_count": 81,
   "metadata": {},
   "outputs": [
    {
     "data": {
      "text/plain": [
       "(79, 4)"
      ]
     },
     "execution_count": 81,
     "metadata": {},
     "output_type": "execute_result"
    }
   ],
   "source": [
    "dfg_sfo.shape"
   ]
  },
  {
   "cell_type": "code",
   "execution_count": 82,
   "metadata": {},
   "outputs": [
    {
     "data": {
      "text/plain": [
       "(250, 4)"
      ]
     },
     "execution_count": 82,
     "metadata": {},
     "output_type": "execute_result"
    }
   ],
   "source": [
    "dfg_nyc.shape"
   ]
  },
  {
   "cell_type": "code",
   "execution_count": 83,
   "metadata": {},
   "outputs": [],
   "source": [
    "df = pd.concat([dfg_nyc, dfg_sfo], ignore_index=True)"
   ]
  },
  {
   "cell_type": "code",
   "execution_count": 84,
   "metadata": {},
   "outputs": [
    {
     "data": {
      "text/plain": [
       "(329, 4)"
      ]
     },
     "execution_count": 84,
     "metadata": {},
     "output_type": "execute_result"
    }
   ],
   "source": [
    "df.shape"
   ]
  },
  {
   "cell_type": "code",
   "execution_count": 85,
   "metadata": {},
   "outputs": [
    {
     "data": {
      "text/html": [
       "<div>\n",
       "<style scoped>\n",
       "    .dataframe tbody tr th:only-of-type {\n",
       "        vertical-align: middle;\n",
       "    }\n",
       "\n",
       "    .dataframe tbody tr th {\n",
       "        vertical-align: top;\n",
       "    }\n",
       "\n",
       "    .dataframe thead th {\n",
       "        text-align: right;\n",
       "    }\n",
       "</style>\n",
       "<table border=\"1\" class=\"dataframe\">\n",
       "  <thead>\n",
       "    <tr style=\"text-align: right;\">\n",
       "      <th></th>\n",
       "      <th>Neighborhood</th>\n",
       "      <th>Latitude</th>\n",
       "      <th>Longitude</th>\n",
       "      <th>City</th>\n",
       "    </tr>\n",
       "  </thead>\n",
       "  <tbody>\n",
       "    <tr>\n",
       "      <th>0</th>\n",
       "      <td>Richmond Valley</td>\n",
       "      <td>40.520105</td>\n",
       "      <td>-74.229311</td>\n",
       "      <td>New York</td>\n",
       "    </tr>\n",
       "    <tr>\n",
       "      <th>1</th>\n",
       "      <td>Pleasant Plains</td>\n",
       "      <td>40.523994</td>\n",
       "      <td>-74.215700</td>\n",
       "      <td>New York</td>\n",
       "    </tr>\n",
       "    <tr>\n",
       "      <th>2</th>\n",
       "      <td>Prince's Bay</td>\n",
       "      <td>40.528994</td>\n",
       "      <td>-74.197644</td>\n",
       "      <td>New York</td>\n",
       "    </tr>\n",
       "    <tr>\n",
       "      <th>3</th>\n",
       "      <td>Charleston</td>\n",
       "      <td>40.536772</td>\n",
       "      <td>-74.237367</td>\n",
       "      <td>New York</td>\n",
       "    </tr>\n",
       "    <tr>\n",
       "      <th>4</th>\n",
       "      <td>Huguenot</td>\n",
       "      <td>40.537328</td>\n",
       "      <td>-74.194588</td>\n",
       "      <td>New York</td>\n",
       "    </tr>\n",
       "  </tbody>\n",
       "</table>\n",
       "</div>"
      ],
      "text/plain": [
       "      Neighborhood   Latitude  Longitude      City\n",
       "0  Richmond Valley  40.520105 -74.229311  New York\n",
       "1  Pleasant Plains  40.523994 -74.215700  New York\n",
       "2     Prince's Bay  40.528994 -74.197644  New York\n",
       "3       Charleston  40.536772 -74.237367  New York\n",
       "4         Huguenot  40.537328 -74.194588  New York"
      ]
     },
     "execution_count": 85,
     "metadata": {},
     "output_type": "execute_result"
    }
   ],
   "source": [
    "df.head()"
   ]
  },
  {
   "cell_type": "code",
   "execution_count": 86,
   "metadata": {},
   "outputs": [
    {
     "data": {
      "text/html": [
       "<div>\n",
       "<style scoped>\n",
       "    .dataframe tbody tr th:only-of-type {\n",
       "        vertical-align: middle;\n",
       "    }\n",
       "\n",
       "    .dataframe tbody tr th {\n",
       "        vertical-align: top;\n",
       "    }\n",
       "\n",
       "    .dataframe thead th {\n",
       "        text-align: right;\n",
       "    }\n",
       "</style>\n",
       "<table border=\"1\" class=\"dataframe\">\n",
       "  <thead>\n",
       "    <tr style=\"text-align: right;\">\n",
       "      <th></th>\n",
       "      <th>Neighborhood</th>\n",
       "      <th>Latitude</th>\n",
       "      <th>Longitude</th>\n",
       "      <th>City</th>\n",
       "    </tr>\n",
       "  </thead>\n",
       "  <tbody>\n",
       "    <tr>\n",
       "      <th>324</th>\n",
       "      <td>Telegraph Hill</td>\n",
       "      <td>37.802730</td>\n",
       "      <td>-122.405851</td>\n",
       "      <td>San Francisco</td>\n",
       "    </tr>\n",
       "    <tr>\n",
       "      <th>325</th>\n",
       "      <td>Marina District</td>\n",
       "      <td>37.802984</td>\n",
       "      <td>-122.437472</td>\n",
       "      <td>San Francisco</td>\n",
       "    </tr>\n",
       "    <tr>\n",
       "      <th>326</th>\n",
       "      <td>Buena Vista</td>\n",
       "      <td>37.806532</td>\n",
       "      <td>-122.420649</td>\n",
       "      <td>San Francisco</td>\n",
       "    </tr>\n",
       "    <tr>\n",
       "      <th>327</th>\n",
       "      <td>Fisherman's Wharf</td>\n",
       "      <td>37.809167</td>\n",
       "      <td>-122.416599</td>\n",
       "      <td>San Francisco</td>\n",
       "    </tr>\n",
       "    <tr>\n",
       "      <th>328</th>\n",
       "      <td>Treasure Island</td>\n",
       "      <td>37.823354</td>\n",
       "      <td>-122.370153</td>\n",
       "      <td>San Francisco</td>\n",
       "    </tr>\n",
       "  </tbody>\n",
       "</table>\n",
       "</div>"
      ],
      "text/plain": [
       "          Neighborhood   Latitude   Longitude           City\n",
       "324     Telegraph Hill  37.802730 -122.405851  San Francisco\n",
       "325    Marina District  37.802984 -122.437472  San Francisco\n",
       "326        Buena Vista  37.806532 -122.420649  San Francisco\n",
       "327  Fisherman's Wharf  37.809167 -122.416599  San Francisco\n",
       "328    Treasure Island  37.823354 -122.370153  San Francisco"
      ]
     },
     "execution_count": 86,
     "metadata": {},
     "output_type": "execute_result"
    }
   ],
   "source": [
    "df.tail()"
   ]
  },
  {
   "cell_type": "code",
   "execution_count": 127,
   "metadata": {},
   "outputs": [],
   "source": [
    "# begin - get Foursquare data\n",
    "\n",
    "# 4square creds\n",
    "CLIENT_ID = 'HRZNHDDCZQJ4U4NWRR1LYPJJVSYSPJCAHUW22JOZADGFOVL1'\n",
    "CLIENT_SECRET = '0THVETABYGSJYWMMTFCMLWJQNKJ4GT42DVDSIUDMYQC2YMEG'"
   ]
  },
  {
   "cell_type": "code",
   "execution_count": 128,
   "metadata": {},
   "outputs": [
    {
     "data": {
      "text/plain": [
       "'https://api.foursquare.com/v2/venues/explore?client_id=HRZNHDDCZQJ4U4NWRR1LYPJJVSYSPJCAHUW22JOZADGFOVL1&client_secret=0THVETABYGSJYWMMTFCMLWJQNKJ4GT42DVDSIUDMYQC2YMEG&ll=40.5201055,-74.2293113&v=20180604&radius=500&limit=100'"
      ]
     },
     "execution_count": 128,
     "metadata": {},
     "output_type": "execute_result"
    }
   ],
   "source": [
    "# test data for one neighborhood\n",
    "\n",
    "VERSION='20180604'\n",
    "RADIUS=500\n",
    "LIMIT=100\n",
    "neighborhood_latitude = df.loc[0,'Latitude']\n",
    "neighborhood_longitude = df.loc[0,'Longitude']\n",
    "url = 'https://api.foursquare.com/v2/venues/explore?client_id={}&client_secret={}&ll={},{}&v={}&radius={}&limit={}'.format(CLIENT_ID, CLIENT_SECRET, neighborhood_latitude, neighborhood_longitude, VERSION, RADIUS, LIMIT)\n",
    "url"
   ]
  },
  {
   "cell_type": "code",
   "execution_count": 129,
   "metadata": {},
   "outputs": [
    {
     "data": {
      "text/plain": [
       "{'meta': {'code': 200, 'requestId': '5d6592cf6e4650002c29bc26'},\n",
       " 'response': {'groups': [{'items': [{'reasons': {'count': 0,\n",
       "       'items': [{'reasonName': 'globalInteractionReason',\n",
       "         'summary': 'This spot is popular',\n",
       "         'type': 'general'}]},\n",
       "      'referralId': 'e-0-4b967a25f964a520a6ce34e3-0',\n",
       "      'venue': {'categories': [{'icon': {'prefix': 'https://ss3.4sqi.net/img/categories_v2/food/deli_',\n",
       "          'suffix': '.png'},\n",
       "         'id': '4bf58dd8d48988d146941735',\n",
       "         'name': 'Deli / Bodega',\n",
       "         'pluralName': 'Delis / Bodegas',\n",
       "         'primary': True,\n",
       "         'shortName': 'Deli / Bodega'}],\n",
       "       'id': '4b967a25f964a520a6ce34e3',\n",
       "       'location': {'address': 'Page Ave',\n",
       "        'cc': 'US',\n",
       "        'city': 'Staten Island',\n",
       "        'country': 'United States',\n",
       "        'distance': 498,\n",
       "        'formattedAddress': ['Page Ave', 'Staten Island, NY', 'United States'],\n",
       "        'labeledLatLngs': [{'label': 'display',\n",
       "          'lat': 40.516582119700814,\n",
       "          'lng': -74.23294859905353}],\n",
       "        'lat': 40.516582119700814,\n",
       "        'lng': -74.23294859905353,\n",
       "        'state': 'NY'},\n",
       "       'name': 'Tottenville Hot Bagels & Deli',\n",
       "       'photos': {'count': 0, 'groups': []}}},\n",
       "     {'reasons': {'count': 0,\n",
       "       'items': [{'reasonName': 'globalInteractionReason',\n",
       "         'summary': 'This spot is popular',\n",
       "         'type': 'general'}]},\n",
       "      'referralId': 'e-0-4bbcf8d4a0a0c9b6250e1b0f-1',\n",
       "      'venue': {'categories': [{'icon': {'prefix': 'https://ss3.4sqi.net/img/categories_v2/shops/financial_',\n",
       "          'suffix': '.png'},\n",
       "         'id': '4bf58dd8d48988d10a951735',\n",
       "         'name': 'Bank',\n",
       "         'pluralName': 'Banks',\n",
       "         'primary': True,\n",
       "         'shortName': 'Bank'}],\n",
       "       'id': '4bbcf8d4a0a0c9b6250e1b0f',\n",
       "       'location': {'address': '271 Page Avenue',\n",
       "        'cc': 'US',\n",
       "        'city': 'Staten Island',\n",
       "        'country': 'United States',\n",
       "        'distance': 487,\n",
       "        'formattedAddress': ['271 Page Avenue',\n",
       "         'Staten Island, NY 10307',\n",
       "         'United States'],\n",
       "        'labeledLatLngs': [{'label': 'display',\n",
       "          'lat': 40.51746051,\n",
       "          'lng': -74.23390419}],\n",
       "        'lat': 40.51746051,\n",
       "        'lng': -74.23390419,\n",
       "        'postalCode': '10307',\n",
       "        'state': 'NY'},\n",
       "       'name': 'Chase Bank',\n",
       "       'photos': {'count': 0, 'groups': []},\n",
       "       'venuePage': {'id': '556041921'}}},\n",
       "     {'reasons': {'count': 0,\n",
       "       'items': [{'reasonName': 'globalInteractionReason',\n",
       "         'summary': 'This spot is popular',\n",
       "         'type': 'general'}]},\n",
       "      'referralId': 'e-0-4c5ca95f7f661b8d5d50491c-2',\n",
       "      'venue': {'categories': [{'icon': {'prefix': 'https://ss3.4sqi.net/img/categories_v2/travel/trainstation_',\n",
       "          'suffix': '.png'},\n",
       "         'id': '4bf58dd8d48988d129951735',\n",
       "         'name': 'Train Station',\n",
       "         'pluralName': 'Train Stations',\n",
       "         'primary': True,\n",
       "         'shortName': 'Train Station'}],\n",
       "       'id': '4c5ca95f7f661b8d5d50491c',\n",
       "       'location': {'address': 'Richmond Valley Rd',\n",
       "        'cc': 'US',\n",
       "        'city': 'Staten Island',\n",
       "        'country': 'United States',\n",
       "        'crossStreet': 'Amboy Rd',\n",
       "        'distance': 61,\n",
       "        'formattedAddress': ['Richmond Valley Rd (Amboy Rd)',\n",
       "         'Staten Island, NY',\n",
       "         'United States'],\n",
       "        'labeledLatLngs': [{'label': 'display',\n",
       "          'lat': 40.51967664231838,\n",
       "          'lng': -74.22885406847539}],\n",
       "        'lat': 40.51967664231838,\n",
       "        'lng': -74.22885406847539,\n",
       "        'state': 'NY'},\n",
       "       'name': 'MTA SIR - Richmond Valley',\n",
       "       'photos': {'count': 0, 'groups': []}}},\n",
       "     {'reasons': {'count': 0,\n",
       "       'items': [{'reasonName': 'globalInteractionReason',\n",
       "         'summary': 'This spot is popular',\n",
       "         'type': 'general'}]},\n",
       "      'referralId': 'e-0-59082d19d552c708489df266-3',\n",
       "      'venue': {'categories': [{'icon': {'prefix': 'https://ss3.4sqi.net/img/categories_v2/food/fastfood_',\n",
       "          'suffix': '.png'},\n",
       "         'id': '4bf58dd8d48988d16e941735',\n",
       "         'name': 'Fast Food Restaurant',\n",
       "         'pluralName': 'Fast Food Restaurants',\n",
       "         'primary': True,\n",
       "         'shortName': 'Fast Food'}],\n",
       "       'id': '59082d19d552c708489df266',\n",
       "       'location': {'address': '245 Page Ave',\n",
       "        'cc': 'US',\n",
       "        'city': 'Staten Island',\n",
       "        'country': 'United States',\n",
       "        'distance': 468,\n",
       "        'formattedAddress': ['245 Page Ave',\n",
       "         'Staten Island, NY 10307',\n",
       "         'United States'],\n",
       "        'labeledLatLngs': [{'label': 'display',\n",
       "          'lat': 40.51807613185888,\n",
       "          'lng': -74.23416718840599}],\n",
       "        'lat': 40.51807613185888,\n",
       "        'lng': -74.23416718840599,\n",
       "        'postalCode': '10307',\n",
       "        'state': 'NY'},\n",
       "       'name': 'Burger King',\n",
       "       'photos': {'count': 0, 'groups': []}}},\n",
       "     {'reasons': {'count': 0,\n",
       "       'items': [{'reasonName': 'globalInteractionReason',\n",
       "         'summary': 'This spot is popular',\n",
       "         'type': 'general'}]},\n",
       "      'referralId': 'e-0-50acc21ae4b013e1bd00424b-4',\n",
       "      'venue': {'categories': [{'icon': {'prefix': 'https://ss3.4sqi.net/img/categories_v2/travel/busstation_',\n",
       "          'suffix': '.png'},\n",
       "         'id': '52f2ab2ebcbc57f1066b8b4f',\n",
       "         'name': 'Bus Stop',\n",
       "         'pluralName': 'Bus Stops',\n",
       "         'primary': True,\n",
       "         'shortName': 'Bus Stop'}],\n",
       "       'id': '50acc21ae4b013e1bd00424b',\n",
       "       'location': {'address': 'W Shore Expy',\n",
       "        'cc': 'US',\n",
       "        'city': 'Staten Island',\n",
       "        'country': 'United States',\n",
       "        'crossStreet': 'at S Service Rd',\n",
       "        'distance': 479,\n",
       "        'formattedAddress': ['W Shore Expy (at S Service Rd)',\n",
       "         'Staten Island, NY 10309',\n",
       "         'United States'],\n",
       "        'labeledLatLngs': [{'label': 'display',\n",
       "          'lat': 40.52267477859878,\n",
       "          'lng': -74.22476781846}],\n",
       "        'lat': 40.52267477859878,\n",
       "        'lng': -74.22476781846,\n",
       "        'neighborhood': 'Pleasant Plains',\n",
       "        'postalCode': '10309',\n",
       "        'state': 'NY'},\n",
       "       'name': 'MTA Bus - Outerbridge & Park and Ride (X17/X22/X22A)',\n",
       "       'photos': {'count': 0, 'groups': []}}}],\n",
       "    'name': 'recommended',\n",
       "    'type': 'Recommended Places'}],\n",
       "  'headerFullLocation': 'Current map view',\n",
       "  'headerLocation': 'Current map view',\n",
       "  'headerLocationGranularity': 'unknown',\n",
       "  'suggestedBounds': {'ne': {'lat': 40.5246055045, 'lng': -74.22340268077936},\n",
       "   'sw': {'lat': 40.5156054955, 'lng': -74.23521991922065}},\n",
       "  'suggestedFilters': {'filters': [{'key': 'openNow', 'name': 'Open now'}],\n",
       "   'header': 'Tap to show:'},\n",
       "  'totalResults': 5}}"
      ]
     },
     "execution_count": 129,
     "metadata": {},
     "output_type": "execute_result"
    }
   ],
   "source": [
    "results = requests.get(url).json()\n",
    "results"
   ]
  },
  {
   "cell_type": "code",
   "execution_count": 130,
   "metadata": {},
   "outputs": [
    {
     "data": {
      "text/plain": [
       "[{'reasons': {'count': 0,\n",
       "   'items': [{'reasonName': 'globalInteractionReason',\n",
       "     'summary': 'This spot is popular',\n",
       "     'type': 'general'}]},\n",
       "  'referralId': 'e-0-4b967a25f964a520a6ce34e3-0',\n",
       "  'venue': {'categories': [{'icon': {'prefix': 'https://ss3.4sqi.net/img/categories_v2/food/deli_',\n",
       "      'suffix': '.png'},\n",
       "     'id': '4bf58dd8d48988d146941735',\n",
       "     'name': 'Deli / Bodega',\n",
       "     'pluralName': 'Delis / Bodegas',\n",
       "     'primary': True,\n",
       "     'shortName': 'Deli / Bodega'}],\n",
       "   'id': '4b967a25f964a520a6ce34e3',\n",
       "   'location': {'address': 'Page Ave',\n",
       "    'cc': 'US',\n",
       "    'city': 'Staten Island',\n",
       "    'country': 'United States',\n",
       "    'distance': 498,\n",
       "    'formattedAddress': ['Page Ave', 'Staten Island, NY', 'United States'],\n",
       "    'labeledLatLngs': [{'label': 'display',\n",
       "      'lat': 40.516582119700814,\n",
       "      'lng': -74.23294859905353}],\n",
       "    'lat': 40.516582119700814,\n",
       "    'lng': -74.23294859905353,\n",
       "    'state': 'NY'},\n",
       "   'name': 'Tottenville Hot Bagels & Deli',\n",
       "   'photos': {'count': 0, 'groups': []}}},\n",
       " {'reasons': {'count': 0,\n",
       "   'items': [{'reasonName': 'globalInteractionReason',\n",
       "     'summary': 'This spot is popular',\n",
       "     'type': 'general'}]},\n",
       "  'referralId': 'e-0-4bbcf8d4a0a0c9b6250e1b0f-1',\n",
       "  'venue': {'categories': [{'icon': {'prefix': 'https://ss3.4sqi.net/img/categories_v2/shops/financial_',\n",
       "      'suffix': '.png'},\n",
       "     'id': '4bf58dd8d48988d10a951735',\n",
       "     'name': 'Bank',\n",
       "     'pluralName': 'Banks',\n",
       "     'primary': True,\n",
       "     'shortName': 'Bank'}],\n",
       "   'id': '4bbcf8d4a0a0c9b6250e1b0f',\n",
       "   'location': {'address': '271 Page Avenue',\n",
       "    'cc': 'US',\n",
       "    'city': 'Staten Island',\n",
       "    'country': 'United States',\n",
       "    'distance': 487,\n",
       "    'formattedAddress': ['271 Page Avenue',\n",
       "     'Staten Island, NY 10307',\n",
       "     'United States'],\n",
       "    'labeledLatLngs': [{'label': 'display',\n",
       "      'lat': 40.51746051,\n",
       "      'lng': -74.23390419}],\n",
       "    'lat': 40.51746051,\n",
       "    'lng': -74.23390419,\n",
       "    'postalCode': '10307',\n",
       "    'state': 'NY'},\n",
       "   'name': 'Chase Bank',\n",
       "   'photos': {'count': 0, 'groups': []},\n",
       "   'venuePage': {'id': '556041921'}}},\n",
       " {'reasons': {'count': 0,\n",
       "   'items': [{'reasonName': 'globalInteractionReason',\n",
       "     'summary': 'This spot is popular',\n",
       "     'type': 'general'}]},\n",
       "  'referralId': 'e-0-4c5ca95f7f661b8d5d50491c-2',\n",
       "  'venue': {'categories': [{'icon': {'prefix': 'https://ss3.4sqi.net/img/categories_v2/travel/trainstation_',\n",
       "      'suffix': '.png'},\n",
       "     'id': '4bf58dd8d48988d129951735',\n",
       "     'name': 'Train Station',\n",
       "     'pluralName': 'Train Stations',\n",
       "     'primary': True,\n",
       "     'shortName': 'Train Station'}],\n",
       "   'id': '4c5ca95f7f661b8d5d50491c',\n",
       "   'location': {'address': 'Richmond Valley Rd',\n",
       "    'cc': 'US',\n",
       "    'city': 'Staten Island',\n",
       "    'country': 'United States',\n",
       "    'crossStreet': 'Amboy Rd',\n",
       "    'distance': 61,\n",
       "    'formattedAddress': ['Richmond Valley Rd (Amboy Rd)',\n",
       "     'Staten Island, NY',\n",
       "     'United States'],\n",
       "    'labeledLatLngs': [{'label': 'display',\n",
       "      'lat': 40.51967664231838,\n",
       "      'lng': -74.22885406847539}],\n",
       "    'lat': 40.51967664231838,\n",
       "    'lng': -74.22885406847539,\n",
       "    'state': 'NY'},\n",
       "   'name': 'MTA SIR - Richmond Valley',\n",
       "   'photos': {'count': 0, 'groups': []}}},\n",
       " {'reasons': {'count': 0,\n",
       "   'items': [{'reasonName': 'globalInteractionReason',\n",
       "     'summary': 'This spot is popular',\n",
       "     'type': 'general'}]},\n",
       "  'referralId': 'e-0-59082d19d552c708489df266-3',\n",
       "  'venue': {'categories': [{'icon': {'prefix': 'https://ss3.4sqi.net/img/categories_v2/food/fastfood_',\n",
       "      'suffix': '.png'},\n",
       "     'id': '4bf58dd8d48988d16e941735',\n",
       "     'name': 'Fast Food Restaurant',\n",
       "     'pluralName': 'Fast Food Restaurants',\n",
       "     'primary': True,\n",
       "     'shortName': 'Fast Food'}],\n",
       "   'id': '59082d19d552c708489df266',\n",
       "   'location': {'address': '245 Page Ave',\n",
       "    'cc': 'US',\n",
       "    'city': 'Staten Island',\n",
       "    'country': 'United States',\n",
       "    'distance': 468,\n",
       "    'formattedAddress': ['245 Page Ave',\n",
       "     'Staten Island, NY 10307',\n",
       "     'United States'],\n",
       "    'labeledLatLngs': [{'label': 'display',\n",
       "      'lat': 40.51807613185888,\n",
       "      'lng': -74.23416718840599}],\n",
       "    'lat': 40.51807613185888,\n",
       "    'lng': -74.23416718840599,\n",
       "    'postalCode': '10307',\n",
       "    'state': 'NY'},\n",
       "   'name': 'Burger King',\n",
       "   'photos': {'count': 0, 'groups': []}}},\n",
       " {'reasons': {'count': 0,\n",
       "   'items': [{'reasonName': 'globalInteractionReason',\n",
       "     'summary': 'This spot is popular',\n",
       "     'type': 'general'}]},\n",
       "  'referralId': 'e-0-50acc21ae4b013e1bd00424b-4',\n",
       "  'venue': {'categories': [{'icon': {'prefix': 'https://ss3.4sqi.net/img/categories_v2/travel/busstation_',\n",
       "      'suffix': '.png'},\n",
       "     'id': '52f2ab2ebcbc57f1066b8b4f',\n",
       "     'name': 'Bus Stop',\n",
       "     'pluralName': 'Bus Stops',\n",
       "     'primary': True,\n",
       "     'shortName': 'Bus Stop'}],\n",
       "   'id': '50acc21ae4b013e1bd00424b',\n",
       "   'location': {'address': 'W Shore Expy',\n",
       "    'cc': 'US',\n",
       "    'city': 'Staten Island',\n",
       "    'country': 'United States',\n",
       "    'crossStreet': 'at S Service Rd',\n",
       "    'distance': 479,\n",
       "    'formattedAddress': ['W Shore Expy (at S Service Rd)',\n",
       "     'Staten Island, NY 10309',\n",
       "     'United States'],\n",
       "    'labeledLatLngs': [{'label': 'display',\n",
       "      'lat': 40.52267477859878,\n",
       "      'lng': -74.22476781846}],\n",
       "    'lat': 40.52267477859878,\n",
       "    'lng': -74.22476781846,\n",
       "    'neighborhood': 'Pleasant Plains',\n",
       "    'postalCode': '10309',\n",
       "    'state': 'NY'},\n",
       "   'name': 'MTA Bus - Outerbridge & Park and Ride (X17/X22/X22A)',\n",
       "   'photos': {'count': 0, 'groups': []}}}]"
      ]
     },
     "execution_count": 130,
     "metadata": {},
     "output_type": "execute_result"
    }
   ],
   "source": [
    "results['response']['groups'][0]['items']"
   ]
  },
  {
   "cell_type": "code",
   "execution_count": 90,
   "metadata": {},
   "outputs": [],
   "source": [
    "# function that extracts the category of the venue\n",
    "def get_category_type(row): \n",
    "    try:\n",
    "        categories_list = row['categories'] \n",
    "    except:\n",
    "        categories_list = row['venue.categories']\n",
    "    if len(categories_list) == 0: \n",
    "        return None\n",
    "    else:\n",
    "        return categories_list[0]['name']"
   ]
  },
  {
   "cell_type": "code",
   "execution_count": 91,
   "metadata": {},
   "outputs": [],
   "source": [
    "venues = results['response']['groups'][0]['items']"
   ]
  },
  {
   "cell_type": "code",
   "execution_count": 95,
   "metadata": {},
   "outputs": [],
   "source": [
    "nearby_venues = json_normalize(venues)"
   ]
  },
  {
   "cell_type": "code",
   "execution_count": 97,
   "metadata": {},
   "outputs": [],
   "source": [
    "filtered_columns = ['venue.name', 'venue.categories', 'venue.location.lat', 'venue.location.lng']\n",
    "nearby_venues = nearby_venues.loc[:, filtered_columns]"
   ]
  },
  {
   "cell_type": "code",
   "execution_count": 98,
   "metadata": {},
   "outputs": [],
   "source": [
    "nearby_venues['venue.categories'] = nearby_venues.apply(get_category_type, axis=\n",
    "1)"
   ]
  },
  {
   "cell_type": "code",
   "execution_count": 99,
   "metadata": {},
   "outputs": [
    {
     "data": {
      "text/html": [
       "<div>\n",
       "<style scoped>\n",
       "    .dataframe tbody tr th:only-of-type {\n",
       "        vertical-align: middle;\n",
       "    }\n",
       "\n",
       "    .dataframe tbody tr th {\n",
       "        vertical-align: top;\n",
       "    }\n",
       "\n",
       "    .dataframe thead th {\n",
       "        text-align: right;\n",
       "    }\n",
       "</style>\n",
       "<table border=\"1\" class=\"dataframe\">\n",
       "  <thead>\n",
       "    <tr style=\"text-align: right;\">\n",
       "      <th></th>\n",
       "      <th>name</th>\n",
       "      <th>categories</th>\n",
       "      <th>lat</th>\n",
       "      <th>lng</th>\n",
       "    </tr>\n",
       "  </thead>\n",
       "  <tbody>\n",
       "    <tr>\n",
       "      <th>0</th>\n",
       "      <td>Tottenville Hot Bagels &amp; Deli</td>\n",
       "      <td>Deli / Bodega</td>\n",
       "      <td>40.516582</td>\n",
       "      <td>-74.232949</td>\n",
       "    </tr>\n",
       "    <tr>\n",
       "      <th>1</th>\n",
       "      <td>Chase Bank</td>\n",
       "      <td>Bank</td>\n",
       "      <td>40.517461</td>\n",
       "      <td>-74.233904</td>\n",
       "    </tr>\n",
       "    <tr>\n",
       "      <th>2</th>\n",
       "      <td>MTA SIR - Richmond Valley</td>\n",
       "      <td>Train Station</td>\n",
       "      <td>40.519677</td>\n",
       "      <td>-74.228854</td>\n",
       "    </tr>\n",
       "    <tr>\n",
       "      <th>3</th>\n",
       "      <td>Burger King</td>\n",
       "      <td>Fast Food Restaurant</td>\n",
       "      <td>40.518076</td>\n",
       "      <td>-74.234167</td>\n",
       "    </tr>\n",
       "    <tr>\n",
       "      <th>4</th>\n",
       "      <td>MTA Bus - Outerbridge &amp; Park and Ride (X17/X22...</td>\n",
       "      <td>Bus Stop</td>\n",
       "      <td>40.522675</td>\n",
       "      <td>-74.224768</td>\n",
       "    </tr>\n",
       "  </tbody>\n",
       "</table>\n",
       "</div>"
      ],
      "text/plain": [
       "                                                name            categories  \\\n",
       "0                      Tottenville Hot Bagels & Deli         Deli / Bodega   \n",
       "1                                         Chase Bank                  Bank   \n",
       "2                          MTA SIR - Richmond Valley         Train Station   \n",
       "3                                        Burger King  Fast Food Restaurant   \n",
       "4  MTA Bus - Outerbridge & Park and Ride (X17/X22...              Bus Stop   \n",
       "\n",
       "         lat        lng  \n",
       "0  40.516582 -74.232949  \n",
       "1  40.517461 -74.233904  \n",
       "2  40.519677 -74.228854  \n",
       "3  40.518076 -74.234167  \n",
       "4  40.522675 -74.224768  "
      ]
     },
     "execution_count": 99,
     "metadata": {},
     "output_type": "execute_result"
    }
   ],
   "source": [
    "# clean columns\n",
    "nearby_venues.columns = [col.split(\".\")[-1] for col in nearby_venues.columns]\n",
    "nearby_venues"
   ]
  },
  {
   "cell_type": "code",
   "execution_count": 100,
   "metadata": {},
   "outputs": [
    {
     "name": "stdout",
     "output_type": "stream",
     "text": [
      "5 venues were returned by Foursquare.\n"
     ]
    }
   ],
   "source": [
    "print('{} venues were returned by Foursquare.'.format(nearby_venues.shape[0]))"
   ]
  },
  {
   "cell_type": "code",
   "execution_count": 108,
   "metadata": {},
   "outputs": [],
   "source": [
    "# save 4square data to file to avoid multiple net trips\n",
    "df_4square_venues_file = \"/var/tmp/4square_venues_nyc_sfo.csv\""
   ]
  },
  {
   "cell_type": "code",
   "execution_count": 132,
   "metadata": {},
   "outputs": [],
   "source": [
    "# repeat for all neighborhoods in dataframe\n",
    "def getNearbyVenues(cities, names, latitudes, longitudes, radius=500):\n",
    "\n",
    "        venues_list=[]\n",
    "        for city, name, lat, lng in zip(cities, names, latitudes, longitudes):\n",
    "            print(city, name)\n",
    "        \n",
    "            # create the API request URL\n",
    "            #url = 'https://api.foursquare.com/v2/venues/explore?client_id={}&client_secret={}&ll={},{}&v={}&radius={}&limit={}'.format(CLIENT_ID, CLIENT_SECRET, lat, lng, VERSION, radius, LIMIT)\n",
    "            url = 'https://api.foursquare.com/v2/venues/explore?client_id={}&client_secret={}&ll={},{}&v={}&radius={}&limit={}'.format(\n",
    "            CLIENT_ID,\n",
    "            CLIENT_SECRET,\n",
    "            lat,\n",
    "            lng,\n",
    "            VERSION,\n",
    "            radius,\n",
    "            LIMIT)\n",
    "            \n",
    "            # make the GET request\n",
    "            print(url)\n",
    "            #results = requests.get(url).json()[\"response\"]['groups'][0]['items']\n",
    "            resp = requests.get(url)\n",
    "            print(resp.status_code)\n",
    "            results = resp.json()[\"response\"]['groups'][0]['items']\n",
    "            \n",
    "            # return only relevant information for each nearby venue\n",
    "            venues_list.append([(\n",
    "                city,\n",
    "                name,\n",
    "                lat,\n",
    "                lng,\n",
    "                v['venue']['name'],\n",
    "                v['venue']['location']['lat'],\n",
    "                v['venue']['location']['lng'], \n",
    "                v['venue']['categories'][0]['name']) for v in results])\n",
    "        \n",
    "        nearby_venues = pd.DataFrame([item for venue_list in venues_list for item in venue_list])\n",
    "        nearby_venues.columns = ['City','Neighborhood',\n",
    "                  'Neighborhood Latitude',\n",
    "                  'Neighborhood Longitude',\n",
    "                  'Venue',\n",
    "                  'Venue Latitude',\n",
    "                  'Venue Longitude',\n",
    "                  'Venue Category']\n",
    "        nearby_venues.to_csv(df_4square_venues_file, index=False)\n",
    "        \n",
    "        return(nearby_venues)"
   ]
  },
  {
   "cell_type": "code",
   "execution_count": 133,
   "metadata": {},
   "outputs": [
    {
     "name": "stdout",
     "output_type": "stream",
     "text": [
      "getting from net\n",
      "New York Richmond Valley\n",
      "https://api.foursquare.com/v2/venues/explore?client_id=HRZNHDDCZQJ4U4NWRR1LYPJJVSYSPJCAHUW22JOZADGFOVL1&client_secret=0THVETABYGSJYWMMTFCMLWJQNKJ4GT42DVDSIUDMYQC2YMEG&ll=40.5201055,-74.2293113&v=20180604&radius=500&limit=100\n",
      "200\n",
      "New York Pleasant Plains\n",
      "https://api.foursquare.com/v2/venues/explore?client_id=HRZNHDDCZQJ4U4NWRR1LYPJJVSYSPJCAHUW22JOZADGFOVL1&client_secret=0THVETABYGSJYWMMTFCMLWJQNKJ4GT42DVDSIUDMYQC2YMEG&ll=40.5239944,-74.2156999&v=20180604&radius=500&limit=100\n",
      "200\n",
      "New York Prince's Bay\n",
      "https://api.foursquare.com/v2/venues/explore?client_id=HRZNHDDCZQJ4U4NWRR1LYPJJVSYSPJCAHUW22JOZADGFOVL1&client_secret=0THVETABYGSJYWMMTFCMLWJQNKJ4GT42DVDSIUDMYQC2YMEG&ll=40.528994399999995,-74.197644&v=20180604&radius=500&limit=100\n",
      "200\n",
      "New York Charleston\n",
      "https://api.foursquare.com/v2/venues/explore?client_id=HRZNHDDCZQJ4U4NWRR1LYPJJVSYSPJCAHUW22JOZADGFOVL1&client_secret=0THVETABYGSJYWMMTFCMLWJQNKJ4GT42DVDSIUDMYQC2YMEG&ll=40.5367719,-74.23736720000001&v=20180604&radius=500&limit=100\n",
      "200\n",
      "New York Huguenot\n",
      "https://api.foursquare.com/v2/venues/explore?client_id=HRZNHDDCZQJ4U4NWRR1LYPJJVSYSPJCAHUW22JOZADGFOVL1&client_secret=0THVETABYGSJYWMMTFCMLWJQNKJ4GT42DVDSIUDMYQC2YMEG&ll=40.5373275,-74.19458840000001&v=20180604&radius=500&limit=100\n",
      "200\n",
      "New York Woodrow\n",
      "https://api.foursquare.com/v2/venues/explore?client_id=HRZNHDDCZQJ4U4NWRR1LYPJJVSYSPJCAHUW22JOZADGFOVL1&client_secret=0THVETABYGSJYWMMTFCMLWJQNKJ4GT42DVDSIUDMYQC2YMEG&ll=40.5434385,-74.1976441&v=20180604&radius=500&limit=100\n",
      "200\n",
      "New York Annadale\n",
      "https://api.foursquare.com/v2/venues/explore?client_id=HRZNHDDCZQJ4U4NWRR1LYPJJVSYSPJCAHUW22JOZADGFOVL1&client_secret=0THVETABYGSJYWMMTFCMLWJQNKJ4GT42DVDSIUDMYQC2YMEG&ll=40.5445496,-74.1765324&v=20180604&radius=500&limit=100\n",
      "200\n",
      "New York Eltingville\n",
      "https://api.foursquare.com/v2/venues/explore?client_id=HRZNHDDCZQJ4U4NWRR1LYPJJVSYSPJCAHUW22JOZADGFOVL1&client_secret=0THVETABYGSJYWMMTFCMLWJQNKJ4GT42DVDSIUDMYQC2YMEG&ll=40.5453831,-74.1656988&v=20180604&radius=500&limit=100\n",
      "200\n",
      "New York Lindenwood\n",
      "https://api.foursquare.com/v2/venues/explore?client_id=HRZNHDDCZQJ4U4NWRR1LYPJJVSYSPJCAHUW22JOZADGFOVL1&client_secret=0THVETABYGSJYWMMTFCMLWJQNKJ4GT42DVDSIUDMYQC2YMEG&ll=40.5511806,-74.1533903&v=20180604&radius=500&limit=100\n",
      "200\n",
      "New York Great Kills\n",
      "https://api.foursquare.com/v2/venues/explore?client_id=HRZNHDDCZQJ4U4NWRR1LYPJJVSYSPJCAHUW22JOZADGFOVL1&client_secret=0THVETABYGSJYWMMTFCMLWJQNKJ4GT42DVDSIUDMYQC2YMEG&ll=40.5542718,-74.1515318&v=20180604&radius=500&limit=100\n",
      "200\n",
      "New York Bay Terrace\n",
      "https://api.foursquare.com/v2/venues/explore?client_id=HRZNHDDCZQJ4U4NWRR1LYPJJVSYSPJCAHUW22JOZADGFOVL1&client_secret=0THVETABYGSJYWMMTFCMLWJQNKJ4GT42DVDSIUDMYQC2YMEG&ll=40.5552778,-74.13416670000001&v=20180604&radius=500&limit=100\n",
      "200\n",
      "New York Rossville\n",
      "https://api.foursquare.com/v2/venues/explore?client_id=HRZNHDDCZQJ4U4NWRR1LYPJJVSYSPJCAHUW22JOZADGFOVL1&client_secret=0THVETABYGSJYWMMTFCMLWJQNKJ4GT42DVDSIUDMYQC2YMEG&ll=40.55562379999999,-74.21289820000001&v=20180604&radius=500&limit=100\n",
      "200\n",
      "New York Breezy Point\n",
      "https://api.foursquare.com/v2/venues/explore?client_id=HRZNHDDCZQJ4U4NWRR1LYPJJVSYSPJCAHUW22JOZADGFOVL1&client_secret=0THVETABYGSJYWMMTFCMLWJQNKJ4GT42DVDSIUDMYQC2YMEG&ll=40.556239500000004,-73.9267179035117&v=20180604&radius=500&limit=100\n",
      "200\n",
      "New York Greenridge\n",
      "https://api.foursquare.com/v2/venues/explore?client_id=HRZNHDDCZQJ4U4NWRR1LYPJJVSYSPJCAHUW22JOZADGFOVL1&client_secret=0THVETABYGSJYWMMTFCMLWJQNKJ4GT42DVDSIUDMYQC2YMEG&ll=40.561223600000005,-74.16988520000001&v=20180604&radius=500&limit=100\n",
      "200\n",
      "New York Oakwood\n",
      "https://api.foursquare.com/v2/venues/explore?client_id=HRZNHDDCZQJ4U4NWRR1LYPJJVSYSPJCAHUW22JOZADGFOVL1&client_secret=0THVETABYGSJYWMMTFCMLWJQNKJ4GT42DVDSIUDMYQC2YMEG&ll=40.563994,-74.11597540000001&v=20180604&radius=500&limit=100\n",
      "200\n",
      "New York Neponsit\n",
      "https://api.foursquare.com/v2/venues/explore?client_id=HRZNHDDCZQJ4U4NWRR1LYPJJVSYSPJCAHUW22JOZADGFOVL1&client_secret=0THVETABYGSJYWMMTFCMLWJQNKJ4GT42DVDSIUDMYQC2YMEG&ll=40.572296,-73.86230970000001&v=20180604&radius=500&limit=100\n",
      "200\n",
      "New York Midland Beach\n",
      "https://api.foursquare.com/v2/venues/explore?client_id=HRZNHDDCZQJ4U4NWRR1LYPJJVSYSPJCAHUW22JOZADGFOVL1&client_secret=0THVETABYGSJYWMMTFCMLWJQNKJ4GT42DVDSIUDMYQC2YMEG&ll=40.5731606,-74.09458599999999&v=20180604&radius=500&limit=100\n",
      "200\n",
      "New York New Dorp\n",
      "https://api.foursquare.com/v2/venues/explore?client_id=HRZNHDDCZQJ4U4NWRR1LYPJJVSYSPJCAHUW22JOZADGFOVL1&client_secret=0THVETABYGSJYWMMTFCMLWJQNKJ4GT42DVDSIUDMYQC2YMEG&ll=40.5739938,-74.1159755&v=20180604&radius=500&limit=100\n",
      "200\n",
      "New York Coney Island\n",
      "https://api.foursquare.com/v2/venues/explore?client_id=HRZNHDDCZQJ4U4NWRR1LYPJJVSYSPJCAHUW22JOZADGFOVL1&client_secret=0THVETABYGSJYWMMTFCMLWJQNKJ4GT42DVDSIUDMYQC2YMEG&ll=40.575789,-73.98514499999999&v=20180604&radius=500&limit=100\n",
      "200\n",
      "New York Sea Gate\n",
      "https://api.foursquare.com/v2/venues/explore?client_id=HRZNHDDCZQJ4U4NWRR1LYPJJVSYSPJCAHUW22JOZADGFOVL1&client_secret=0THVETABYGSJYWMMTFCMLWJQNKJ4GT42DVDSIUDMYQC2YMEG&ll=40.5760874,-74.0073152&v=20180604&radius=500&limit=100\n",
      "200\n",
      "New York Manhattan Beach\n",
      "https://api.foursquare.com/v2/venues/explore?client_id=HRZNHDDCZQJ4U4NWRR1LYPJJVSYSPJCAHUW22JOZADGFOVL1&client_secret=0THVETABYGSJYWMMTFCMLWJQNKJ4GT42DVDSIUDMYQC2YMEG&ll=40.57667355,-73.9410673306364&v=20180604&radius=500&limit=100\n",
      "200\n",
      "New York Belle Harbor\n",
      "https://api.foursquare.com/v2/venues/explore?client_id=HRZNHDDCZQJ4U4NWRR1LYPJJVSYSPJCAHUW22JOZADGFOVL1&client_secret=0THVETABYGSJYWMMTFCMLWJQNKJ4GT42DVDSIUDMYQC2YMEG&ll=40.577552000000004,-73.84857679999999&v=20180604&radius=500&limit=100\n",
      "200\n",
      "New York West Brighton\n",
      "https://api.foursquare.com/v2/venues/explore?client_id=HRZNHDDCZQJ4U4NWRR1LYPJJVSYSPJCAHUW22JOZADGFOVL1&client_secret=0THVETABYGSJYWMMTFCMLWJQNKJ4GT42DVDSIUDMYQC2YMEG&ll=40.5780867,-73.9749245520036&v=20180604&radius=500&limit=100\n",
      "200\n",
      "New York Egbertville\n",
      "https://api.foursquare.com/v2/venues/explore?client_id=HRZNHDDCZQJ4U4NWRR1LYPJJVSYSPJCAHUW22JOZADGFOVL1&client_secret=0THVETABYGSJYWMMTFCMLWJQNKJ4GT42DVDSIUDMYQC2YMEG&ll=40.5786514,-74.13146372749159&v=20180604&radius=500&limit=100\n",
      "200\n",
      "New York Brighton Beach\n",
      "https://api.foursquare.com/v2/venues/explore?client_id=HRZNHDDCZQJ4U4NWRR1LYPJJVSYSPJCAHUW22JOZADGFOVL1&client_secret=0THVETABYGSJYWMMTFCMLWJQNKJ4GT42DVDSIUDMYQC2YMEG&ll=40.57964365,-73.9611108105961&v=20180604&radius=500&limit=100\n",
      "200\n",
      "New York Rockaway Park\n",
      "https://api.foursquare.com/v2/venues/explore?client_id=HRZNHDDCZQJ4U4NWRR1LYPJJVSYSPJCAHUW22JOZADGFOVL1&client_secret=0THVETABYGSJYWMMTFCMLWJQNKJ4GT42DVDSIUDMYQC2YMEG&ll=40.5805104,-73.83615350000001&v=20180604&radius=500&limit=100\n",
      "200\n",
      "New York Grant City\n",
      "https://api.foursquare.com/v2/venues/explore?client_id=HRZNHDDCZQJ4U4NWRR1LYPJJVSYSPJCAHUW22JOZADGFOVL1&client_secret=0THVETABYGSJYWMMTFCMLWJQNKJ4GT42DVDSIUDMYQC2YMEG&ll=40.5820492,-74.1048641&v=20180604&radius=500&limit=100\n",
      "200\n",
      "New York Homecrest\n",
      "https://api.foursquare.com/v2/venues/explore?client_id=HRZNHDDCZQJ4U4NWRR1LYPJJVSYSPJCAHUW22JOZADGFOVL1&client_secret=0THVETABYGSJYWMMTFCMLWJQNKJ4GT42DVDSIUDMYQC2YMEG&ll=40.58611335,-73.95731014951109&v=20180604&radius=500&limit=100\n",
      "200\n",
      "New York Ocean Breeze\n",
      "https://api.foursquare.com/v2/venues/explore?client_id=HRZNHDDCZQJ4U4NWRR1LYPJJVSYSPJCAHUW22JOZADGFOVL1&client_secret=0THVETABYGSJYWMMTFCMLWJQNKJ4GT42DVDSIUDMYQC2YMEG&ll=40.5884292,-73.80668879999999&v=20180604&radius=500&limit=100\n",
      "200\n",
      "New York South Beach\n",
      "https://api.foursquare.com/v2/venues/explore?client_id=HRZNHDDCZQJ4U4NWRR1LYPJJVSYSPJCAHUW22JOZADGFOVL1&client_secret=0THVETABYGSJYWMMTFCMLWJQNKJ4GT42DVDSIUDMYQC2YMEG&ll=40.590382500000004,-74.06680759999999&v=20180604&radius=500&limit=100\n",
      "200\n",
      "New York Sheepshead Bay\n",
      "https://api.foursquare.com/v2/venues/explore?client_id=HRZNHDDCZQJ4U4NWRR1LYPJJVSYSPJCAHUW22JOZADGFOVL1&client_secret=0THVETABYGSJYWMMTFCMLWJQNKJ4GT42DVDSIUDMYQC2YMEG&ll=40.591216100000004,-73.9445822&v=20180604&radius=500&limit=100\n",
      "200\n",
      "New York Gerritsen Beach\n",
      "https://api.foursquare.com/v2/venues/explore?client_id=HRZNHDDCZQJ4U4NWRR1LYPJJVSYSPJCAHUW22JOZADGFOVL1&client_secret=0THVETABYGSJYWMMTFCMLWJQNKJ4GT42DVDSIUDMYQC2YMEG&ll=40.5929879,-73.9263853&v=20180604&radius=500&limit=100\n"
     ]
    },
    {
     "name": "stdout",
     "output_type": "stream",
     "text": [
      "200\n",
      "New York Travis\n",
      "https://api.foursquare.com/v2/venues/explore?client_id=HRZNHDDCZQJ4U4NWRR1LYPJJVSYSPJCAHUW22JOZADGFOVL1&client_secret=0THVETABYGSJYWMMTFCMLWJQNKJ4GT42DVDSIUDMYQC2YMEG&ll=40.5931598,-74.1879218&v=20180604&radius=500&limit=100\n",
      "200\n",
      "New York Arverne\n",
      "https://api.foursquare.com/v2/venues/explore?client_id=HRZNHDDCZQJ4U4NWRR1LYPJJVSYSPJCAHUW22JOZADGFOVL1&client_secret=0THVETABYGSJYWMMTFCMLWJQNKJ4GT42DVDSIUDMYQC2YMEG&ll=40.5934173,-73.7895462&v=20180604&radius=500&limit=100\n",
      "200\n",
      "New York New Springville\n",
      "https://api.foursquare.com/v2/venues/explore?client_id=HRZNHDDCZQJ4U4NWRR1LYPJJVSYSPJCAHUW22JOZADGFOVL1&client_secret=0THVETABYGSJYWMMTFCMLWJQNKJ4GT42DVDSIUDMYQC2YMEG&ll=40.5934376,-74.163199&v=20180604&radius=500&limit=100\n",
      "200\n",
      "New York Marine Park\n",
      "https://api.foursquare.com/v2/venues/explore?client_id=HRZNHDDCZQJ4U4NWRR1LYPJJVSYSPJCAHUW22JOZADGFOVL1&client_secret=0THVETABYGSJYWMMTFCMLWJQNKJ4GT42DVDSIUDMYQC2YMEG&ll=40.5955682,-73.91661010799871&v=20180604&radius=500&limit=100\n",
      "200\n",
      "New York Gravesend,East Gravesend\n",
      "https://api.foursquare.com/v2/venues/explore?client_id=HRZNHDDCZQJ4U4NWRR1LYPJJVSYSPJCAHUW22JOZADGFOVL1&client_secret=0THVETABYGSJYWMMTFCMLWJQNKJ4GT42DVDSIUDMYQC2YMEG&ll=40.5961338,-73.9739426&v=20180604&radius=500&limit=100\n",
      "200\n",
      "New York Old Town\n",
      "https://api.foursquare.com/v2/venues/explore?client_id=HRZNHDDCZQJ4U4NWRR1LYPJJVSYSPJCAHUW22JOZADGFOVL1&client_secret=0THVETABYGSJYWMMTFCMLWJQNKJ4GT42DVDSIUDMYQC2YMEG&ll=40.5962681,-74.0875916&v=20180604&radius=500&limit=100\n",
      "200\n",
      "New York Edgemere\n",
      "https://api.foursquare.com/v2/venues/explore?client_id=HRZNHDDCZQJ4U4NWRR1LYPJJVSYSPJCAHUW22JOZADGFOVL1&client_secret=0THVETABYGSJYWMMTFCMLWJQNKJ4GT42DVDSIUDMYQC2YMEG&ll=40.596365000000006,-73.767905&v=20180604&radius=500&limit=100\n",
      "200\n",
      "New York Dongan Hills\n",
      "https://api.foursquare.com/v2/venues/explore?client_id=HRZNHDDCZQJ4U4NWRR1LYPJJVSYSPJCAHUW22JOZADGFOVL1&client_secret=0THVETABYGSJYWMMTFCMLWJQNKJ4GT42DVDSIUDMYQC2YMEG&ll=40.5979271,-74.0980274&v=20180604&radius=500&limit=100\n",
      "200\n",
      "New York Arrochar\n",
      "https://api.foursquare.com/v2/venues/explore?client_id=HRZNHDDCZQJ4U4NWRR1LYPJJVSYSPJCAHUW22JOZADGFOVL1&client_secret=0THVETABYGSJYWMMTFCMLWJQNKJ4GT42DVDSIUDMYQC2YMEG&ll=40.59843789999999,-74.0726412&v=20180604&radius=500&limit=100\n",
      "200\n",
      "New York Fort Wadsworth\n",
      "https://api.foursquare.com/v2/venues/explore?client_id=HRZNHDDCZQJ4U4NWRR1LYPJJVSYSPJCAHUW22JOZADGFOVL1&client_secret=0THVETABYGSJYWMMTFCMLWJQNKJ4GT42DVDSIUDMYQC2YMEG&ll=40.60076325,-74.057639004396&v=20180604&radius=500&limit=100\n",
      "200\n",
      "New York Todt Hill\n",
      "https://api.foursquare.com/v2/venues/explore?client_id=HRZNHDDCZQJ4U4NWRR1LYPJJVSYSPJCAHUW22JOZADGFOVL1&client_secret=0THVETABYGSJYWMMTFCMLWJQNKJ4GT42DVDSIUDMYQC2YMEG&ll=40.6010083,-74.1150363&v=20180604&radius=500&limit=100\n",
      "200\n",
      "New York Bath Beach\n",
      "https://api.foursquare.com/v2/venues/explore?client_id=HRZNHDDCZQJ4U4NWRR1LYPJJVSYSPJCAHUW22JOZADGFOVL1&client_secret=0THVETABYGSJYWMMTFCMLWJQNKJ4GT42DVDSIUDMYQC2YMEG&ll=40.6018495,-74.000501&v=20180604&radius=500&limit=100\n",
      "200\n",
      "New York Mill Basin\n",
      "https://api.foursquare.com/v2/venues/explore?client_id=HRZNHDDCZQJ4U4NWRR1LYPJJVSYSPJCAHUW22JOZADGFOVL1&client_secret=0THVETABYGSJYWMMTFCMLWJQNKJ4GT42DVDSIUDMYQC2YMEG&ll=40.6032495,-73.9068747&v=20180604&radius=500&limit=100\n",
      "200\n",
      "New York Grasmere\n",
      "https://api.foursquare.com/v2/venues/explore?client_id=HRZNHDDCZQJ4U4NWRR1LYPJJVSYSPJCAHUW22JOZADGFOVL1&client_secret=0THVETABYGSJYWMMTFCMLWJQNKJ4GT42DVDSIUDMYQC2YMEG&ll=40.6042711,-74.087086&v=20180604&radius=500&limit=100\n",
      "200\n",
      "New York Bensonhurst\n",
      "https://api.foursquare.com/v2/venues/explore?client_id=HRZNHDDCZQJ4U4NWRR1LYPJJVSYSPJCAHUW22JOZADGFOVL1&client_secret=0THVETABYGSJYWMMTFCMLWJQNKJ4GT42DVDSIUDMYQC2YMEG&ll=40.60497720000001,-73.9934061&v=20180604&radius=500&limit=100\n",
      "200\n",
      "New York Far Rockaway\n",
      "https://api.foursquare.com/v2/venues/explore?client_id=HRZNHDDCZQJ4U4NWRR1LYPJJVSYSPJCAHUW22JOZADGFOVL1&client_secret=0THVETABYGSJYWMMTFCMLWJQNKJ4GT42DVDSIUDMYQC2YMEG&ll=40.605382500000005,-73.75513259999998&v=20180604&radius=500&limit=100\n",
      "200\n",
      "New York Bulls Head\n",
      "https://api.foursquare.com/v2/venues/explore?client_id=HRZNHDDCZQJ4U4NWRR1LYPJJVSYSPJCAHUW22JOZADGFOVL1&client_secret=0THVETABYGSJYWMMTFCMLWJQNKJ4GT42DVDSIUDMYQC2YMEG&ll=40.6070484,-74.1620879&v=20180604&radius=500&limit=100\n",
      "200\n",
      "New York Concord\n",
      "https://api.foursquare.com/v2/venues/explore?client_id=HRZNHDDCZQJ4U4NWRR1LYPJJVSYSPJCAHUW22JOZADGFOVL1&client_secret=0THVETABYGSJYWMMTFCMLWJQNKJ4GT42DVDSIUDMYQC2YMEG&ll=40.6081599,-74.08430809999999&v=20180604&radius=500&limit=100\n",
      "200\n",
      "New York Emerson Hill\n",
      "https://api.foursquare.com/v2/venues/explore?client_id=HRZNHDDCZQJ4U4NWRR1LYPJJVSYSPJCAHUW22JOZADGFOVL1&client_secret=0THVETABYGSJYWMMTFCMLWJQNKJ4GT42DVDSIUDMYQC2YMEG&ll=40.6085851,-74.0945642&v=20180604&radius=500&limit=100\n",
      "200\n",
      "New York Bayswater\n",
      "https://api.foursquare.com/v2/venues/explore?client_id=HRZNHDDCZQJ4U4NWRR1LYPJJVSYSPJCAHUW22JOZADGFOVL1&client_secret=0THVETABYGSJYWMMTFCMLWJQNKJ4GT42DVDSIUDMYQC2YMEG&ll=40.6102778,-73.7672222&v=20180604&radius=500&limit=100\n",
      "200\n",
      "New York Bloomfield\n",
      "https://api.foursquare.com/v2/venues/explore?client_id=HRZNHDDCZQJ4U4NWRR1LYPJJVSYSPJCAHUW22JOZADGFOVL1&client_secret=0THVETABYGSJYWMMTFCMLWJQNKJ4GT42DVDSIUDMYQC2YMEG&ll=40.612603899999996,-74.1781995&v=20180604&radius=500&limit=100\n",
      "200\n",
      "New York Castleton Corners\n",
      "https://api.foursquare.com/v2/venues/explore?client_id=HRZNHDDCZQJ4U4NWRR1LYPJJVSYSPJCAHUW22JOZADGFOVL1&client_secret=0THVETABYGSJYWMMTFCMLWJQNKJ4GT42DVDSIUDMYQC2YMEG&ll=40.613159700000004,-74.1223647&v=20180604&radius=500&limit=100\n",
      "200\n",
      "New York Rosebank\n",
      "https://api.foursquare.com/v2/venues/explore?client_id=HRZNHDDCZQJ4U4NWRR1LYPJJVSYSPJCAHUW22JOZADGFOVL1&client_secret=0THVETABYGSJYWMMTFCMLWJQNKJ4GT42DVDSIUDMYQC2YMEG&ll=40.6139932,-74.0662521&v=20180604&radius=500&limit=100\n",
      "200\n",
      "New York Grymes Hill\n",
      "https://api.foursquare.com/v2/venues/explore?client_id=HRZNHDDCZQJ4U4NWRR1LYPJJVSYSPJCAHUW22JOZADGFOVL1&client_secret=0THVETABYGSJYWMMTFCMLWJQNKJ4GT42DVDSIUDMYQC2YMEG&ll=40.6187152,-74.09347509999999&v=20180604&radius=500&limit=100\n",
      "200\n",
      "New York Fort Hamilton\n",
      "https://api.foursquare.com/v2/venues/explore?client_id=HRZNHDDCZQJ4U4NWRR1LYPJJVSYSPJCAHUW22JOZADGFOVL1&client_secret=0THVETABYGSJYWMMTFCMLWJQNKJ4GT42DVDSIUDMYQC2YMEG&ll=40.6187154,-74.03319570000001&v=20180604&radius=500&limit=100\n",
      "200\n",
      "New York Midwood\n",
      "https://api.foursquare.com/v2/venues/explore?client_id=HRZNHDDCZQJ4U4NWRR1LYPJJVSYSPJCAHUW22JOZADGFOVL1&client_secret=0THVETABYGSJYWMMTFCMLWJQNKJ4GT42DVDSIUDMYQC2YMEG&ll=40.618882299999996,-73.96548890000001&v=20180604&radius=500&limit=100\n",
      "200\n",
      "New York Clifton\n",
      "https://api.foursquare.com/v2/venues/explore?client_id=HRZNHDDCZQJ4U4NWRR1LYPJJVSYSPJCAHUW22JOZADGFOVL1&client_secret=0THVETABYGSJYWMMTFCMLWJQNKJ4GT42DVDSIUDMYQC2YMEG&ll=40.620104100000006,-74.07708570000001&v=20180604&radius=500&limit=100\n",
      "200\n",
      "New York Bergen Beach\n",
      "https://api.foursquare.com/v2/venues/explore?client_id=HRZNHDDCZQJ4U4NWRR1LYPJJVSYSPJCAHUW22JOZADGFOVL1&client_secret=0THVETABYGSJYWMMTFCMLWJQNKJ4GT42DVDSIUDMYQC2YMEG&ll=40.6203822,-73.90680329999999&v=20180604&radius=500&limit=100\n",
      "200\n",
      "New York Dyker Heights\n",
      "https://api.foursquare.com/v2/venues/explore?client_id=HRZNHDDCZQJ4U4NWRR1LYPJJVSYSPJCAHUW22JOZADGFOVL1&client_secret=0THVETABYGSJYWMMTFCMLWJQNKJ4GT42DVDSIUDMYQC2YMEG&ll=40.6204716,-74.0116668&v=20180604&radius=500&limit=100\n",
      "200\n",
      "New York Westerleigh\n",
      "https://api.foursquare.com/v2/venues/explore?client_id=HRZNHDDCZQJ4U4NWRR1LYPJJVSYSPJCAHUW22JOZADGFOVL1&client_secret=0THVETABYGSJYWMMTFCMLWJQNKJ4GT42DVDSIUDMYQC2YMEG&ll=40.621215,-74.13180940000001&v=20180604&radius=500&limit=100\n",
      "200\n",
      "New York Flatlands\n",
      "https://api.foursquare.com/v2/venues/explore?client_id=HRZNHDDCZQJ4U4NWRR1LYPJJVSYSPJCAHUW22JOZADGFOVL1&client_secret=0THVETABYGSJYWMMTFCMLWJQNKJ4GT42DVDSIUDMYQC2YMEG&ll=40.621215500000005,-73.9348597&v=20180604&radius=500&limit=100\n",
      "200\n",
      "New York Graniteville\n",
      "https://api.foursquare.com/v2/venues/explore?client_id=HRZNHDDCZQJ4U4NWRR1LYPJJVSYSPJCAHUW22JOZADGFOVL1&client_secret=0THVETABYGSJYWMMTFCMLWJQNKJ4GT42DVDSIUDMYQC2YMEG&ll=40.6248259,-74.1484765&v=20180604&radius=500&limit=100\n",
      "200\n",
      "New York Stapleton\n",
      "https://api.foursquare.com/v2/venues/explore?client_id=HRZNHDDCZQJ4U4NWRR1LYPJJVSYSPJCAHUW22JOZADGFOVL1&client_secret=0THVETABYGSJYWMMTFCMLWJQNKJ4GT42DVDSIUDMYQC2YMEG&ll=40.6264774,-74.07763609999999&v=20180604&radius=500&limit=100\n"
     ]
    },
    {
     "name": "stdout",
     "output_type": "stream",
     "text": [
      "200\n",
      "New York Bay Ridge\n",
      "https://api.foursquare.com/v2/venues/explore?client_id=HRZNHDDCZQJ4U4NWRR1LYPJJVSYSPJCAHUW22JOZADGFOVL1&client_secret=0THVETABYGSJYWMMTFCMLWJQNKJ4GT42DVDSIUDMYQC2YMEG&ll=40.630188000000004,-74.0271902&v=20180604&radius=500&limit=100\n",
      "200\n",
      "New York Elm Park\n",
      "https://api.foursquare.com/v2/venues/explore?client_id=HRZNHDDCZQJ4U4NWRR1LYPJJVSYSPJCAHUW22JOZADGFOVL1&client_secret=0THVETABYGSJYWMMTFCMLWJQNKJ4GT42DVDSIUDMYQC2YMEG&ll=40.6314925,-74.14875440000002&v=20180604&radius=500&limit=100\n",
      "200\n",
      "New York Arlington\n",
      "https://api.foursquare.com/v2/venues/explore?client_id=HRZNHDDCZQJ4U4NWRR1LYPJJVSYSPJCAHUW22JOZADGFOVL1&client_secret=0THVETABYGSJYWMMTFCMLWJQNKJ4GT42DVDSIUDMYQC2YMEG&ll=40.6323257,-74.1651437&v=20180604&radius=500&limit=100\n",
      "200\n",
      "New York Port Richmond\n",
      "https://api.foursquare.com/v2/venues/explore?client_id=HRZNHDDCZQJ4U4NWRR1LYPJJVSYSPJCAHUW22JOZADGFOVL1&client_secret=0THVETABYGSJYWMMTFCMLWJQNKJ4GT42DVDSIUDMYQC2YMEG&ll=40.6331592,-74.1365318&v=20180604&radius=500&limit=100\n",
      "200\n",
      "New York Borough Park\n",
      "https://api.foursquare.com/v2/venues/explore?client_id=HRZNHDDCZQJ4U4NWRR1LYPJJVSYSPJCAHUW22JOZADGFOVL1&client_secret=0THVETABYGSJYWMMTFCMLWJQNKJ4GT42DVDSIUDMYQC2YMEG&ll=40.633993,-73.9968059&v=20180604&radius=500&limit=100\n",
      "200\n",
      "New York Meadowmere\n",
      "https://api.foursquare.com/v2/venues/explore?client_id=HRZNHDDCZQJ4U4NWRR1LYPJJVSYSPJCAHUW22JOZADGFOVL1&client_secret=0THVETABYGSJYWMMTFCMLWJQNKJ4GT42DVDSIUDMYQC2YMEG&ll=40.6359685,-73.74151750426941&v=20180604&radius=500&limit=100\n",
      "200\n",
      "New York Tompkinsville\n",
      "https://api.foursquare.com/v2/venues/explore?client_id=HRZNHDDCZQJ4U4NWRR1LYPJJVSYSPJCAHUW22JOZADGFOVL1&client_secret=0THVETABYGSJYWMMTFCMLWJQNKJ4GT42DVDSIUDMYQC2YMEG&ll=40.636492600000004,-74.0854193&v=20180604&radius=500&limit=100\n",
      "200\n",
      "New York Mariners Harbor\n",
      "https://api.foursquare.com/v2/venues/explore?client_id=HRZNHDDCZQJ4U4NWRR1LYPJJVSYSPJCAHUW22JOZADGFOVL1&client_secret=0THVETABYGSJYWMMTFCMLWJQNKJ4GT42DVDSIUDMYQC2YMEG&ll=40.6367701,-74.1587547&v=20180604&radius=500&limit=100\n",
      "200\n",
      "New York Ditmas Village\n",
      "https://api.foursquare.com/v2/venues/explore?client_id=HRZNHDDCZQJ4U4NWRR1LYPJJVSYSPJCAHUW22JOZADGFOVL1&client_secret=0THVETABYGSJYWMMTFCMLWJQNKJ4GT42DVDSIUDMYQC2YMEG&ll=40.638478899999996,-73.9614003365293&v=20180604&radius=500&limit=100\n",
      "200\n",
      "New York Port Ivory\n",
      "https://api.foursquare.com/v2/venues/explore?client_id=HRZNHDDCZQJ4U4NWRR1LYPJJVSYSPJCAHUW22JOZADGFOVL1&client_secret=0THVETABYGSJYWMMTFCMLWJQNKJ4GT42DVDSIUDMYQC2YMEG&ll=40.6409366,-74.1801442&v=20180604&radius=500&limit=100\n",
      "200\n",
      "New York New Brighton\n",
      "https://api.foursquare.com/v2/venues/explore?client_id=HRZNHDDCZQJ4U4NWRR1LYPJJVSYSPJCAHUW22JOZADGFOVL1&client_secret=0THVETABYGSJYWMMTFCMLWJQNKJ4GT42DVDSIUDMYQC2YMEG&ll=40.642325799999995,-74.0929195&v=20180604&radius=500&limit=100\n",
      "200\n",
      "New York Canarsie\n",
      "https://api.foursquare.com/v2/venues/explore?client_id=HRZNHDDCZQJ4U4NWRR1LYPJJVSYSPJCAHUW22JOZADGFOVL1&client_secret=0THVETABYGSJYWMMTFCMLWJQNKJ4GT42DVDSIUDMYQC2YMEG&ll=40.643715,-73.9006921&v=20180604&radius=500&limit=100\n",
      "200\n",
      "New York Randall Manor\n",
      "https://api.foursquare.com/v2/venues/explore?client_id=HRZNHDDCZQJ4U4NWRR1LYPJJVSYSPJCAHUW22JOZADGFOVL1&client_secret=0THVETABYGSJYWMMTFCMLWJQNKJ4GT42DVDSIUDMYQC2YMEG&ll=40.6441993,-74.1045764039448&v=20180604&radius=500&limit=100\n",
      "200\n",
      "New York Sunset Park\n",
      "https://api.foursquare.com/v2/venues/explore?client_id=HRZNHDDCZQJ4U4NWRR1LYPJJVSYSPJCAHUW22JOZADGFOVL1&client_secret=0THVETABYGSJYWMMTFCMLWJQNKJ4GT42DVDSIUDMYQC2YMEG&ll=40.644337,-74.007532&v=20180604&radius=500&limit=100\n",
      "200\n",
      "New York Starrett City\n",
      "https://api.foursquare.com/v2/venues/explore?client_id=HRZNHDDCZQJ4U4NWRR1LYPJJVSYSPJCAHUW22JOZADGFOVL1&client_secret=0THVETABYGSJYWMMTFCMLWJQNKJ4GT42DVDSIUDMYQC2YMEG&ll=40.6478541,-73.8795154568842&v=20180604&radius=500&limit=100\n",
      "200\n",
      "New York Erasmus\n",
      "https://api.foursquare.com/v2/venues/explore?client_id=HRZNHDDCZQJ4U4NWRR1LYPJJVSYSPJCAHUW22JOZADGFOVL1&client_secret=0THVETABYGSJYWMMTFCMLWJQNKJ4GT42DVDSIUDMYQC2YMEG&ll=40.64978,-73.949465&v=20180604&radius=500&limit=100\n",
      "200\n",
      "New York Flatbush\n",
      "https://api.foursquare.com/v2/venues/explore?client_id=HRZNHDDCZQJ4U4NWRR1LYPJJVSYSPJCAHUW22JOZADGFOVL1&client_secret=0THVETABYGSJYWMMTFCMLWJQNKJ4GT42DVDSIUDMYQC2YMEG&ll=40.6520481,-73.959027&v=20180604&radius=500&limit=100\n",
      "200\n",
      "New York East Flatbush\n",
      "https://api.foursquare.com/v2/venues/explore?client_id=HRZNHDDCZQJ4U4NWRR1LYPJJVSYSPJCAHUW22JOZADGFOVL1&client_secret=0THVETABYGSJYWMMTFCMLWJQNKJ4GT42DVDSIUDMYQC2YMEG&ll=40.653714799999996,-73.93041509999999&v=20180604&radius=500&limit=100\n",
      "200\n",
      "New York Windsor Terrace\n",
      "https://api.foursquare.com/v2/venues/explore?client_id=HRZNHDDCZQJ4U4NWRR1LYPJJVSYSPJCAHUW22JOZADGFOVL1&client_secret=0THVETABYGSJYWMMTFCMLWJQNKJ4GT42DVDSIUDMYQC2YMEG&ll=40.655784600000004,-73.9765441&v=20180604&radius=500&limit=100\n",
      "200\n",
      "New York Howard Beach\n",
      "https://api.foursquare.com/v2/venues/explore?client_id=HRZNHDDCZQJ4U4NWRR1LYPJJVSYSPJCAHUW22JOZADGFOVL1&client_secret=0THVETABYGSJYWMMTFCMLWJQNKJ4GT42DVDSIUDMYQC2YMEG&ll=40.6578815,-73.83624590000001&v=20180604&radius=500&limit=100\n",
      "200\n",
      "New York Rosedale\n",
      "https://api.foursquare.com/v2/venues/explore?client_id=HRZNHDDCZQJ4U4NWRR1LYPJJVSYSPJCAHUW22JOZADGFOVL1&client_secret=0THVETABYGSJYWMMTFCMLWJQNKJ4GT42DVDSIUDMYQC2YMEG&ll=40.6620479,-73.7354097&v=20180604&radius=500&limit=100\n",
      "200\n",
      "New York East New York\n",
      "https://api.foursquare.com/v2/venues/explore?client_id=HRZNHDDCZQJ4U4NWRR1LYPJJVSYSPJCAHUW22JOZADGFOVL1&client_secret=0THVETABYGSJYWMMTFCMLWJQNKJ4GT42DVDSIUDMYQC2YMEG&ll=40.6667702,-73.88235829999999&v=20180604&radius=500&limit=100\n",
      "200\n",
      "New York Brownsville\n",
      "https://api.foursquare.com/v2/venues/explore?client_id=HRZNHDDCZQJ4U4NWRR1LYPJJVSYSPJCAHUW22JOZADGFOVL1&client_secret=0THVETABYGSJYWMMTFCMLWJQNKJ4GT42DVDSIUDMYQC2YMEG&ll=40.6672357,-73.9067979&v=20180604&radius=500&limit=100\n",
      "200\n",
      "New York Crown Heights\n",
      "https://api.foursquare.com/v2/venues/explore?client_id=HRZNHDDCZQJ4U4NWRR1LYPJJVSYSPJCAHUW22JOZADGFOVL1&client_secret=0THVETABYGSJYWMMTFCMLWJQNKJ4GT42DVDSIUDMYQC2YMEG&ll=40.667471,-73.9435662&v=20180604&radius=500&limit=100\n",
      "200\n",
      "New York Laurelton\n",
      "https://api.foursquare.com/v2/venues/explore?client_id=HRZNHDDCZQJ4U4NWRR1LYPJJVSYSPJCAHUW22JOZADGFOVL1&client_secret=0THVETABYGSJYWMMTFCMLWJQNKJ4GT42DVDSIUDMYQC2YMEG&ll=40.668518,-73.7518434&v=20180604&radius=500&limit=100\n",
      "200\n",
      "New York Park Slope\n",
      "https://api.foursquare.com/v2/venues/explore?client_id=HRZNHDDCZQJ4U4NWRR1LYPJJVSYSPJCAHUW22JOZADGFOVL1&client_secret=0THVETABYGSJYWMMTFCMLWJQNKJ4GT42DVDSIUDMYQC2YMEG&ll=40.6701033,-73.9859723&v=20180604&radius=500&limit=100\n",
      "200\n",
      "New York South Ozone Park\n",
      "https://api.foursquare.com/v2/venues/explore?client_id=HRZNHDDCZQJ4U4NWRR1LYPJJVSYSPJCAHUW22JOZADGFOVL1&client_secret=0THVETABYGSJYWMMTFCMLWJQNKJ4GT42DVDSIUDMYQC2YMEG&ll=40.670103499999996,-73.8190231&v=20180604&radius=500&limit=100\n",
      "200\n",
      "New York Ocean Hill\n",
      "https://api.foursquare.com/v2/venues/explore?client_id=HRZNHDDCZQJ4U4NWRR1LYPJJVSYSPJCAHUW22JOZADGFOVL1&client_secret=0THVETABYGSJYWMMTFCMLWJQNKJ4GT42DVDSIUDMYQC2YMEG&ll=40.67573170000001,-73.9124338&v=20180604&radius=500&limit=100\n",
      "200\n",
      "New York City Line\n",
      "https://api.foursquare.com/v2/venues/explore?client_id=HRZNHDDCZQJ4U4NWRR1LYPJJVSYSPJCAHUW22JOZADGFOVL1&client_secret=0THVETABYGSJYWMMTFCMLWJQNKJ4GT42DVDSIUDMYQC2YMEG&ll=40.676225099999996,-73.88696230000001&v=20180604&radius=500&limit=100\n",
      "200\n",
      "New York Rochdale Village\n",
      "https://api.foursquare.com/v2/venues/explore?client_id=HRZNHDDCZQJ4U4NWRR1LYPJJVSYSPJCAHUW22JOZADGFOVL1&client_secret=0THVETABYGSJYWMMTFCMLWJQNKJ4GT42DVDSIUDMYQC2YMEG&ll=40.6763889,-73.7738889&v=20180604&radius=500&limit=100\n",
      "200\n",
      "New York Weeksville\n",
      "https://api.foursquare.com/v2/venues/explore?client_id=HRZNHDDCZQJ4U4NWRR1LYPJJVSYSPJCAHUW22JOZADGFOVL1&client_secret=0THVETABYGSJYWMMTFCMLWJQNKJ4GT42DVDSIUDMYQC2YMEG&ll=40.67649605,-73.93457409335171&v=20180604&radius=500&limit=100\n",
      "200\n",
      "New York Ozone Park\n",
      "https://api.foursquare.com/v2/venues/explore?client_id=HRZNHDDCZQJ4U4NWRR1LYPJJVSYSPJCAHUW22JOZADGFOVL1&client_secret=0THVETABYGSJYWMMTFCMLWJQNKJ4GT42DVDSIUDMYQC2YMEG&ll=40.67677,-73.84374609999999&v=20180604&radius=500&limit=100\n",
      "200\n",
      "New York Cypress Hills\n",
      "https://api.foursquare.com/v2/venues/explore?client_id=HRZNHDDCZQJ4U4NWRR1LYPJJVSYSPJCAHUW22JOZADGFOVL1&client_secret=0THVETABYGSJYWMMTFCMLWJQNKJ4GT42DVDSIUDMYQC2YMEG&ll=40.6770477,-73.8912474&v=20180604&radius=500&limit=100\n"
     ]
    },
    {
     "name": "stdout",
     "output_type": "stream",
     "text": [
      "200\n",
      "New York Prospect Heights\n",
      "https://api.foursquare.com/v2/venues/explore?client_id=HRZNHDDCZQJ4U4NWRR1LYPJJVSYSPJCAHUW22JOZADGFOVL1&client_secret=0THVETABYGSJYWMMTFCMLWJQNKJ4GT42DVDSIUDMYQC2YMEG&ll=40.6778708,-73.9684725&v=20180604&radius=500&limit=100\n",
      "200\n",
      "New York Springfield Gardens\n",
      "https://api.foursquare.com/v2/venues/explore?client_id=HRZNHDDCZQJ4U4NWRR1LYPJJVSYSPJCAHUW22JOZADGFOVL1&client_secret=0THVETABYGSJYWMMTFCMLWJQNKJ4GT42DVDSIUDMYQC2YMEG&ll=40.678159,-73.746521&v=20180604&radius=500&limit=100\n",
      "200\n",
      "New York Carroll Gardens\n",
      "https://api.foursquare.com/v2/venues/explore?client_id=HRZNHDDCZQJ4U4NWRR1LYPJJVSYSPJCAHUW22JOZADGFOVL1&client_secret=0THVETABYGSJYWMMTFCMLWJQNKJ4GT42DVDSIUDMYQC2YMEG&ll=40.6784201,-73.9948021&v=20180604&radius=500&limit=100\n",
      "200\n",
      "New York Gowanus\n",
      "https://api.foursquare.com/v2/venues/explore?client_id=HRZNHDDCZQJ4U4NWRR1LYPJJVSYSPJCAHUW22JOZADGFOVL1&client_secret=0THVETABYGSJYWMMTFCMLWJQNKJ4GT42DVDSIUDMYQC2YMEG&ll=40.6791695,-73.9885041&v=20180604&radius=500&limit=100\n",
      "200\n",
      "New York Bedford-Stuyvesant\n",
      "https://api.foursquare.com/v2/venues/explore?client_id=HRZNHDDCZQJ4U4NWRR1LYPJJVSYSPJCAHUW22JOZADGFOVL1&client_secret=0THVETABYGSJYWMMTFCMLWJQNKJ4GT42DVDSIUDMYQC2YMEG&ll=40.6834364,-73.9412488&v=20180604&radius=500&limit=100\n",
      "200\n",
      "New York Boerum Hill\n",
      "https://api.foursquare.com/v2/venues/explore?client_id=HRZNHDDCZQJ4U4NWRR1LYPJJVSYSPJCAHUW22JOZADGFOVL1&client_secret=0THVETABYGSJYWMMTFCMLWJQNKJ4GT42DVDSIUDMYQC2YMEG&ll=40.68562615,-73.9841706580728&v=20180604&radius=500&limit=100\n",
      "200\n",
      "New York Woodhaven\n",
      "https://api.foursquare.com/v2/venues/explore?client_id=HRZNHDDCZQJ4U4NWRR1LYPJJVSYSPJCAHUW22JOZADGFOVL1&client_secret=0THVETABYGSJYWMMTFCMLWJQNKJ4GT42DVDSIUDMYQC2YMEG&ll=40.6892698,-73.85791309999999&v=20180604&radius=500&limit=100\n",
      "200\n",
      "New York Fulton Mall\n",
      "https://api.foursquare.com/v2/venues/explore?client_id=HRZNHDDCZQJ4U4NWRR1LYPJJVSYSPJCAHUW22JOZADGFOVL1&client_secret=0THVETABYGSJYWMMTFCMLWJQNKJ4GT42DVDSIUDMYQC2YMEG&ll=40.6897015,-73.9829511&v=20180604&radius=500&limit=100\n",
      "200\n",
      "New York Clinton Hill\n",
      "https://api.foursquare.com/v2/venues/explore?client_id=HRZNHDDCZQJ4U4NWRR1LYPJJVSYSPJCAHUW22JOZADGFOVL1&client_secret=0THVETABYGSJYWMMTFCMLWJQNKJ4GT42DVDSIUDMYQC2YMEG&ll=40.6897222,-73.9652778&v=20180604&radius=500&limit=100\n",
      "200\n",
      "New York Fort Greene\n",
      "https://api.foursquare.com/v2/venues/explore?client_id=HRZNHDDCZQJ4U4NWRR1LYPJJVSYSPJCAHUW22JOZADGFOVL1&client_secret=0THVETABYGSJYWMMTFCMLWJQNKJ4GT42DVDSIUDMYQC2YMEG&ll=40.6907711,-73.9766245&v=20180604&radius=500&limit=100\n",
      "200\n",
      "New York Jamaica,South Jamaica\n",
      "https://api.foursquare.com/v2/venues/explore?client_id=HRZNHDDCZQJ4U4NWRR1LYPJJVSYSPJCAHUW22JOZADGFOVL1&client_secret=0THVETABYGSJYWMMTFCMLWJQNKJ4GT42DVDSIUDMYQC2YMEG&ll=40.6914852,-73.8056771&v=20180604&radius=500&limit=100\n",
      "200\n",
      "New York Bushwick\n",
      "https://api.foursquare.com/v2/venues/explore?client_id=HRZNHDDCZQJ4U4NWRR1LYPJJVSYSPJCAHUW22JOZADGFOVL1&client_secret=0THVETABYGSJYWMMTFCMLWJQNKJ4GT42DVDSIUDMYQC2YMEG&ll=40.6942696,-73.91874820000001&v=20180604&radius=500&limit=100\n",
      "200\n",
      "New York Cambria Heights\n",
      "https://api.foursquare.com/v2/venues/explore?client_id=HRZNHDDCZQJ4U4NWRR1LYPJJVSYSPJCAHUW22JOZADGFOVL1&client_secret=0THVETABYGSJYWMMTFCMLWJQNKJ4GT42DVDSIUDMYQC2YMEG&ll=40.6945474,-73.73846529999999&v=20180604&radius=500&limit=100\n",
      "200\n",
      "New York Brooklyn Heights\n",
      "https://api.foursquare.com/v2/venues/explore?client_id=HRZNHDDCZQJ4U4NWRR1LYPJJVSYSPJCAHUW22JOZADGFOVL1&client_secret=0THVETABYGSJYWMMTFCMLWJQNKJ4GT42DVDSIUDMYQC2YMEG&ll=40.69608485,-73.99502783912651&v=20180604&radius=500&limit=100\n",
      "200\n",
      "New York St. Albans\n",
      "https://api.foursquare.com/v2/venues/explore?client_id=HRZNHDDCZQJ4U4NWRR1LYPJJVSYSPJCAHUW22JOZADGFOVL1&client_secret=0THVETABYGSJYWMMTFCMLWJQNKJ4GT42DVDSIUDMYQC2YMEG&ll=40.6984364,-73.7606881&v=20180604&radius=500&limit=100\n",
      "200\n",
      "New York Farragut\n",
      "https://api.foursquare.com/v2/venues/explore?client_id=HRZNHDDCZQJ4U4NWRR1LYPJJVSYSPJCAHUW22JOZADGFOVL1&client_secret=0THVETABYGSJYWMMTFCMLWJQNKJ4GT42DVDSIUDMYQC2YMEG&ll=40.69918995,-73.9817419542442&v=20180604&radius=500&limit=100\n",
      "200\n",
      "New York Flushing South,East Flushing\n",
      "https://api.foursquare.com/v2/venues/explore?client_id=HRZNHDDCZQJ4U4NWRR1LYPJJVSYSPJCAHUW22JOZADGFOVL1&client_secret=0THVETABYGSJYWMMTFCMLWJQNKJ4GT42DVDSIUDMYQC2YMEG&ll=40.7021855,-73.93643420000001&v=20180604&radius=500&limit=100\n",
      "200\n",
      "New York Dumbo\n",
      "https://api.foursquare.com/v2/venues/explore?client_id=HRZNHDDCZQJ4U4NWRR1LYPJJVSYSPJCAHUW22JOZADGFOVL1&client_secret=0THVETABYGSJYWMMTFCMLWJQNKJ4GT42DVDSIUDMYQC2YMEG&ll=40.702905200000004,-73.9901167&v=20180604&radius=500&limit=100\n",
      "200\n",
      "New York Brooklyn Navy Yard\n",
      "https://api.foursquare.com/v2/venues/explore?client_id=HRZNHDDCZQJ4U4NWRR1LYPJJVSYSPJCAHUW22JOZADGFOVL1&client_secret=0THVETABYGSJYWMMTFCMLWJQNKJ4GT42DVDSIUDMYQC2YMEG&ll=40.70341085,-73.9699679965206&v=20180604&radius=500&limit=100\n",
      "200\n",
      "New York Fulton Ferry\n",
      "https://api.foursquare.com/v2/venues/explore?client_id=HRZNHDDCZQJ4U4NWRR1LYPJJVSYSPJCAHUW22JOZADGFOVL1&client_secret=0THVETABYGSJYWMMTFCMLWJQNKJ4GT42DVDSIUDMYQC2YMEG&ll=40.7042643,-73.99293128122599&v=20180604&radius=500&limit=100\n",
      "200\n",
      "New York Fresh Pond\n",
      "https://api.foursquare.com/v2/venues/explore?client_id=HRZNHDDCZQJ4U4NWRR1LYPJJVSYSPJCAHUW22JOZADGFOVL1&client_secret=0THVETABYGSJYWMMTFCMLWJQNKJ4GT42DVDSIUDMYQC2YMEG&ll=40.707047100000004,-73.90347&v=20180604&radius=500&limit=100\n",
      "200\n",
      "New York Financial District\n",
      "https://api.foursquare.com/v2/venues/explore?client_id=HRZNHDDCZQJ4U4NWRR1LYPJJVSYSPJCAHUW22JOZADGFOVL1&client_secret=0THVETABYGSJYWMMTFCMLWJQNKJ4GT42DVDSIUDMYQC2YMEG&ll=40.7076124,-74.009378&v=20180604&radius=500&limit=100\n",
      "200\n",
      "New York Hollis\n",
      "https://api.foursquare.com/v2/venues/explore?client_id=HRZNHDDCZQJ4U4NWRR1LYPJJVSYSPJCAHUW22JOZADGFOVL1&client_secret=0THVETABYGSJYWMMTFCMLWJQNKJ4GT42DVDSIUDMYQC2YMEG&ll=40.7101715,-73.7666684&v=20180604&radius=500&limit=100\n",
      "200\n",
      "New York Liberty Park\n",
      "https://api.foursquare.com/v2/venues/explore?client_id=HRZNHDDCZQJ4U4NWRR1LYPJJVSYSPJCAHUW22JOZADGFOVL1&client_secret=0THVETABYGSJYWMMTFCMLWJQNKJ4GT42DVDSIUDMYQC2YMEG&ll=40.710240399999996,-74.01348370305641&v=20180604&radius=500&limit=100\n",
      "200\n",
      "New York Battery Park City\n",
      "https://api.foursquare.com/v2/venues/explore?client_id=HRZNHDDCZQJ4U4NWRR1LYPJJVSYSPJCAHUW22JOZADGFOVL1&client_secret=0THVETABYGSJYWMMTFCMLWJQNKJ4GT42DVDSIUDMYQC2YMEG&ll=40.7110166,-74.0169369&v=20180604&radius=500&limit=100\n",
      "200\n",
      "New York Two Bridges\n",
      "https://api.foursquare.com/v2/venues/explore?client_id=HRZNHDDCZQJ4U4NWRR1LYPJJVSYSPJCAHUW22JOZADGFOVL1&client_secret=0THVETABYGSJYWMMTFCMLWJQNKJ4GT42DVDSIUDMYQC2YMEG&ll=40.711288399999994,-73.9922333&v=20180604&radius=500&limit=100\n",
      "200\n",
      "New York Jamaica Estates\n",
      "https://api.foursquare.com/v2/venues/explore?client_id=HRZNHDDCZQJ4U4NWRR1LYPJJVSYSPJCAHUW22JOZADGFOVL1&client_secret=0THVETABYGSJYWMMTFCMLWJQNKJ4GT42DVDSIUDMYQC2YMEG&ll=40.71332165,-73.7825059542079&v=20180604&radius=500&limit=100\n",
      "200\n",
      "New York Kew Gardens\n",
      "https://api.foursquare.com/v2/venues/explore?client_id=HRZNHDDCZQJ4U4NWRR1LYPJJVSYSPJCAHUW22JOZADGFOVL1&client_secret=0THVETABYGSJYWMMTFCMLWJQNKJ4GT42DVDSIUDMYQC2YMEG&ll=40.7139415,-73.830742&v=20180604&radius=500&limit=100\n",
      "200\n",
      "New York Williamsburg\n",
      "https://api.foursquare.com/v2/venues/explore?client_id=HRZNHDDCZQJ4U4NWRR1LYPJJVSYSPJCAHUW22JOZADGFOVL1&client_secret=0THVETABYGSJYWMMTFCMLWJQNKJ4GT42DVDSIUDMYQC2YMEG&ll=40.714622,-73.95345&v=20180604&radius=500&limit=100\n",
      "200\n",
      "New York Tribeca\n",
      "https://api.foursquare.com/v2/venues/explore?client_id=HRZNHDDCZQJ4U4NWRR1LYPJJVSYSPJCAHUW22JOZADGFOVL1&client_secret=0THVETABYGSJYWMMTFCMLWJQNKJ4GT42DVDSIUDMYQC2YMEG&ll=40.715380200000006,-74.00930629999999&v=20180604&radius=500&limit=100\n",
      "200\n",
      "New York Linden Hill\n",
      "https://api.foursquare.com/v2/venues/explore?client_id=HRZNHDDCZQJ4U4NWRR1LYPJJVSYSPJCAHUW22JOZADGFOVL1&client_secret=0THVETABYGSJYWMMTFCMLWJQNKJ4GT42DVDSIUDMYQC2YMEG&ll=40.7156581,-73.92347059999999&v=20180604&radius=500&limit=100\n",
      "200\n",
      "New York Lower East Side\n",
      "https://api.foursquare.com/v2/venues/explore?client_id=HRZNHDDCZQJ4U4NWRR1LYPJJVSYSPJCAHUW22JOZADGFOVL1&client_secret=0THVETABYGSJYWMMTFCMLWJQNKJ4GT42DVDSIUDMYQC2YMEG&ll=40.7159357,-73.9868057&v=20180604&radius=500&limit=100\n",
      "200\n",
      "New York Chinatown\n",
      "https://api.foursquare.com/v2/venues/explore?client_id=HRZNHDDCZQJ4U4NWRR1LYPJJVSYSPJCAHUW22JOZADGFOVL1&client_secret=0THVETABYGSJYWMMTFCMLWJQNKJ4GT42DVDSIUDMYQC2YMEG&ll=40.716491299999994,-73.99625040000001&v=20180604&radius=500&limit=100\n"
     ]
    },
    {
     "name": "stdout",
     "output_type": "stream",
     "text": [
      "200\n",
      "New York Middle Village\n",
      "https://api.foursquare.com/v2/venues/explore?client_id=HRZNHDDCZQJ4U4NWRR1LYPJJVSYSPJCAHUW22JOZADGFOVL1&client_secret=0THVETABYGSJYWMMTFCMLWJQNKJ4GT42DVDSIUDMYQC2YMEG&ll=40.7182153,-73.8786698186696&v=20180604&radius=500&limit=100\n",
      "200\n",
      "New York Little Italy\n",
      "https://api.foursquare.com/v2/venues/explore?client_id=HRZNHDDCZQJ4U4NWRR1LYPJJVSYSPJCAHUW22JOZADGFOVL1&client_secret=0THVETABYGSJYWMMTFCMLWJQNKJ4GT42DVDSIUDMYQC2YMEG&ll=40.71927279999999,-73.9982152&v=20180604&radius=500&limit=100\n",
      "200\n",
      "New York SoHo\n",
      "https://api.foursquare.com/v2/venues/explore?client_id=HRZNHDDCZQJ4U4NWRR1LYPJJVSYSPJCAHUW22JOZADGFOVL1&client_secret=0THVETABYGSJYWMMTFCMLWJQNKJ4GT42DVDSIUDMYQC2YMEG&ll=40.722879999999996,-73.9987505&v=20180604&radius=500&limit=100\n",
      "200\n",
      "New York Rego Park\n",
      "https://api.foursquare.com/v2/venues/explore?client_id=HRZNHDDCZQJ4U4NWRR1LYPJJVSYSPJCAHUW22JOZADGFOVL1&client_secret=0THVETABYGSJYWMMTFCMLWJQNKJ4GT42DVDSIUDMYQC2YMEG&ll=40.72293705,-73.86220651513041&v=20180604&radius=500&limit=100\n",
      "200\n",
      "New York Maspeth\n",
      "https://api.foursquare.com/v2/venues/explore?client_id=HRZNHDDCZQJ4U4NWRR1LYPJJVSYSPJCAHUW22JOZADGFOVL1&client_secret=0THVETABYGSJYWMMTFCMLWJQNKJ4GT42DVDSIUDMYQC2YMEG&ll=40.723158000000005,-73.912637&v=20180604&radius=500&limit=100\n",
      "200\n",
      "New York Greenpoint\n",
      "https://api.foursquare.com/v2/venues/explore?client_id=HRZNHDDCZQJ4U4NWRR1LYPJJVSYSPJCAHUW22JOZADGFOVL1&client_secret=0THVETABYGSJYWMMTFCMLWJQNKJ4GT42DVDSIUDMYQC2YMEG&ll=40.723713399999994,-73.9509714&v=20180604&radius=500&limit=100\n",
      "200\n",
      "New York Bellerose\n",
      "https://api.foursquare.com/v2/venues/explore?client_id=HRZNHDDCZQJ4U4NWRR1LYPJJVSYSPJCAHUW22JOZADGFOVL1&client_secret=0THVETABYGSJYWMMTFCMLWJQNKJ4GT42DVDSIUDMYQC2YMEG&ll=40.724269,-73.7151313&v=20180604&radius=500&limit=100\n",
      "200\n",
      "New York Floral Park\n",
      "https://api.foursquare.com/v2/venues/explore?client_id=HRZNHDDCZQJ4U4NWRR1LYPJJVSYSPJCAHUW22JOZADGFOVL1&client_secret=0THVETABYGSJYWMMTFCMLWJQNKJ4GT42DVDSIUDMYQC2YMEG&ll=40.724699900000005,-73.7048024&v=20180604&radius=500&limit=100\n",
      "200\n",
      "New York Alphabet City\n",
      "https://api.foursquare.com/v2/venues/explore?client_id=HRZNHDDCZQJ4U4NWRR1LYPJJVSYSPJCAHUW22JOZADGFOVL1&client_secret=0THVETABYGSJYWMMTFCMLWJQNKJ4GT42DVDSIUDMYQC2YMEG&ll=40.7251022,-73.9795833&v=20180604&radius=500&limit=100\n",
      "200\n",
      "New York NoHo\n",
      "https://api.foursquare.com/v2/venues/explore?client_id=HRZNHDDCZQJ4U4NWRR1LYPJJVSYSPJCAHUW22JOZADGFOVL1&client_secret=0THVETABYGSJYWMMTFCMLWJQNKJ4GT42DVDSIUDMYQC2YMEG&ll=40.725874600000004,-73.9939566&v=20180604&radius=500&limit=100\n",
      "200\n",
      "New York Queens Village\n",
      "https://api.foursquare.com/v2/venues/explore?client_id=HRZNHDDCZQJ4U4NWRR1LYPJJVSYSPJCAHUW22JOZADGFOVL1&client_secret=0THVETABYGSJYWMMTFCMLWJQNKJ4GT42DVDSIUDMYQC2YMEG&ll=40.72676920000001,-73.7415208&v=20180604&radius=500&limit=100\n",
      "200\n",
      "New York Utopia\n",
      "https://api.foursquare.com/v2/venues/explore?client_id=HRZNHDDCZQJ4U4NWRR1LYPJJVSYSPJCAHUW22JOZADGFOVL1&client_secret=0THVETABYGSJYWMMTFCMLWJQNKJ4GT42DVDSIUDMYQC2YMEG&ll=40.727324700000004,-73.78652209999998&v=20180604&radius=500&limit=100\n",
      "200\n",
      "New York East Village\n",
      "https://api.foursquare.com/v2/venues/explore?client_id=HRZNHDDCZQJ4U4NWRR1LYPJJVSYSPJCAHUW22JOZADGFOVL1&client_secret=0THVETABYGSJYWMMTFCMLWJQNKJ4GT42DVDSIUDMYQC2YMEG&ll=40.7292688,-73.9873613&v=20180604&radius=500&limit=100\n",
      "200\n",
      "New York Fish Bay\n",
      "https://api.foursquare.com/v2/venues/explore?client_id=HRZNHDDCZQJ4U4NWRR1LYPJJVSYSPJCAHUW22JOZADGFOVL1&client_secret=0THVETABYGSJYWMMTFCMLWJQNKJ4GT42DVDSIUDMYQC2YMEG&ll=40.7317185,-74.0034012&v=20180604&radius=500&limit=100\n",
      "200\n",
      "New York Stuyvesant Town\n",
      "https://api.foursquare.com/v2/venues/explore?client_id=HRZNHDDCZQJ4U4NWRR1LYPJJVSYSPJCAHUW22JOZADGFOVL1&client_secret=0THVETABYGSJYWMMTFCMLWJQNKJ4GT42DVDSIUDMYQC2YMEG&ll=40.7319711,-73.978092781304&v=20180604&radius=500&limit=100\n",
      "200\n",
      "New York Greenwich Village\n",
      "https://api.foursquare.com/v2/venues/explore?client_id=HRZNHDDCZQJ4U4NWRR1LYPJJVSYSPJCAHUW22JOZADGFOVL1&client_secret=0THVETABYGSJYWMMTFCMLWJQNKJ4GT42DVDSIUDMYQC2YMEG&ll=40.7319802,-73.9965658&v=20180604&radius=500&limit=100\n",
      "200\n",
      "New York Pomonok Houses\n",
      "https://api.foursquare.com/v2/venues/explore?client_id=HRZNHDDCZQJ4U4NWRR1LYPJJVSYSPJCAHUW22JOZADGFOVL1&client_secret=0THVETABYGSJYWMMTFCMLWJQNKJ4GT42DVDSIUDMYQC2YMEG&ll=40.7332433,-73.81277820489001&v=20180604&radius=500&limit=100\n",
      "200\n",
      "New York Peter Cooper Village\n",
      "https://api.foursquare.com/v2/venues/explore?client_id=HRZNHDDCZQJ4U4NWRR1LYPJJVSYSPJCAHUW22JOZADGFOVL1&client_secret=0THVETABYGSJYWMMTFCMLWJQNKJ4GT42DVDSIUDMYQC2YMEG&ll=40.7340429,-73.9776225&v=20180604&radius=500&limit=100\n",
      "200\n",
      "New York West Village\n",
      "https://api.foursquare.com/v2/venues/explore?client_id=HRZNHDDCZQJ4U4NWRR1LYPJJVSYSPJCAHUW22JOZADGFOVL1&client_secret=0THVETABYGSJYWMMTFCMLWJQNKJ4GT42DVDSIUDMYQC2YMEG&ll=40.734185700000005,-74.00558000000001&v=20180604&radius=500&limit=100\n",
      "200\n",
      "New York New Hyde Park\n",
      "https://api.foursquare.com/v2/venues/explore?client_id=HRZNHDDCZQJ4U4NWRR1LYPJJVSYSPJCAHUW22JOZADGFOVL1&client_secret=0THVETABYGSJYWMMTFCMLWJQNKJ4GT42DVDSIUDMYQC2YMEG&ll=40.7352157,-73.6883239&v=20180604&radius=500&limit=100\n",
      "200\n",
      "New York Hollis Hills\n",
      "https://api.foursquare.com/v2/venues/explore?client_id=HRZNHDDCZQJ4U4NWRR1LYPJJVSYSPJCAHUW22JOZADGFOVL1&client_secret=0THVETABYGSJYWMMTFCMLWJQNKJ4GT42DVDSIUDMYQC2YMEG&ll=40.7359687,-73.7663106&v=20180604&radius=500&limit=100\n",
      "200\n",
      "New York Fresh Meadows\n",
      "https://api.foursquare.com/v2/venues/explore?client_id=HRZNHDDCZQJ4U4NWRR1LYPJJVSYSPJCAHUW22JOZADGFOVL1&client_secret=0THVETABYGSJYWMMTFCMLWJQNKJ4GT42DVDSIUDMYQC2YMEG&ll=40.73613835,-73.7800816557486&v=20180604&radius=500&limit=100\n",
      "200\n",
      "New York Elmhurst\n",
      "https://api.foursquare.com/v2/venues/explore?client_id=HRZNHDDCZQJ4U4NWRR1LYPJJVSYSPJCAHUW22JOZADGFOVL1&client_secret=0THVETABYGSJYWMMTFCMLWJQNKJ4GT42DVDSIUDMYQC2YMEG&ll=40.7365804,-73.8783932&v=20180604&radius=500&limit=100\n",
      "200\n",
      "New York Waterside Plaza\n",
      "https://api.foursquare.com/v2/venues/explore?client_id=HRZNHDDCZQJ4U4NWRR1LYPJJVSYSPJCAHUW22JOZADGFOVL1&client_secret=0THVETABYGSJYWMMTFCMLWJQNKJ4GT42DVDSIUDMYQC2YMEG&ll=40.73758055,-73.9732421845755&v=20180604&radius=500&limit=100\n",
      "200\n",
      "New York Gramercy Park\n",
      "https://api.foursquare.com/v2/venues/explore?client_id=HRZNHDDCZQJ4U4NWRR1LYPJJVSYSPJCAHUW22JOZADGFOVL1&client_secret=0THVETABYGSJYWMMTFCMLWJQNKJ4GT42DVDSIUDMYQC2YMEG&ll=40.73792525,-73.9859323962158&v=20180604&radius=500&limit=100\n",
      "200\n",
      "New York Kips Bay\n",
      "https://api.foursquare.com/v2/venues/explore?client_id=HRZNHDDCZQJ4U4NWRR1LYPJJVSYSPJCAHUW22JOZADGFOVL1&client_secret=0THVETABYGSJYWMMTFCMLWJQNKJ4GT42DVDSIUDMYQC2YMEG&ll=40.7395463,-73.97708320000001&v=20180604&radius=500&limit=100\n",
      "200\n",
      "New York Sunnyside\n",
      "https://api.foursquare.com/v2/venues/explore?client_id=HRZNHDDCZQJ4U4NWRR1LYPJJVSYSPJCAHUW22JOZADGFOVL1&client_secret=0THVETABYGSJYWMMTFCMLWJQNKJ4GT42DVDSIUDMYQC2YMEG&ll=40.7398242,-73.93541529999999&v=20180604&radius=500&limit=100\n",
      "200\n",
      "New York Long Island City\n",
      "https://api.foursquare.com/v2/venues/explore?client_id=HRZNHDDCZQJ4U4NWRR1LYPJJVSYSPJCAHUW22JOZADGFOVL1&client_secret=0THVETABYGSJYWMMTFCMLWJQNKJ4GT42DVDSIUDMYQC2YMEG&ll=40.7415369,-73.95712490000001&v=20180604&radius=500&limit=100\n",
      "200\n",
      "New York Rose Hill\n",
      "https://api.foursquare.com/v2/venues/explore?client_id=HRZNHDDCZQJ4U4NWRR1LYPJJVSYSPJCAHUW22JOZADGFOVL1&client_secret=0THVETABYGSJYWMMTFCMLWJQNKJ4GT42DVDSIUDMYQC2YMEG&ll=40.743338,-73.98415940000001&v=20180604&radius=500&limit=100\n",
      "200\n",
      "New York Flushing\n",
      "https://api.foursquare.com/v2/venues/explore?client_id=HRZNHDDCZQJ4U4NWRR1LYPJJVSYSPJCAHUW22JOZADGFOVL1&client_secret=0THVETABYGSJYWMMTFCMLWJQNKJ4GT42DVDSIUDMYQC2YMEG&ll=40.744181,-73.83585409999999&v=20180604&radius=500&limit=100\n",
      "200\n",
      "New York Chelsea\n",
      "https://api.foursquare.com/v2/venues/explore?client_id=HRZNHDDCZQJ4U4NWRR1LYPJJVSYSPJCAHUW22JOZADGFOVL1&client_secret=0THVETABYGSJYWMMTFCMLWJQNKJ4GT42DVDSIUDMYQC2YMEG&ll=40.7464906,-74.00152829999999&v=20180604&radius=500&limit=100\n",
      "200\n",
      "New York North Corona,Corona\n",
      "https://api.foursquare.com/v2/venues/explore?client_id=HRZNHDDCZQJ4U4NWRR1LYPJJVSYSPJCAHUW22JOZADGFOVL1&client_secret=0THVETABYGSJYWMMTFCMLWJQNKJ4GT42DVDSIUDMYQC2YMEG&ll=40.7469593,-73.8601456&v=20180604&radius=500&limit=100\n",
      "200\n",
      "New York Glen Oaks\n",
      "https://api.foursquare.com/v2/venues/explore?client_id=HRZNHDDCZQJ4U4NWRR1LYPJJVSYSPJCAHUW22JOZADGFOVL1&client_secret=0THVETABYGSJYWMMTFCMLWJQNKJ4GT42DVDSIUDMYQC2YMEG&ll=40.7470463,-73.7115199&v=20180604&radius=500&limit=100\n"
     ]
    },
    {
     "name": "stdout",
     "output_type": "stream",
     "text": [
      "200\n",
      "New York Murray Hill\n",
      "https://api.foursquare.com/v2/venues/explore?client_id=HRZNHDDCZQJ4U4NWRR1LYPJJVSYSPJCAHUW22JOZADGFOVL1&client_secret=0THVETABYGSJYWMMTFCMLWJQNKJ4GT42DVDSIUDMYQC2YMEG&ll=40.7481574,-73.97875&v=20180604&radius=500&limit=100\n",
      "200\n",
      "New York Tudor City\n",
      "https://api.foursquare.com/v2/venues/explore?client_id=HRZNHDDCZQJ4U4NWRR1LYPJJVSYSPJCAHUW22JOZADGFOVL1&client_secret=0THVETABYGSJYWMMTFCMLWJQNKJ4GT42DVDSIUDMYQC2YMEG&ll=40.7486231,-73.97138890000001&v=20180604&radius=500&limit=100\n",
      "200\n",
      "New York Turtle Bay\n",
      "https://api.foursquare.com/v2/venues/explore?client_id=HRZNHDDCZQJ4U4NWRR1LYPJJVSYSPJCAHUW22JOZADGFOVL1&client_secret=0THVETABYGSJYWMMTFCMLWJQNKJ4GT42DVDSIUDMYQC2YMEG&ll=40.7534666,-73.96886590000001&v=20180604&radius=500&limit=100\n",
      "200\n",
      "New York Oakland Gardens\n",
      "https://api.foursquare.com/v2/venues/explore?client_id=HRZNHDDCZQJ4U4NWRR1LYPJJVSYSPJCAHUW22JOZADGFOVL1&client_secret=0THVETABYGSJYWMMTFCMLWJQNKJ4GT42DVDSIUDMYQC2YMEG&ll=40.753991,-73.765966&v=20180604&radius=500&limit=100\n",
      "200\n",
      "New York Queensbridge\n",
      "https://api.foursquare.com/v2/venues/explore?client_id=HRZNHDDCZQJ4U4NWRR1LYPJJVSYSPJCAHUW22JOZADGFOVL1&client_secret=0THVETABYGSJYWMMTFCMLWJQNKJ4GT42DVDSIUDMYQC2YMEG&ll=40.75449455,-73.9456128190541&v=20180604&radius=500&limit=100\n",
      "200\n",
      "New York Jackson Heights\n",
      "https://api.foursquare.com/v2/venues/explore?client_id=HRZNHDDCZQJ4U4NWRR1LYPJJVSYSPJCAHUW22JOZADGFOVL1&client_secret=0THVETABYGSJYWMMTFCMLWJQNKJ4GT42DVDSIUDMYQC2YMEG&ll=40.755656099999996,-73.8857755&v=20180604&radius=500&limit=100\n",
      "200\n",
      "New York Queensboro Hill\n",
      "https://api.foursquare.com/v2/venues/explore?client_id=HRZNHDDCZQJ4U4NWRR1LYPJJVSYSPJCAHUW22JOZADGFOVL1&client_secret=0THVETABYGSJYWMMTFCMLWJQNKJ4GT42DVDSIUDMYQC2YMEG&ll=40.75573455,-73.9518925806638&v=20180604&radius=500&limit=100\n",
      "200\n",
      "New York Hudson Yards\n",
      "https://api.foursquare.com/v2/venues/explore?client_id=HRZNHDDCZQJ4U4NWRR1LYPJJVSYSPJCAHUW22JOZADGFOVL1&client_secret=0THVETABYGSJYWMMTFCMLWJQNKJ4GT42DVDSIUDMYQC2YMEG&ll=40.7559064,-74.00053220000001&v=20180604&radius=500&limit=100\n",
      "200\n",
      "New York East Elmhurst\n",
      "https://api.foursquare.com/v2/venues/explore?client_id=HRZNHDDCZQJ4U4NWRR1LYPJJVSYSPJCAHUW22JOZADGFOVL1&client_secret=0THVETABYGSJYWMMTFCMLWJQNKJ4GT42DVDSIUDMYQC2YMEG&ll=40.7612123,-73.8651358&v=20180604&radius=500&limit=100\n",
      "200\n",
      "New York Roosevelt Island\n",
      "https://api.foursquare.com/v2/venues/explore?client_id=HRZNHDDCZQJ4U4NWRR1LYPJJVSYSPJCAHUW22JOZADGFOVL1&client_secret=0THVETABYGSJYWMMTFCMLWJQNKJ4GT42DVDSIUDMYQC2YMEG&ll=40.7614177,-73.9502281671115&v=20180604&radius=500&limit=100\n",
      "200\n",
      "New York Auburndale\n",
      "https://api.foursquare.com/v2/venues/explore?client_id=HRZNHDDCZQJ4U4NWRR1LYPJJVSYSPJCAHUW22JOZADGFOVL1&client_secret=0THVETABYGSJYWMMTFCMLWJQNKJ4GT42DVDSIUDMYQC2YMEG&ll=40.7614516,-73.78972390000001&v=20180604&radius=500&limit=100\n",
      "200\n",
      "New York Little Neck\n",
      "https://api.foursquare.com/v2/venues/explore?client_id=HRZNHDDCZQJ4U4NWRR1LYPJJVSYSPJCAHUW22JOZADGFOVL1&client_secret=0THVETABYGSJYWMMTFCMLWJQNKJ4GT42DVDSIUDMYQC2YMEG&ll=40.7620463,-73.7381874&v=20180604&radius=500&limit=100\n",
      "200\n",
      "New York Midtown\n",
      "https://api.foursquare.com/v2/venues/explore?client_id=HRZNHDDCZQJ4U4NWRR1LYPJJVSYSPJCAHUW22JOZADGFOVL1&client_secret=0THVETABYGSJYWMMTFCMLWJQNKJ4GT42DVDSIUDMYQC2YMEG&ll=40.7622684,-73.9795443&v=20180604&radius=500&limit=100\n",
      "200\n",
      "New York Lenox Hill\n",
      "https://api.foursquare.com/v2/venues/explore?client_id=HRZNHDDCZQJ4U4NWRR1LYPJJVSYSPJCAHUW22JOZADGFOVL1&client_secret=0THVETABYGSJYWMMTFCMLWJQNKJ4GT42DVDSIUDMYQC2YMEG&ll=40.766436600000006,-73.9590168&v=20180604&radius=500&limit=100\n",
      "200\n",
      "New York Bayside\n",
      "https://api.foursquare.com/v2/venues/explore?client_id=HRZNHDDCZQJ4U4NWRR1LYPJJVSYSPJCAHUW22JOZADGFOVL1&client_secret=0THVETABYGSJYWMMTFCMLWJQNKJ4GT42DVDSIUDMYQC2YMEG&ll=40.768435100000005,-73.77707740000001&v=20180604&radius=500&limit=100\n",
      "200\n",
      "New York Douglaston\n",
      "https://api.foursquare.com/v2/venues/explore?client_id=HRZNHDDCZQJ4U4NWRR1LYPJJVSYSPJCAHUW22JOZADGFOVL1&client_secret=0THVETABYGSJYWMMTFCMLWJQNKJ4GT42DVDSIUDMYQC2YMEG&ll=40.768713,-73.7470765&v=20180604&radius=500&limit=100\n",
      "200\n",
      "New York Ditmars\n",
      "https://api.foursquare.com/v2/venues/explore?client_id=HRZNHDDCZQJ4U4NWRR1LYPJJVSYSPJCAHUW22JOZADGFOVL1&client_secret=0THVETABYGSJYWMMTFCMLWJQNKJ4GT42DVDSIUDMYQC2YMEG&ll=40.77158165,-73.90710835&v=20180604&radius=500&limit=100\n",
      "200\n",
      "New York Astoria,Old Astoria\n",
      "https://api.foursquare.com/v2/venues/explore?client_id=HRZNHDDCZQJ4U4NWRR1LYPJJVSYSPJCAHUW22JOZADGFOVL1&client_secret=0THVETABYGSJYWMMTFCMLWJQNKJ4GT42DVDSIUDMYQC2YMEG&ll=40.772014500000004,-73.9302673&v=20180604&radius=500&limit=100\n",
      "200\n",
      "New York Lincoln Square\n",
      "https://api.foursquare.com/v2/venues/explore?client_id=HRZNHDDCZQJ4U4NWRR1LYPJJVSYSPJCAHUW22JOZADGFOVL1&client_secret=0THVETABYGSJYWMMTFCMLWJQNKJ4GT42DVDSIUDMYQC2YMEG&ll=40.77231939999999,-73.9844012&v=20180604&radius=500&limit=100\n",
      "200\n",
      "New York Upper East Side\n",
      "https://api.foursquare.com/v2/venues/explore?client_id=HRZNHDDCZQJ4U4NWRR1LYPJJVSYSPJCAHUW22JOZADGFOVL1&client_secret=0THVETABYGSJYWMMTFCMLWJQNKJ4GT42DVDSIUDMYQC2YMEG&ll=40.7737016,-73.9641196&v=20180604&radius=500&limit=100\n",
      "200\n",
      "New York Steinway\n",
      "https://api.foursquare.com/v2/venues/explore?client_id=HRZNHDDCZQJ4U4NWRR1LYPJJVSYSPJCAHUW22JOZADGFOVL1&client_secret=0THVETABYGSJYWMMTFCMLWJQNKJ4GT42DVDSIUDMYQC2YMEG&ll=40.7745459,-73.90374770000001&v=20180604&radius=500&limit=100\n",
      "200\n",
      "New York Yorkville\n",
      "https://api.foursquare.com/v2/venues/explore?client_id=HRZNHDDCZQJ4U4NWRR1LYPJJVSYSPJCAHUW22JOZADGFOVL1&client_secret=0THVETABYGSJYWMMTFCMLWJQNKJ4GT42DVDSIUDMYQC2YMEG&ll=40.778006700000006,-73.9482022&v=20180604&radius=500&limit=100\n",
      "200\n",
      "New York Upper West Side\n",
      "https://api.foursquare.com/v2/venues/explore?client_id=HRZNHDDCZQJ4U4NWRR1LYPJJVSYSPJCAHUW22JOZADGFOVL1&client_secret=0THVETABYGSJYWMMTFCMLWJQNKJ4GT42DVDSIUDMYQC2YMEG&ll=40.787045500000005,-73.97541629999999&v=20180604&radius=500&limit=100\n",
      "200\n",
      "New York Wards Island\n",
      "https://api.foursquare.com/v2/venues/explore?client_id=HRZNHDDCZQJ4U4NWRR1LYPJJVSYSPJCAHUW22JOZADGFOVL1&client_secret=0THVETABYGSJYWMMTFCMLWJQNKJ4GT42DVDSIUDMYQC2YMEG&ll=40.787601200000005,-73.9254149&v=20180604&radius=500&limit=100\n",
      "200\n",
      "New York College Point\n",
      "https://api.foursquare.com/v2/venues/explore?client_id=HRZNHDDCZQJ4U4NWRR1LYPJJVSYSPJCAHUW22JOZADGFOVL1&client_secret=0THVETABYGSJYWMMTFCMLWJQNKJ4GT42DVDSIUDMYQC2YMEG&ll=40.7876014,-73.8459682&v=20180604&radius=500&limit=100\n",
      "200\n",
      "New York Malba\n",
      "https://api.foursquare.com/v2/venues/explore?client_id=HRZNHDDCZQJ4U4NWRR1LYPJJVSYSPJCAHUW22JOZADGFOVL1&client_secret=0THVETABYGSJYWMMTFCMLWJQNKJ4GT42DVDSIUDMYQC2YMEG&ll=40.790656899999995,-73.82680090000001&v=20180604&radius=500&limit=100\n",
      "200\n",
      "New York Beechhurst\n",
      "https://api.foursquare.com/v2/venues/explore?client_id=HRZNHDDCZQJ4U4NWRR1LYPJJVSYSPJCAHUW22JOZADGFOVL1&client_secret=0THVETABYGSJYWMMTFCMLWJQNKJ4GT42DVDSIUDMYQC2YMEG&ll=40.7914903,-73.8045781&v=20180604&radius=500&limit=100\n",
      "200\n",
      "New York Kensington\n",
      "https://api.foursquare.com/v2/venues/explore?client_id=HRZNHDDCZQJ4U4NWRR1LYPJJVSYSPJCAHUW22JOZADGFOVL1&client_secret=0THVETABYGSJYWMMTFCMLWJQNKJ4GT42DVDSIUDMYQC2YMEG&ll=40.7934345,-73.7220756&v=20180604&radius=500&limit=100\n",
      "200\n",
      "New York Whitestone\n",
      "https://api.foursquare.com/v2/venues/explore?client_id=HRZNHDDCZQJ4U4NWRR1LYPJJVSYSPJCAHUW22JOZADGFOVL1&client_secret=0THVETABYGSJYWMMTFCMLWJQNKJ4GT42DVDSIUDMYQC2YMEG&ll=40.79454570000001,-73.81846740000002&v=20180604&radius=500&limit=100\n",
      "200\n",
      "New York East Harlem\n",
      "https://api.foursquare.com/v2/venues/explore?client_id=HRZNHDDCZQJ4U4NWRR1LYPJJVSYSPJCAHUW22JOZADGFOVL1&client_secret=0THVETABYGSJYWMMTFCMLWJQNKJ4GT42DVDSIUDMYQC2YMEG&ll=40.7947222,-73.9425&v=20180604&radius=500&limit=100\n",
      "200\n",
      "New York Randall's Island\n",
      "https://api.foursquare.com/v2/venues/explore?client_id=HRZNHDDCZQJ4U4NWRR1LYPJJVSYSPJCAHUW22JOZADGFOVL1&client_secret=0THVETABYGSJYWMMTFCMLWJQNKJ4GT42DVDSIUDMYQC2YMEG&ll=40.796767700000004,-73.92208149999999&v=20180604&radius=500&limit=100\n",
      "200\n",
      "New York Manhattan Valley\n",
      "https://api.foursquare.com/v2/venues/explore?client_id=HRZNHDDCZQJ4U4NWRR1LYPJJVSYSPJCAHUW22JOZADGFOVL1&client_secret=0THVETABYGSJYWMMTFCMLWJQNKJ4GT42DVDSIUDMYQC2YMEG&ll=40.7997764,-73.96777159999999&v=20180604&radius=500&limit=100\n"
     ]
    },
    {
     "name": "stdout",
     "output_type": "stream",
     "text": [
      "200\n",
      "New York Port Morris\n",
      "https://api.foursquare.com/v2/venues/explore?client_id=HRZNHDDCZQJ4U4NWRR1LYPJJVSYSPJCAHUW22JOZADGFOVL1&client_secret=0THVETABYGSJYWMMTFCMLWJQNKJ4GT42DVDSIUDMYQC2YMEG&ll=40.801514700000006,-73.9095811&v=20180604&radius=500&limit=100\n",
      "200\n",
      "New York Harlem\n",
      "https://api.foursquare.com/v2/venues/explore?client_id=HRZNHDDCZQJ4U4NWRR1LYPJJVSYSPJCAHUW22JOZADGFOVL1&client_secret=0THVETABYGSJYWMMTFCMLWJQNKJ4GT42DVDSIUDMYQC2YMEG&ll=40.8078786,-73.94541540000002&v=20180604&radius=500&limit=100\n",
      "200\n",
      "New York Mott Haven\n",
      "https://api.foursquare.com/v2/venues/explore?client_id=HRZNHDDCZQJ4U4NWRR1LYPJJVSYSPJCAHUW22JOZADGFOVL1&client_secret=0THVETABYGSJYWMMTFCMLWJQNKJ4GT42DVDSIUDMYQC2YMEG&ll=40.808989700000005,-73.92291469999999&v=20180604&radius=500&limit=100\n",
      "200\n",
      "New York Harding Park\n",
      "https://api.foursquare.com/v2/venues/explore?client_id=HRZNHDDCZQJ4U4NWRR1LYPJJVSYSPJCAHUW22JOZADGFOVL1&client_secret=0THVETABYGSJYWMMTFCMLWJQNKJ4GT42DVDSIUDMYQC2YMEG&ll=40.8094444,-73.85638890000001&v=20180604&radius=500&limit=100\n",
      "200\n",
      "New York Morningside Heights\n",
      "https://api.foursquare.com/v2/venues/explore?client_id=HRZNHDDCZQJ4U4NWRR1LYPJJVSYSPJCAHUW22JOZADGFOVL1&client_secret=0THVETABYGSJYWMMTFCMLWJQNKJ4GT42DVDSIUDMYQC2YMEG&ll=40.81,-73.9625&v=20180604&radius=500&limit=100\n",
      "200\n",
      "New York Silver Beach\n",
      "https://api.foursquare.com/v2/venues/explore?client_id=HRZNHDDCZQJ4U4NWRR1LYPJJVSYSPJCAHUW22JOZADGFOVL1&client_secret=0THVETABYGSJYWMMTFCMLWJQNKJ4GT42DVDSIUDMYQC2YMEG&ll=40.8116667,-73.8063889&v=20180604&radius=500&limit=100\n",
      "200\n",
      "New York Hunts Point\n",
      "https://api.foursquare.com/v2/venues/explore?client_id=HRZNHDDCZQJ4U4NWRR1LYPJJVSYSPJCAHUW22JOZADGFOVL1&client_secret=0THVETABYGSJYWMMTFCMLWJQNKJ4GT42DVDSIUDMYQC2YMEG&ll=40.8126008,-73.8840247&v=20180604&radius=500&limit=100\n",
      "200\n",
      "New York Clason Point\n",
      "https://api.foursquare.com/v2/venues/explore?client_id=HRZNHDDCZQJ4U4NWRR1LYPJJVSYSPJCAHUW22JOZADGFOVL1&client_secret=0THVETABYGSJYWMMTFCMLWJQNKJ4GT42DVDSIUDMYQC2YMEG&ll=40.8147164,-73.85996479999999&v=20180604&radius=500&limit=100\n",
      "200\n",
      "New York Manhattanville\n",
      "https://api.foursquare.com/v2/venues/explore?client_id=HRZNHDDCZQJ4U4NWRR1LYPJJVSYSPJCAHUW22JOZADGFOVL1&client_secret=0THVETABYGSJYWMMTFCMLWJQNKJ4GT42DVDSIUDMYQC2YMEG&ll=40.8157775,-73.951554&v=20180604&radius=500&limit=100\n",
      "200\n",
      "New York Locust Point\n",
      "https://api.foursquare.com/v2/venues/explore?client_id=HRZNHDDCZQJ4U4NWRR1LYPJJVSYSPJCAHUW22JOZADGFOVL1&client_secret=0THVETABYGSJYWMMTFCMLWJQNKJ4GT42DVDSIUDMYQC2YMEG&ll=40.8159342,-73.80207800000001&v=20180604&radius=500&limit=100\n",
      "200\n",
      "New York Castle Hill\n",
      "https://api.foursquare.com/v2/venues/explore?client_id=HRZNHDDCZQJ4U4NWRR1LYPJJVSYSPJCAHUW22JOZADGFOVL1&client_secret=0THVETABYGSJYWMMTFCMLWJQNKJ4GT42DVDSIUDMYQC2YMEG&ll=40.8189076,-73.8499209&v=20180604&radius=500&limit=100\n",
      "200\n",
      "New York Throgs Neck\n",
      "https://api.foursquare.com/v2/venues/explore?client_id=HRZNHDDCZQJ4U4NWRR1LYPJJVSYSPJCAHUW22JOZADGFOVL1&client_secret=0THVETABYGSJYWMMTFCMLWJQNKJ4GT42DVDSIUDMYQC2YMEG&ll=40.8226008,-73.81957840000001&v=20180604&radius=500&limit=100\n",
      "200\n",
      "New York Concourse Village\n",
      "https://api.foursquare.com/v2/venues/explore?client_id=HRZNHDDCZQJ4U4NWRR1LYPJJVSYSPJCAHUW22JOZADGFOVL1&client_secret=0THVETABYGSJYWMMTFCMLWJQNKJ4GT42DVDSIUDMYQC2YMEG&ll=40.82386815,-73.9211809121883&v=20180604&radius=500&limit=100\n",
      "200\n",
      "New York Hamilton Heights\n",
      "https://api.foursquare.com/v2/venues/explore?client_id=HRZNHDDCZQJ4U4NWRR1LYPJJVSYSPJCAHUW22JOZADGFOVL1&client_secret=0THVETABYGSJYWMMTFCMLWJQNKJ4GT42DVDSIUDMYQC2YMEG&ll=40.8241451,-73.9500618&v=20180604&radius=500&limit=100\n",
      "200\n",
      "New York Melrose\n",
      "https://api.foursquare.com/v2/venues/explore?client_id=HRZNHDDCZQJ4U4NWRR1LYPJJVSYSPJCAHUW22JOZADGFOVL1&client_secret=0THVETABYGSJYWMMTFCMLWJQNKJ4GT42DVDSIUDMYQC2YMEG&ll=40.824545,-73.9104143&v=20180604&radius=500&limit=100\n",
      "200\n",
      "New York Bruckner\n",
      "https://api.foursquare.com/v2/venues/explore?client_id=HRZNHDDCZQJ4U4NWRR1LYPJJVSYSPJCAHUW22JOZADGFOVL1&client_secret=0THVETABYGSJYWMMTFCMLWJQNKJ4GT42DVDSIUDMYQC2YMEG&ll=40.826666700000004,-73.82861109999999&v=20180604&radius=500&limit=100\n",
      "200\n",
      "New York Unionport\n",
      "https://api.foursquare.com/v2/venues/explore?client_id=HRZNHDDCZQJ4U4NWRR1LYPJJVSYSPJCAHUW22JOZADGFOVL1&client_secret=0THVETABYGSJYWMMTFCMLWJQNKJ4GT42DVDSIUDMYQC2YMEG&ll=40.8273229,-73.8501349&v=20180604&radius=500&limit=100\n",
      "200\n",
      "New York Morrisania\n",
      "https://api.foursquare.com/v2/venues/explore?client_id=HRZNHDDCZQJ4U4NWRR1LYPJJVSYSPJCAHUW22JOZADGFOVL1&client_secret=0THVETABYGSJYWMMTFCMLWJQNKJ4GT42DVDSIUDMYQC2YMEG&ll=40.829267200000004,-73.9065253&v=20180604&radius=500&limit=100\n",
      "200\n",
      "New York Soundview\n",
      "https://api.foursquare.com/v2/venues/explore?client_id=HRZNHDDCZQJ4U4NWRR1LYPJJVSYSPJCAHUW22JOZADGFOVL1&client_secret=0THVETABYGSJYWMMTFCMLWJQNKJ4GT42DVDSIUDMYQC2YMEG&ll=40.8294972,-73.87462430000001&v=20180604&radius=500&limit=100\n",
      "200\n",
      "New York Crotona Park\n",
      "https://api.foursquare.com/v2/venues/explore?client_id=HRZNHDDCZQJ4U4NWRR1LYPJJVSYSPJCAHUW22JOZADGFOVL1&client_secret=0THVETABYGSJYWMMTFCMLWJQNKJ4GT42DVDSIUDMYQC2YMEG&ll=40.838901899999996,-73.8938645115504&v=20180604&radius=500&limit=100\n",
      "200\n",
      "New York Parkchester\n",
      "https://api.foursquare.com/v2/venues/explore?client_id=HRZNHDDCZQJ4U4NWRR1LYPJJVSYSPJCAHUW22JOZADGFOVL1&client_secret=0THVETABYGSJYWMMTFCMLWJQNKJ4GT42DVDSIUDMYQC2YMEG&ll=40.8389893,-73.8604128&v=20180604&radius=500&limit=100\n",
      "200\n",
      "New York West Farms\n",
      "https://api.foursquare.com/v2/venues/explore?client_id=HRZNHDDCZQJ4U4NWRR1LYPJJVSYSPJCAHUW22JOZADGFOVL1&client_secret=0THVETABYGSJYWMMTFCMLWJQNKJ4GT42DVDSIUDMYQC2YMEG&ll=40.839822600000005,-73.87763559999999&v=20180604&radius=500&limit=100\n",
      "200\n",
      "New York Claremont\n",
      "https://api.foursquare.com/v2/venues/explore?client_id=HRZNHDDCZQJ4U4NWRR1LYPJJVSYSPJCAHUW22JOZADGFOVL1&client_secret=0THVETABYGSJYWMMTFCMLWJQNKJ4GT42DVDSIUDMYQC2YMEG&ll=40.8398756,-73.90732762601058&v=20180604&radius=500&limit=100\n",
      "200\n",
      "New York Washington Heights\n",
      "https://api.foursquare.com/v2/venues/explore?client_id=HRZNHDDCZQJ4U4NWRR1LYPJJVSYSPJCAHUW22JOZADGFOVL1&client_secret=0THVETABYGSJYWMMTFCMLWJQNKJ4GT42DVDSIUDMYQC2YMEG&ll=40.8401984,-73.9402214&v=20180604&radius=500&limit=100\n",
      "200\n",
      "New York Westchester Square\n",
      "https://api.foursquare.com/v2/venues/explore?client_id=HRZNHDDCZQJ4U4NWRR1LYPJJVSYSPJCAHUW22JOZADGFOVL1&client_secret=0THVETABYGSJYWMMTFCMLWJQNKJ4GT42DVDSIUDMYQC2YMEG&ll=40.8408333,-73.8430556&v=20180604&radius=500&limit=100\n",
      "200\n",
      "New York East Tremont\n",
      "https://api.foursquare.com/v2/venues/explore?client_id=HRZNHDDCZQJ4U4NWRR1LYPJJVSYSPJCAHUW22JOZADGFOVL1&client_secret=0THVETABYGSJYWMMTFCMLWJQNKJ4GT42DVDSIUDMYQC2YMEG&ll=40.845378100000005,-73.8909693&v=20180604&radius=500&limit=100\n",
      "200\n",
      "New York Highbridge\n",
      "https://api.foursquare.com/v2/venues/explore?client_id=HRZNHDDCZQJ4U4NWRR1LYPJJVSYSPJCAHUW22JOZADGFOVL1&client_secret=0THVETABYGSJYWMMTFCMLWJQNKJ4GT42DVDSIUDMYQC2YMEG&ll=40.8460552,-73.9297329337184&v=20180604&radius=500&limit=100\n",
      "200\n",
      "New York City Island\n",
      "https://api.foursquare.com/v2/venues/explore?client_id=HRZNHDDCZQJ4U4NWRR1LYPJJVSYSPJCAHUW22JOZADGFOVL1&client_secret=0THVETABYGSJYWMMTFCMLWJQNKJ4GT42DVDSIUDMYQC2YMEG&ll=40.847456,-73.7864663715554&v=20180604&radius=500&limit=100\n",
      "200\n",
      "New York Van Nest\n",
      "https://api.foursquare.com/v2/venues/explore?client_id=HRZNHDDCZQJ4U4NWRR1LYPJJVSYSPJCAHUW22JOZADGFOVL1&client_secret=0THVETABYGSJYWMMTFCMLWJQNKJ4GT42DVDSIUDMYQC2YMEG&ll=40.8484336,-73.8637463&v=20180604&radius=500&limit=100\n",
      "200\n",
      "New York Morris Heights\n",
      "https://api.foursquare.com/v2/venues/explore?client_id=HRZNHDDCZQJ4U4NWRR1LYPJJVSYSPJCAHUW22JOZADGFOVL1&client_secret=0THVETABYGSJYWMMTFCMLWJQNKJ4GT42DVDSIUDMYQC2YMEG&ll=40.8498223,-73.919859&v=20180604&radius=500&limit=100\n",
      "200\n",
      "New York Pelham Bay\n",
      "https://api.foursquare.com/v2/venues/explore?client_id=HRZNHDDCZQJ4U4NWRR1LYPJJVSYSPJCAHUW22JOZADGFOVL1&client_secret=0THVETABYGSJYWMMTFCMLWJQNKJ4GT42DVDSIUDMYQC2YMEG&ll=40.85055560000001,-73.83333329999999&v=20180604&radius=500&limit=100\n",
      "200\n",
      "New York Bronxdale\n",
      "https://api.foursquare.com/v2/venues/explore?client_id=HRZNHDDCZQJ4U4NWRR1LYPJJVSYSPJCAHUW22JOZADGFOVL1&client_secret=0THVETABYGSJYWMMTFCMLWJQNKJ4GT42DVDSIUDMYQC2YMEG&ll=40.8506558,-73.86652409999999&v=20180604&radius=500&limit=100\n",
      "200\n",
      "New York Morris Park\n",
      "https://api.foursquare.com/v2/venues/explore?client_id=HRZNHDDCZQJ4U4NWRR1LYPJJVSYSPJCAHUW22JOZADGFOVL1&client_secret=0THVETABYGSJYWMMTFCMLWJQNKJ4GT42DVDSIUDMYQC2YMEG&ll=40.8523224,-73.85346820000001&v=20180604&radius=500&limit=100\n"
     ]
    },
    {
     "name": "stdout",
     "output_type": "stream",
     "text": [
      "200\n",
      "New York Pelham Parkway\n",
      "https://api.foursquare.com/v2/venues/explore?client_id=HRZNHDDCZQJ4U4NWRR1LYPJJVSYSPJCAHUW22JOZADGFOVL1&client_secret=0THVETABYGSJYWMMTFCMLWJQNKJ4GT42DVDSIUDMYQC2YMEG&ll=40.8592334,-73.8550166&v=20180604&radius=500&limit=100\n",
      "200\n",
      "New York Fordham\n",
      "https://api.foursquare.com/v2/venues/explore?client_id=HRZNHDDCZQJ4U4NWRR1LYPJJVSYSPJCAHUW22JOZADGFOVL1&client_secret=0THVETABYGSJYWMMTFCMLWJQNKJ4GT42DVDSIUDMYQC2YMEG&ll=40.8592667,-73.8984694&v=20180604&radius=500&limit=100\n",
      "200\n",
      "New York University Heights\n",
      "https://api.foursquare.com/v2/venues/explore?client_id=HRZNHDDCZQJ4U4NWRR1LYPJJVSYSPJCAHUW22JOZADGFOVL1&client_secret=0THVETABYGSJYWMMTFCMLWJQNKJ4GT42DVDSIUDMYQC2YMEG&ll=40.8601,-73.90930300000001&v=20180604&radius=500&limit=100\n",
      "200\n",
      "New York Baychester\n",
      "https://api.foursquare.com/v2/venues/explore?client_id=HRZNHDDCZQJ4U4NWRR1LYPJJVSYSPJCAHUW22JOZADGFOVL1&client_secret=0THVETABYGSJYWMMTFCMLWJQNKJ4GT42DVDSIUDMYQC2YMEG&ll=40.8612222,-73.8412865&v=20180604&radius=500&limit=100\n",
      "200\n",
      "New York Allerton\n",
      "https://api.foursquare.com/v2/venues/explore?client_id=HRZNHDDCZQJ4U4NWRR1LYPJJVSYSPJCAHUW22JOZADGFOVL1&client_secret=0THVETABYGSJYWMMTFCMLWJQNKJ4GT42DVDSIUDMYQC2YMEG&ll=40.866111100000005,-73.85055559999999&v=20180604&radius=500&limit=100\n",
      "200\n",
      "New York Inwood\n",
      "https://api.foursquare.com/v2/venues/explore?client_id=HRZNHDDCZQJ4U4NWRR1LYPJJVSYSPJCAHUW22JOZADGFOVL1&client_secret=0THVETABYGSJYWMMTFCMLWJQNKJ4GT42DVDSIUDMYQC2YMEG&ll=40.869257899999994,-73.92049490000001&v=20180604&radius=500&limit=100\n",
      "200\n",
      "New York Bedford Park\n",
      "https://api.foursquare.com/v2/venues/explore?client_id=HRZNHDDCZQJ4U4NWRR1LYPJJVSYSPJCAHUW22JOZADGFOVL1&client_secret=0THVETABYGSJYWMMTFCMLWJQNKJ4GT42DVDSIUDMYQC2YMEG&ll=40.8700999,-73.8856912&v=20180604&radius=500&limit=100\n",
      "200\n",
      "New York Kingsbridge Heights\n",
      "https://api.foursquare.com/v2/venues/explore?client_id=HRZNHDDCZQJ4U4NWRR1LYPJJVSYSPJCAHUW22JOZADGFOVL1&client_secret=0THVETABYGSJYWMMTFCMLWJQNKJ4GT42DVDSIUDMYQC2YMEG&ll=40.872570200000006,-73.90266190000001&v=20180604&radius=500&limit=100\n",
      "200\n",
      "New York Co-op City\n",
      "https://api.foursquare.com/v2/venues/explore?client_id=HRZNHDDCZQJ4U4NWRR1LYPJJVSYSPJCAHUW22JOZADGFOVL1&client_secret=0THVETABYGSJYWMMTFCMLWJQNKJ4GT42DVDSIUDMYQC2YMEG&ll=40.8738889,-73.8294444&v=20180604&radius=500&limit=100\n",
      "200\n",
      "New York Olinville\n",
      "https://api.foursquare.com/v2/venues/explore?client_id=HRZNHDDCZQJ4U4NWRR1LYPJJVSYSPJCAHUW22JOZADGFOVL1&client_secret=0THVETABYGSJYWMMTFCMLWJQNKJ4GT42DVDSIUDMYQC2YMEG&ll=40.8739631,-73.8681806&v=20180604&radius=500&limit=100\n",
      "200\n",
      "New York Marble Hill\n",
      "https://api.foursquare.com/v2/venues/explore?client_id=HRZNHDDCZQJ4U4NWRR1LYPJJVSYSPJCAHUW22JOZADGFOVL1&client_secret=0THVETABYGSJYWMMTFCMLWJQNKJ4GT42DVDSIUDMYQC2YMEG&ll=40.876298299999995,-73.9104292&v=20180604&radius=500&limit=100\n",
      "200\n",
      "New York Williamsbridge\n",
      "https://api.foursquare.com/v2/venues/explore?client_id=HRZNHDDCZQJ4U4NWRR1LYPJJVSYSPJCAHUW22JOZADGFOVL1&client_secret=0THVETABYGSJYWMMTFCMLWJQNKJ4GT42DVDSIUDMYQC2YMEG&ll=40.877249400000004,-73.8655145&v=20180604&radius=500&limit=100\n",
      "200\n",
      "New York Kingsbridge\n",
      "https://api.foursquare.com/v2/venues/explore?client_id=HRZNHDDCZQJ4U4NWRR1LYPJJVSYSPJCAHUW22JOZADGFOVL1&client_secret=0THVETABYGSJYWMMTFCMLWJQNKJ4GT42DVDSIUDMYQC2YMEG&ll=40.878705100000005,-73.9051408&v=20180604&radius=500&limit=100\n",
      "200\n",
      "New York Spuyten Duyvil\n",
      "https://api.foursquare.com/v2/venues/explore?client_id=HRZNHDDCZQJ4U4NWRR1LYPJJVSYSPJCAHUW22JOZADGFOVL1&client_secret=0THVETABYGSJYWMMTFCMLWJQNKJ4GT42DVDSIUDMYQC2YMEG&ll=40.881210700000004,-73.9173588&v=20180604&radius=500&limit=100\n",
      "200\n",
      "New York Edenwald\n",
      "https://api.foursquare.com/v2/venues/explore?client_id=HRZNHDDCZQJ4U4NWRR1LYPJJVSYSPJCAHUW22JOZADGFOVL1&client_secret=0THVETABYGSJYWMMTFCMLWJQNKJ4GT42DVDSIUDMYQC2YMEG&ll=40.8859786,-73.8450032997951&v=20180604&radius=500&limit=100\n",
      "200\n",
      "New York Eastchester\n",
      "https://api.foursquare.com/v2/venues/explore?client_id=HRZNHDDCZQJ4U4NWRR1LYPJJVSYSPJCAHUW22JOZADGFOVL1&client_secret=0THVETABYGSJYWMMTFCMLWJQNKJ4GT42DVDSIUDMYQC2YMEG&ll=40.8884329,-73.82818950000001&v=20180604&radius=500&limit=100\n",
      "200\n",
      "New York Fieldston\n",
      "https://api.foursquare.com/v2/venues/explore?client_id=HRZNHDDCZQJ4U4NWRR1LYPJJVSYSPJCAHUW22JOZADGFOVL1&client_secret=0THVETABYGSJYWMMTFCMLWJQNKJ4GT42DVDSIUDMYQC2YMEG&ll=40.8944444,-73.9033333&v=20180604&radius=500&limit=100\n",
      "200\n",
      "New York Wakefield\n",
      "https://api.foursquare.com/v2/venues/explore?client_id=HRZNHDDCZQJ4U4NWRR1LYPJJVSYSPJCAHUW22JOZADGFOVL1&client_secret=0THVETABYGSJYWMMTFCMLWJQNKJ4GT42DVDSIUDMYQC2YMEG&ll=40.8978772,-73.8523569&v=20180604&radius=500&limit=100\n",
      "200\n",
      "New York Woodlawn\n",
      "https://api.foursquare.com/v2/venues/explore?client_id=HRZNHDDCZQJ4U4NWRR1LYPJJVSYSPJCAHUW22JOZADGFOVL1&client_secret=0THVETABYGSJYWMMTFCMLWJQNKJ4GT42DVDSIUDMYQC2YMEG&ll=40.898154999999996,-73.8673573&v=20180604&radius=500&limit=100\n",
      "200\n",
      "New York Riverdale\n",
      "https://api.foursquare.com/v2/venues/explore?client_id=HRZNHDDCZQJ4U4NWRR1LYPJJVSYSPJCAHUW22JOZADGFOVL1&client_secret=0THVETABYGSJYWMMTFCMLWJQNKJ4GT42DVDSIUDMYQC2YMEG&ll=40.90056,-73.90639&v=20180604&radius=500&limit=100\n",
      "200\n",
      "New York Pelham Gardens\n",
      "https://api.foursquare.com/v2/venues/explore?client_id=HRZNHDDCZQJ4U4NWRR1LYPJJVSYSPJCAHUW22JOZADGFOVL1&client_secret=0THVETABYGSJYWMMTFCMLWJQNKJ4GT42DVDSIUDMYQC2YMEG&ll=40.9098215,-73.8079111&v=20180604&radius=500&limit=100\n",
      "200\n",
      "San Francisco Crocker-Amazon\n",
      "https://api.foursquare.com/v2/venues/explore?client_id=HRZNHDDCZQJ4U4NWRR1LYPJJVSYSPJCAHUW22JOZADGFOVL1&client_secret=0THVETABYGSJYWMMTFCMLWJQNKJ4GT42DVDSIUDMYQC2YMEG&ll=37.7093777,-122.4385868&v=20180604&radius=500&limit=100\n",
      "200\n",
      "San Francisco Sunnydale\n",
      "https://api.foursquare.com/v2/venues/explore?client_id=HRZNHDDCZQJ4U4NWRR1LYPJJVSYSPJCAHUW22JOZADGFOVL1&client_secret=0THVETABYGSJYWMMTFCMLWJQNKJ4GT42DVDSIUDMYQC2YMEG&ll=37.7095192,-122.40477949999999&v=20180604&radius=500&limit=100\n",
      "200\n",
      "San Francisco Visitacion Valley\n",
      "https://api.foursquare.com/v2/venues/explore?client_id=HRZNHDDCZQJ4U4NWRR1LYPJJVSYSPJCAHUW22JOZADGFOVL1&client_secret=0THVETABYGSJYWMMTFCMLWJQNKJ4GT42DVDSIUDMYQC2YMEG&ll=37.712131899999996,-122.40971280000001&v=20180604&radius=500&limit=100\n",
      "200\n",
      "San Francisco Oceanview\n",
      "https://api.foursquare.com/v2/venues/explore?client_id=HRZNHDDCZQJ4U4NWRR1LYPJJVSYSPJCAHUW22JOZADGFOVL1&client_secret=0THVETABYGSJYWMMTFCMLWJQNKJ4GT42DVDSIUDMYQC2YMEG&ll=37.71365120000001,-122.45748300000001&v=20180604&radius=500&limit=100\n",
      "200\n",
      "San Francisco Parkmerced\n",
      "https://api.foursquare.com/v2/venues/explore?client_id=HRZNHDDCZQJ4U4NWRR1LYPJJVSYSPJCAHUW22JOZADGFOVL1&client_secret=0THVETABYGSJYWMMTFCMLWJQNKJ4GT42DVDSIUDMYQC2YMEG&ll=37.71717615,-122.478947319744&v=20180604&radius=500&limit=100\n",
      "200\n",
      "San Francisco Excelsior\n",
      "https://api.foursquare.com/v2/venues/explore?client_id=HRZNHDDCZQJ4U4NWRR1LYPJJVSYSPJCAHUW22JOZADGFOVL1&client_secret=0THVETABYGSJYWMMTFCMLWJQNKJ4GT42DVDSIUDMYQC2YMEG&ll=37.7217943,-122.43538149999999&v=20180604&radius=500&limit=100\n",
      "200\n",
      "San Francisco Ingleside\n",
      "https://api.foursquare.com/v2/venues/explore?client_id=HRZNHDDCZQJ4U4NWRR1LYPJJVSYSPJCAHUW22JOZADGFOVL1&client_secret=0THVETABYGSJYWMMTFCMLWJQNKJ4GT42DVDSIUDMYQC2YMEG&ll=37.722987200000006,-122.45302720000001&v=20180604&radius=500&limit=100\n",
      "200\n",
      "San Francisco Balboa Park\n",
      "https://api.foursquare.com/v2/venues/explore?client_id=HRZNHDDCZQJ4U4NWRR1LYPJJVSYSPJCAHUW22JOZADGFOVL1&client_secret=0THVETABYGSJYWMMTFCMLWJQNKJ4GT42DVDSIUDMYQC2YMEG&ll=37.72494875,-122.44480452415199&v=20180604&radius=500&limit=100\n",
      "200\n",
      "San Francisco Portola,Portola Place\n",
      "https://api.foursquare.com/v2/venues/explore?client_id=HRZNHDDCZQJ4U4NWRR1LYPJJVSYSPJCAHUW22JOZADGFOVL1&client_secret=0THVETABYGSJYWMMTFCMLWJQNKJ4GT42DVDSIUDMYQC2YMEG&ll=37.726379,-122.4085514&v=20180604&radius=500&limit=100\n",
      "200\n",
      "San Francisco Hunters Point\n",
      "https://api.foursquare.com/v2/venues/explore?client_id=HRZNHDDCZQJ4U4NWRR1LYPJJVSYSPJCAHUW22JOZADGFOVL1&client_secret=0THVETABYGSJYWMMTFCMLWJQNKJ4GT42DVDSIUDMYQC2YMEG&ll=37.726771500000005,-122.37157179999998&v=20180604&radius=500&limit=100\n",
      "200\n",
      "San Francisco Bayview\n",
      "https://api.foursquare.com/v2/venues/explore?client_id=HRZNHDDCZQJ4U4NWRR1LYPJJVSYSPJCAHUW22JOZADGFOVL1&client_secret=0THVETABYGSJYWMMTFCMLWJQNKJ4GT42DVDSIUDMYQC2YMEG&ll=37.728888899999994,-122.3925&v=20180604&radius=500&limit=100\n"
     ]
    },
    {
     "name": "stdout",
     "output_type": "stream",
     "text": [
      "200\n",
      "San Francisco Lakeside\n",
      "https://api.foursquare.com/v2/venues/explore?client_id=HRZNHDDCZQJ4U4NWRR1LYPJJVSYSPJCAHUW22JOZADGFOVL1&client_secret=0THVETABYGSJYWMMTFCMLWJQNKJ4GT42DVDSIUDMYQC2YMEG&ll=37.730753899999996,-122.4754281&v=20180604&radius=500&limit=100\n",
      "200\n",
      "San Francisco Lakeshore\n",
      "https://api.foursquare.com/v2/venues/explore?client_id=HRZNHDDCZQJ4U4NWRR1LYPJJVSYSPJCAHUW22JOZADGFOVL1&client_secret=0THVETABYGSJYWMMTFCMLWJQNKJ4GT42DVDSIUDMYQC2YMEG&ll=37.7330369,-122.490249388431&v=20180604&radius=500&limit=100\n",
      "200\n",
      "San Francisco Glen Park\n",
      "https://api.foursquare.com/v2/venues/explore?client_id=HRZNHDDCZQJ4U4NWRR1LYPJJVSYSPJCAHUW22JOZADGFOVL1&client_secret=0THVETABYGSJYWMMTFCMLWJQNKJ4GT42DVDSIUDMYQC2YMEG&ll=37.7331037,-122.4338051&v=20180604&radius=500&limit=100\n",
      "200\n",
      "San Francisco Silver Terrace\n",
      "https://api.foursquare.com/v2/venues/explore?client_id=HRZNHDDCZQJ4U4NWRR1LYPJJVSYSPJCAHUW22JOZADGFOVL1&client_secret=0THVETABYGSJYWMMTFCMLWJQNKJ4GT42DVDSIUDMYQC2YMEG&ll=37.73385379999999,-122.40002820000001&v=20180604&radius=500&limit=100\n",
      "200\n",
      "San Francisco Saint Francis Wood\n",
      "https://api.foursquare.com/v2/venues/explore?client_id=HRZNHDDCZQJ4U4NWRR1LYPJJVSYSPJCAHUW22JOZADGFOVL1&client_secret=0THVETABYGSJYWMMTFCMLWJQNKJ4GT42DVDSIUDMYQC2YMEG&ll=37.7346534,-122.46802720000001&v=20180604&radius=500&limit=100\n",
      "200\n",
      "San Francisco India Basin\n",
      "https://api.foursquare.com/v2/venues/explore?client_id=HRZNHDDCZQJ4U4NWRR1LYPJJVSYSPJCAHUW22JOZADGFOVL1&client_secret=0THVETABYGSJYWMMTFCMLWJQNKJ4GT42DVDSIUDMYQC2YMEG&ll=37.7360416,-122.370526&v=20180604&radius=500&limit=100\n",
      "200\n",
      "San Francisco Mount Davidson\n",
      "https://api.foursquare.com/v2/venues/explore?client_id=HRZNHDDCZQJ4U4NWRR1LYPJJVSYSPJCAHUW22JOZADGFOVL1&client_secret=0THVETABYGSJYWMMTFCMLWJQNKJ4GT42DVDSIUDMYQC2YMEG&ll=37.7382643,-122.4533047&v=20180604&radius=500&limit=100\n",
      "200\n",
      "San Francisco Parkside\n",
      "https://api.foursquare.com/v2/venues/explore?client_id=HRZNHDDCZQJ4U4NWRR1LYPJJVSYSPJCAHUW22JOZADGFOVL1&client_secret=0THVETABYGSJYWMMTFCMLWJQNKJ4GT42DVDSIUDMYQC2YMEG&ll=37.73836365,-122.483982014401&v=20180604&radius=500&limit=100\n",
      "200\n",
      "San Francisco Bernal Heights\n",
      "https://api.foursquare.com/v2/venues/explore?client_id=HRZNHDDCZQJ4U4NWRR1LYPJJVSYSPJCAHUW22JOZADGFOVL1&client_secret=0THVETABYGSJYWMMTFCMLWJQNKJ4GT42DVDSIUDMYQC2YMEG&ll=37.741000799999995,-122.4142136&v=20180604&radius=500&limit=100\n",
      "200\n",
      "San Francisco West Portal\n",
      "https://api.foursquare.com/v2/venues/explore?client_id=HRZNHDDCZQJ4U4NWRR1LYPJJVSYSPJCAHUW22JOZADGFOVL1&client_secret=0THVETABYGSJYWMMTFCMLWJQNKJ4GT42DVDSIUDMYQC2YMEG&ll=37.7411405,-122.46563359999999&v=20180604&radius=500&limit=100\n",
      "200\n",
      "San Francisco Dolores Heights\n",
      "https://api.foursquare.com/v2/venues/explore?client_id=HRZNHDDCZQJ4U4NWRR1LYPJJVSYSPJCAHUW22JOZADGFOVL1&client_secret=0THVETABYGSJYWMMTFCMLWJQNKJ4GT42DVDSIUDMYQC2YMEG&ll=37.7454352,-122.42447949999999&v=20180604&radius=500&limit=100\n",
      "200\n",
      "San Francisco Forest Hill\n",
      "https://api.foursquare.com/v2/venues/explore?client_id=HRZNHDDCZQJ4U4NWRR1LYPJJVSYSPJCAHUW22JOZADGFOVL1&client_secret=0THVETABYGSJYWMMTFCMLWJQNKJ4GT42DVDSIUDMYQC2YMEG&ll=37.7474307,-122.4635825&v=20180604&radius=500&limit=100\n",
      "200\n",
      "San Francisco Laguna Honda\n",
      "https://api.foursquare.com/v2/venues/explore?client_id=HRZNHDDCZQJ4U4NWRR1LYPJJVSYSPJCAHUW22JOZADGFOVL1&client_secret=0THVETABYGSJYWMMTFCMLWJQNKJ4GT42DVDSIUDMYQC2YMEG&ll=37.74797715,-122.459116752451&v=20180604&radius=500&limit=100\n",
      "200\n",
      "San Francisco Noe Valley\n",
      "https://api.foursquare.com/v2/venues/explore?client_id=HRZNHDDCZQJ4U4NWRR1LYPJJVSYSPJCAHUW22JOZADGFOVL1&client_secret=0THVETABYGSJYWMMTFCMLWJQNKJ4GT42DVDSIUDMYQC2YMEG&ll=37.7515906,-122.4320814&v=20180604&radius=500&limit=100\n",
      "200\n",
      "San Francisco Sunset District\n",
      "https://api.foursquare.com/v2/venues/explore?client_id=HRZNHDDCZQJ4U4NWRR1LYPJJVSYSPJCAHUW22JOZADGFOVL1&client_secret=0THVETABYGSJYWMMTFCMLWJQNKJ4GT42DVDSIUDMYQC2YMEG&ll=37.753541799999994,-122.49524950000001&v=20180604&radius=500&limit=100\n",
      "200\n",
      "San Francisco Twin Peaks\n",
      "https://api.foursquare.com/v2/venues/explore?client_id=HRZNHDDCZQJ4U4NWRR1LYPJJVSYSPJCAHUW22JOZADGFOVL1&client_secret=0THVETABYGSJYWMMTFCMLWJQNKJ4GT42DVDSIUDMYQC2YMEG&ll=37.75464,-122.44648000000001&v=20180604&radius=500&limit=100\n",
      "200\n",
      "San Francisco Potrero Hill\n",
      "https://api.foursquare.com/v2/venues/explore?client_id=HRZNHDDCZQJ4U4NWRR1LYPJJVSYSPJCAHUW22JOZADGFOVL1&client_secret=0THVETABYGSJYWMMTFCMLWJQNKJ4GT42DVDSIUDMYQC2YMEG&ll=37.7565834,-122.3991374&v=20180604&radius=500&limit=100\n",
      "200\n",
      "San Francisco Irish Hill\n",
      "https://api.foursquare.com/v2/venues/explore?client_id=HRZNHDDCZQJ4U4NWRR1LYPJJVSYSPJCAHUW22JOZADGFOVL1&client_secret=0THVETABYGSJYWMMTFCMLWJQNKJ4GT42DVDSIUDMYQC2YMEG&ll=37.758968200000005,-122.3860326&v=20180604&radius=500&limit=100\n",
      "200\n",
      "San Francisco Mission District\n",
      "https://api.foursquare.com/v2/venues/explore?client_id=HRZNHDDCZQJ4U4NWRR1LYPJJVSYSPJCAHUW22JOZADGFOVL1&client_secret=0THVETABYGSJYWMMTFCMLWJQNKJ4GT42DVDSIUDMYQC2YMEG&ll=37.75993,-122.4191376&v=20180604&radius=500&limit=100\n",
      "200\n",
      "San Francisco Dogpatch\n",
      "https://api.foursquare.com/v2/venues/explore?client_id=HRZNHDDCZQJ4U4NWRR1LYPJJVSYSPJCAHUW22JOZADGFOVL1&client_secret=0THVETABYGSJYWMMTFCMLWJQNKJ4GT42DVDSIUDMYQC2YMEG&ll=37.7606977,-122.38920159999998&v=20180604&radius=500&limit=100\n",
      "200\n",
      "San Francisco Castro\n",
      "https://api.foursquare.com/v2/venues/explore?client_id=HRZNHDDCZQJ4U4NWRR1LYPJJVSYSPJCAHUW22JOZADGFOVL1&client_secret=0THVETABYGSJYWMMTFCMLWJQNKJ4GT42DVDSIUDMYQC2YMEG&ll=37.7608561,-122.43495700000001&v=20180604&radius=500&limit=100\n",
      "200\n",
      "San Francisco Eureka Valley\n",
      "https://api.foursquare.com/v2/venues/explore?client_id=HRZNHDDCZQJ4U4NWRR1LYPJJVSYSPJCAHUW22JOZADGFOVL1&client_secret=0THVETABYGSJYWMMTFCMLWJQNKJ4GT42DVDSIUDMYQC2YMEG&ll=37.7609556,-122.4355087&v=20180604&radius=500&limit=100\n",
      "200\n",
      "San Francisco Inner Sunset\n",
      "https://api.foursquare.com/v2/venues/explore?client_id=HRZNHDDCZQJ4U4NWRR1LYPJJVSYSPJCAHUW22JOZADGFOVL1&client_secret=0THVETABYGSJYWMMTFCMLWJQNKJ4GT42DVDSIUDMYQC2YMEG&ll=37.76145,-122.4676432&v=20180604&radius=500&limit=100\n",
      "200\n",
      "San Francisco Corona Heights\n",
      "https://api.foursquare.com/v2/venues/explore?client_id=HRZNHDDCZQJ4U4NWRR1LYPJJVSYSPJCAHUW22JOZADGFOVL1&client_secret=0THVETABYGSJYWMMTFCMLWJQNKJ4GT42DVDSIUDMYQC2YMEG&ll=37.7648857,-122.43936770000002&v=20180604&radius=500&limit=100\n",
      "200\n",
      "San Francisco Parnassus\n",
      "https://api.foursquare.com/v2/venues/explore?client_id=HRZNHDDCZQJ4U4NWRR1LYPJJVSYSPJCAHUW22JOZADGFOVL1&client_secret=0THVETABYGSJYWMMTFCMLWJQNKJ4GT42DVDSIUDMYQC2YMEG&ll=37.7652671,-122.44775449999999&v=20180604&radius=500&limit=100\n",
      "200\n",
      "San Francisco Cole Valley\n",
      "https://api.foursquare.com/v2/venues/explore?client_id=HRZNHDDCZQJ4U4NWRR1LYPJJVSYSPJCAHUW22JOZADGFOVL1&client_secret=0THVETABYGSJYWMMTFCMLWJQNKJ4GT42DVDSIUDMYQC2YMEG&ll=37.7658133,-122.4499624&v=20180604&radius=500&limit=100\n",
      "200\n",
      "San Francisco Duboce Triangle\n",
      "https://api.foursquare.com/v2/venues/explore?client_id=HRZNHDDCZQJ4U4NWRR1LYPJJVSYSPJCAHUW22JOZADGFOVL1&client_secret=0THVETABYGSJYWMMTFCMLWJQNKJ4GT42DVDSIUDMYQC2YMEG&ll=37.767138200000005,-122.43223&v=20180604&radius=500&limit=100\n",
      "200\n",
      "San Francisco Haight-Ashbury\n",
      "https://api.foursquare.com/v2/venues/explore?client_id=HRZNHDDCZQJ4U4NWRR1LYPJJVSYSPJCAHUW22JOZADGFOVL1&client_secret=0THVETABYGSJYWMMTFCMLWJQNKJ4GT42DVDSIUDMYQC2YMEG&ll=37.7700148,-122.4469519&v=20180604&radius=500&limit=100\n",
      "200\n",
      "San Francisco Mission Bay\n",
      "https://api.foursquare.com/v2/venues/explore?client_id=HRZNHDDCZQJ4U4NWRR1LYPJJVSYSPJCAHUW22JOZADGFOVL1&client_secret=0THVETABYGSJYWMMTFCMLWJQNKJ4GT42DVDSIUDMYQC2YMEG&ll=37.770774200000005,-122.3911712&v=20180604&radius=500&limit=100\n",
      "200\n",
      "San Francisco Lower Haight\n",
      "https://api.foursquare.com/v2/venues/explore?client_id=HRZNHDDCZQJ4U4NWRR1LYPJJVSYSPJCAHUW22JOZADGFOVL1&client_secret=0THVETABYGSJYWMMTFCMLWJQNKJ4GT42DVDSIUDMYQC2YMEG&ll=37.7719261,-122.43247912748899&v=20180604&radius=500&limit=100\n",
      "200\n",
      "San Francisco China Basin\n",
      "https://api.foursquare.com/v2/venues/explore?client_id=HRZNHDDCZQJ4U4NWRR1LYPJJVSYSPJCAHUW22JOZADGFOVL1&client_secret=0THVETABYGSJYWMMTFCMLWJQNKJ4GT42DVDSIUDMYQC2YMEG&ll=37.776329499999996,-122.39183853008998&v=20180604&radius=500&limit=100\n",
      "200\n",
      "San Francisco Alamo Square\n",
      "https://api.foursquare.com/v2/venues/explore?client_id=HRZNHDDCZQJ4U4NWRR1LYPJJVSYSPJCAHUW22JOZADGFOVL1&client_secret=0THVETABYGSJYWMMTFCMLWJQNKJ4GT42DVDSIUDMYQC2YMEG&ll=37.77635720000001,-122.43469357074301&v=20180604&radius=500&limit=100\n"
     ]
    },
    {
     "name": "stdout",
     "output_type": "stream",
     "text": [
      "200\n",
      "San Francisco Hayes Valley\n",
      "https://api.foursquare.com/v2/venues/explore?client_id=HRZNHDDCZQJ4U4NWRR1LYPJJVSYSPJCAHUW22JOZADGFOVL1&client_secret=0THVETABYGSJYWMMTFCMLWJQNKJ4GT42DVDSIUDMYQC2YMEG&ll=37.7766853,-122.4229361&v=20180604&radius=500&limit=100\n",
      "200\n",
      "San Francisco North of Panhandle\n",
      "https://api.foursquare.com/v2/venues/explore?client_id=HRZNHDDCZQJ4U4NWRR1LYPJJVSYSPJCAHUW22JOZADGFOVL1&client_secret=0THVETABYGSJYWMMTFCMLWJQNKJ4GT42DVDSIUDMYQC2YMEG&ll=37.7784081,-122.4425992&v=20180604&radius=500&limit=100\n",
      "200\n",
      "San Francisco Lone Mountain\n",
      "https://api.foursquare.com/v2/venues/explore?client_id=HRZNHDDCZQJ4U4NWRR1LYPJJVSYSPJCAHUW22JOZADGFOVL1&client_secret=0THVETABYGSJYWMMTFCMLWJQNKJ4GT42DVDSIUDMYQC2YMEG&ll=37.7790963,-122.4519159&v=20180604&radius=500&limit=100\n",
      "200\n",
      "San Francisco Sunnyside\n",
      "https://api.foursquare.com/v2/venues/explore?client_id=HRZNHDDCZQJ4U4NWRR1LYPJJVSYSPJCAHUW22JOZADGFOVL1&client_secret=0THVETABYGSJYWMMTFCMLWJQNKJ4GT42DVDSIUDMYQC2YMEG&ll=37.779280799999995,-122.4192363&v=20180604&radius=500&limit=100\n",
      "200\n",
      "San Francisco Western Addition\n",
      "https://api.foursquare.com/v2/venues/explore?client_id=HRZNHDDCZQJ4U4NWRR1LYPJJVSYSPJCAHUW22JOZADGFOVL1&client_secret=0THVETABYGSJYWMMTFCMLWJQNKJ4GT42DVDSIUDMYQC2YMEG&ll=37.779559000000006,-122.42981040000001&v=20180604&radius=500&limit=100\n",
      "200\n",
      "San Francisco Civic Center\n",
      "https://api.foursquare.com/v2/venues/explore?client_id=HRZNHDDCZQJ4U4NWRR1LYPJJVSYSPJCAHUW22JOZADGFOVL1&client_secret=0THVETABYGSJYWMMTFCMLWJQNKJ4GT42DVDSIUDMYQC2YMEG&ll=37.7795939,-122.41679380000001&v=20180604&radius=500&limit=100\n",
      "200\n",
      "San Francisco South Beach\n",
      "https://api.foursquare.com/v2/venues/explore?client_id=HRZNHDDCZQJ4U4NWRR1LYPJJVSYSPJCAHUW22JOZADGFOVL1&client_secret=0THVETABYGSJYWMMTFCMLWJQNKJ4GT42DVDSIUDMYQC2YMEG&ll=37.77981389999999,-122.3911499&v=20180604&radius=500&limit=100\n",
      "200\n",
      "San Francisco Richmond District\n",
      "https://api.foursquare.com/v2/venues/explore?client_id=HRZNHDDCZQJ4U4NWRR1LYPJJVSYSPJCAHUW22JOZADGFOVL1&client_secret=0THVETABYGSJYWMMTFCMLWJQNKJ4GT42DVDSIUDMYQC2YMEG&ll=37.7806432,-122.47259640000001&v=20180604&radius=500&limit=100\n",
      "200\n",
      "San Francisco Anza Vista\n",
      "https://api.foursquare.com/v2/venues/explore?client_id=HRZNHDDCZQJ4U4NWRR1LYPJJVSYSPJCAHUW22JOZADGFOVL1&client_secret=0THVETABYGSJYWMMTFCMLWJQNKJ4GT42DVDSIUDMYQC2YMEG&ll=37.7808364,-122.44314890000001&v=20180604&radius=500&limit=100\n",
      "200\n",
      "San Francisco South of Market\n",
      "https://api.foursquare.com/v2/venues/explore?client_id=HRZNHDDCZQJ4U4NWRR1LYPJJVSYSPJCAHUW22JOZADGFOVL1&client_secret=0THVETABYGSJYWMMTFCMLWJQNKJ4GT42DVDSIUDMYQC2YMEG&ll=37.7808925,-122.40095179999999&v=20180604&radius=500&limit=100\n",
      "200\n",
      "San Francisco South Park\n",
      "https://api.foursquare.com/v2/venues/explore?client_id=HRZNHDDCZQJ4U4NWRR1LYPJJVSYSPJCAHUW22JOZADGFOVL1&client_secret=0THVETABYGSJYWMMTFCMLWJQNKJ4GT42DVDSIUDMYQC2YMEG&ll=37.7815898,-122.393974669315&v=20180604&radius=500&limit=100\n",
      "200\n",
      "San Francisco Tenderloin\n",
      "https://api.foursquare.com/v2/venues/explore?client_id=HRZNHDDCZQJ4U4NWRR1LYPJJVSYSPJCAHUW22JOZADGFOVL1&client_secret=0THVETABYGSJYWMMTFCMLWJQNKJ4GT42DVDSIUDMYQC2YMEG&ll=37.7842493,-122.4139933&v=20180604&radius=500&limit=100\n",
      "200\n",
      "San Francisco Little Saigon\n",
      "https://api.foursquare.com/v2/venues/explore?client_id=HRZNHDDCZQJ4U4NWRR1LYPJJVSYSPJCAHUW22JOZADGFOVL1&client_secret=0THVETABYGSJYWMMTFCMLWJQNKJ4GT42DVDSIUDMYQC2YMEG&ll=37.7843156,-122.4163481&v=20180604&radius=500&limit=100\n",
      "200\n",
      "San Francisco Jordan Park\n",
      "https://api.foursquare.com/v2/venues/explore?client_id=HRZNHDDCZQJ4U4NWRR1LYPJJVSYSPJCAHUW22JOZADGFOVL1&client_secret=0THVETABYGSJYWMMTFCMLWJQNKJ4GT42DVDSIUDMYQC2YMEG&ll=37.784651600000004,-122.4566383&v=20180604&radius=500&limit=100\n",
      "200\n",
      "San Francisco Rincon Hill\n",
      "https://api.foursquare.com/v2/venues/explore?client_id=HRZNHDDCZQJ4U4NWRR1LYPJJVSYSPJCAHUW22JOZADGFOVL1&client_secret=0THVETABYGSJYWMMTFCMLWJQNKJ4GT42DVDSIUDMYQC2YMEG&ll=37.7852068,-122.3919152&v=20180604&radius=500&limit=100\n",
      "200\n",
      "San Francisco Japantown\n",
      "https://api.foursquare.com/v2/venues/explore?client_id=HRZNHDDCZQJ4U4NWRR1LYPJJVSYSPJCAHUW22JOZADGFOVL1&client_secret=0THVETABYGSJYWMMTFCMLWJQNKJ4GT42DVDSIUDMYQC2YMEG&ll=37.7855789,-122.42980890000001&v=20180604&radius=500&limit=100\n",
      "200\n",
      "San Francisco Lake Street\n",
      "https://api.foursquare.com/v2/venues/explore?client_id=HRZNHDDCZQJ4U4NWRR1LYPJJVSYSPJCAHUW22JOZADGFOVL1&client_secret=0THVETABYGSJYWMMTFCMLWJQNKJ4GT42DVDSIUDMYQC2YMEG&ll=37.7857054,-122.48623&v=20180604&radius=500&limit=100\n",
      "200\n",
      "San Francisco Lower Pacific Heights\n",
      "https://api.foursquare.com/v2/venues/explore?client_id=HRZNHDDCZQJ4U4NWRR1LYPJJVSYSPJCAHUW22JOZADGFOVL1&client_secret=0THVETABYGSJYWMMTFCMLWJQNKJ4GT42DVDSIUDMYQC2YMEG&ll=37.7857666,-122.43890420000001&v=20180604&radius=500&limit=100\n",
      "200\n",
      "San Francisco Union Square\n",
      "https://api.foursquare.com/v2/venues/explore?client_id=HRZNHDDCZQJ4U4NWRR1LYPJJVSYSPJCAHUW22JOZADGFOVL1&client_secret=0THVETABYGSJYWMMTFCMLWJQNKJ4GT42DVDSIUDMYQC2YMEG&ll=37.7879363,-122.40751740318001&v=20180604&radius=500&limit=100\n",
      "200\n",
      "San Francisco Presidio Heights\n",
      "https://api.foursquare.com/v2/venues/explore?client_id=HRZNHDDCZQJ4U4NWRR1LYPJJVSYSPJCAHUW22JOZADGFOVL1&client_secret=0THVETABYGSJYWMMTFCMLWJQNKJ4GT42DVDSIUDMYQC2YMEG&ll=37.7887511,-122.45302659999999&v=20180604&radius=500&limit=100\n",
      "200\n",
      "San Francisco Fillmore\n",
      "https://api.foursquare.com/v2/venues/explore?client_id=HRZNHDDCZQJ4U4NWRR1LYPJJVSYSPJCAHUW22JOZADGFOVL1&client_secret=0THVETABYGSJYWMMTFCMLWJQNKJ4GT42DVDSIUDMYQC2YMEG&ll=37.7898789,-122.4342866&v=20180604&radius=500&limit=100\n",
      "200\n",
      "San Francisco Belden Place\n",
      "https://api.foursquare.com/v2/venues/explore?client_id=HRZNHDDCZQJ4U4NWRR1LYPJJVSYSPJCAHUW22JOZADGFOVL1&client_secret=0THVETABYGSJYWMMTFCMLWJQNKJ4GT42DVDSIUDMYQC2YMEG&ll=37.791744,-122.40388610000001&v=20180604&radius=500&limit=100\n",
      "200\n",
      "San Francisco Pacific Heights\n",
      "https://api.foursquare.com/v2/venues/explore?client_id=HRZNHDDCZQJ4U4NWRR1LYPJJVSYSPJCAHUW22JOZADGFOVL1&client_secret=0THVETABYGSJYWMMTFCMLWJQNKJ4GT42DVDSIUDMYQC2YMEG&ll=37.792717100000004,-122.43564450000001&v=20180604&radius=500&limit=100\n",
      "200\n",
      "San Francisco Embarcadero\n",
      "https://api.foursquare.com/v2/venues/explore?client_id=HRZNHDDCZQJ4U4NWRR1LYPJJVSYSPJCAHUW22JOZADGFOVL1&client_secret=0THVETABYGSJYWMMTFCMLWJQNKJ4GT42DVDSIUDMYQC2YMEG&ll=37.792863700000005,-122.39691200000001&v=20180604&radius=500&limit=100\n",
      "200\n",
      "San Francisco Nob Hill\n",
      "https://api.foursquare.com/v2/venues/explore?client_id=HRZNHDDCZQJ4U4NWRR1LYPJJVSYSPJCAHUW22JOZADGFOVL1&client_secret=0THVETABYGSJYWMMTFCMLWJQNKJ4GT42DVDSIUDMYQC2YMEG&ll=37.7932622,-122.415249&v=20180604&radius=500&limit=100\n",
      "200\n",
      "San Francisco Financial District,Financial District South\n",
      "https://api.foursquare.com/v2/venues/explore?client_id=HRZNHDDCZQJ4U4NWRR1LYPJJVSYSPJCAHUW22JOZADGFOVL1&client_secret=0THVETABYGSJYWMMTFCMLWJQNKJ4GT42DVDSIUDMYQC2YMEG&ll=37.793646700000004,-122.3989378&v=20180604&radius=500&limit=100\n",
      "200\n",
      "San Francisco Chinatown\n",
      "https://api.foursquare.com/v2/venues/explore?client_id=HRZNHDDCZQJ4U4NWRR1LYPJJVSYSPJCAHUW22JOZADGFOVL1&client_secret=0THVETABYGSJYWMMTFCMLWJQNKJ4GT42DVDSIUDMYQC2YMEG&ll=37.7943011,-122.4063757&v=20180604&radius=500&limit=100\n",
      "200\n",
      "San Francisco Cow Hollow\n",
      "https://api.foursquare.com/v2/venues/explore?client_id=HRZNHDDCZQJ4U4NWRR1LYPJJVSYSPJCAHUW22JOZADGFOVL1&client_secret=0THVETABYGSJYWMMTFCMLWJQNKJ4GT42DVDSIUDMYQC2YMEG&ll=37.797261600000006,-122.4362477&v=20180604&radius=500&limit=100\n",
      "200\n",
      "San Francisco Russian Hill\n",
      "https://api.foursquare.com/v2/venues/explore?client_id=HRZNHDDCZQJ4U4NWRR1LYPJJVSYSPJCAHUW22JOZADGFOVL1&client_secret=0THVETABYGSJYWMMTFCMLWJQNKJ4GT42DVDSIUDMYQC2YMEG&ll=37.7977066,-122.41497120000001&v=20180604&radius=500&limit=100\n",
      "200\n",
      "San Francisco Presidio\n",
      "https://api.foursquare.com/v2/venues/explore?client_id=HRZNHDDCZQJ4U4NWRR1LYPJJVSYSPJCAHUW22JOZADGFOVL1&client_secret=0THVETABYGSJYWMMTFCMLWJQNKJ4GT42DVDSIUDMYQC2YMEG&ll=37.798745600000004,-122.464588924107&v=20180604&radius=500&limit=100\n",
      "200\n",
      "San Francisco North Beach\n",
      "https://api.foursquare.com/v2/venues/explore?client_id=HRZNHDDCZQJ4U4NWRR1LYPJJVSYSPJCAHUW22JOZADGFOVL1&client_secret=0THVETABYGSJYWMMTFCMLWJQNKJ4GT42DVDSIUDMYQC2YMEG&ll=37.8011749,-122.4090021&v=20180604&radius=500&limit=100\n",
      "200\n",
      "San Francisco Telegraph Hill\n",
      "https://api.foursquare.com/v2/venues/explore?client_id=HRZNHDDCZQJ4U4NWRR1LYPJJVSYSPJCAHUW22JOZADGFOVL1&client_secret=0THVETABYGSJYWMMTFCMLWJQNKJ4GT42DVDSIUDMYQC2YMEG&ll=37.8027297,-122.40585149999998&v=20180604&radius=500&limit=100\n"
     ]
    },
    {
     "name": "stdout",
     "output_type": "stream",
     "text": [
      "200\n",
      "San Francisco Marina District\n",
      "https://api.foursquare.com/v2/venues/explore?client_id=HRZNHDDCZQJ4U4NWRR1LYPJJVSYSPJCAHUW22JOZADGFOVL1&client_secret=0THVETABYGSJYWMMTFCMLWJQNKJ4GT42DVDSIUDMYQC2YMEG&ll=37.8029843,-122.43747150000002&v=20180604&radius=500&limit=100\n",
      "200\n",
      "San Francisco Buena Vista\n",
      "https://api.foursquare.com/v2/venues/explore?client_id=HRZNHDDCZQJ4U4NWRR1LYPJJVSYSPJCAHUW22JOZADGFOVL1&client_secret=0THVETABYGSJYWMMTFCMLWJQNKJ4GT42DVDSIUDMYQC2YMEG&ll=37.8065321,-122.42064850000001&v=20180604&radius=500&limit=100\n",
      "200\n",
      "San Francisco Fisherman's Wharf\n",
      "https://api.foursquare.com/v2/venues/explore?client_id=HRZNHDDCZQJ4U4NWRR1LYPJJVSYSPJCAHUW22JOZADGFOVL1&client_secret=0THVETABYGSJYWMMTFCMLWJQNKJ4GT42DVDSIUDMYQC2YMEG&ll=37.8091669,-122.4165994&v=20180604&radius=500&limit=100\n",
      "200\n",
      "San Francisco Treasure Island\n",
      "https://api.foursquare.com/v2/venues/explore?client_id=HRZNHDDCZQJ4U4NWRR1LYPJJVSYSPJCAHUW22JOZADGFOVL1&client_secret=0THVETABYGSJYWMMTFCMLWJQNKJ4GT42DVDSIUDMYQC2YMEG&ll=37.8233541,-122.370153102287&v=20180604&radius=500&limit=100\n",
      "200\n"
     ]
    }
   ],
   "source": [
    "if not os.path.exists(df_4square_venues_file):\n",
    "    print(\"getting from net\")\n",
    "    nyc_sfo_venues = getNearbyVenues(cities=df['City'], names=df['Neighborhood'], latitudes=df['Latitude'], longitudes=df['Longitude'])\n",
    "else:\n",
    "    print(\"getting from local disk\")\n",
    "    nyc_sfo_venues = pd.read_csv(df_4square_venues_file)"
   ]
  },
  {
   "cell_type": "code",
   "execution_count": 134,
   "metadata": {},
   "outputs": [
    {
     "data": {
      "text/html": [
       "<div>\n",
       "<style scoped>\n",
       "    .dataframe tbody tr th:only-of-type {\n",
       "        vertical-align: middle;\n",
       "    }\n",
       "\n",
       "    .dataframe tbody tr th {\n",
       "        vertical-align: top;\n",
       "    }\n",
       "\n",
       "    .dataframe thead th {\n",
       "        text-align: right;\n",
       "    }\n",
       "</style>\n",
       "<table border=\"1\" class=\"dataframe\">\n",
       "  <thead>\n",
       "    <tr style=\"text-align: right;\">\n",
       "      <th></th>\n",
       "      <th>City</th>\n",
       "      <th>Neighborhood</th>\n",
       "      <th>Neighborhood Latitude</th>\n",
       "      <th>Neighborhood Longitude</th>\n",
       "      <th>Venue</th>\n",
       "      <th>Venue Latitude</th>\n",
       "      <th>Venue Longitude</th>\n",
       "      <th>Venue Category</th>\n",
       "    </tr>\n",
       "  </thead>\n",
       "  <tbody>\n",
       "    <tr>\n",
       "      <th>0</th>\n",
       "      <td>New York</td>\n",
       "      <td>Richmond Valley</td>\n",
       "      <td>40.520105</td>\n",
       "      <td>-74.229311</td>\n",
       "      <td>Tottenville Hot Bagels &amp; Deli</td>\n",
       "      <td>40.516582</td>\n",
       "      <td>-74.232949</td>\n",
       "      <td>Deli / Bodega</td>\n",
       "    </tr>\n",
       "    <tr>\n",
       "      <th>1</th>\n",
       "      <td>New York</td>\n",
       "      <td>Richmond Valley</td>\n",
       "      <td>40.520105</td>\n",
       "      <td>-74.229311</td>\n",
       "      <td>Chase Bank</td>\n",
       "      <td>40.517461</td>\n",
       "      <td>-74.233904</td>\n",
       "      <td>Bank</td>\n",
       "    </tr>\n",
       "    <tr>\n",
       "      <th>2</th>\n",
       "      <td>New York</td>\n",
       "      <td>Richmond Valley</td>\n",
       "      <td>40.520105</td>\n",
       "      <td>-74.229311</td>\n",
       "      <td>MTA SIR - Richmond Valley</td>\n",
       "      <td>40.519677</td>\n",
       "      <td>-74.228854</td>\n",
       "      <td>Train Station</td>\n",
       "    </tr>\n",
       "    <tr>\n",
       "      <th>3</th>\n",
       "      <td>New York</td>\n",
       "      <td>Richmond Valley</td>\n",
       "      <td>40.520105</td>\n",
       "      <td>-74.229311</td>\n",
       "      <td>Burger King</td>\n",
       "      <td>40.518076</td>\n",
       "      <td>-74.234167</td>\n",
       "      <td>Fast Food Restaurant</td>\n",
       "    </tr>\n",
       "    <tr>\n",
       "      <th>4</th>\n",
       "      <td>New York</td>\n",
       "      <td>Richmond Valley</td>\n",
       "      <td>40.520105</td>\n",
       "      <td>-74.229311</td>\n",
       "      <td>MTA Bus - Outerbridge &amp; Park and Ride (X17/X22...</td>\n",
       "      <td>40.522675</td>\n",
       "      <td>-74.224768</td>\n",
       "      <td>Bus Stop</td>\n",
       "    </tr>\n",
       "  </tbody>\n",
       "</table>\n",
       "</div>"
      ],
      "text/plain": [
       "       City     Neighborhood  Neighborhood Latitude  Neighborhood Longitude  \\\n",
       "0  New York  Richmond Valley              40.520105              -74.229311   \n",
       "1  New York  Richmond Valley              40.520105              -74.229311   \n",
       "2  New York  Richmond Valley              40.520105              -74.229311   \n",
       "3  New York  Richmond Valley              40.520105              -74.229311   \n",
       "4  New York  Richmond Valley              40.520105              -74.229311   \n",
       "\n",
       "                                               Venue  Venue Latitude  \\\n",
       "0                      Tottenville Hot Bagels & Deli       40.516582   \n",
       "1                                         Chase Bank       40.517461   \n",
       "2                          MTA SIR - Richmond Valley       40.519677   \n",
       "3                                        Burger King       40.518076   \n",
       "4  MTA Bus - Outerbridge & Park and Ride (X17/X22...       40.522675   \n",
       "\n",
       "   Venue Longitude        Venue Category  \n",
       "0       -74.232949         Deli / Bodega  \n",
       "1       -74.233904                  Bank  \n",
       "2       -74.228854         Train Station  \n",
       "3       -74.234167  Fast Food Restaurant  \n",
       "4       -74.224768              Bus Stop  "
      ]
     },
     "execution_count": 134,
     "metadata": {},
     "output_type": "execute_result"
    }
   ],
   "source": [
    "nyc_sfo_venues.head()"
   ]
  },
  {
   "cell_type": "code",
   "execution_count": 135,
   "metadata": {},
   "outputs": [
    {
     "data": {
      "text/html": [
       "<div>\n",
       "<style scoped>\n",
       "    .dataframe tbody tr th:only-of-type {\n",
       "        vertical-align: middle;\n",
       "    }\n",
       "\n",
       "    .dataframe tbody tr th {\n",
       "        vertical-align: top;\n",
       "    }\n",
       "\n",
       "    .dataframe thead th {\n",
       "        text-align: right;\n",
       "    }\n",
       "</style>\n",
       "<table border=\"1\" class=\"dataframe\">\n",
       "  <thead>\n",
       "    <tr style=\"text-align: right;\">\n",
       "      <th></th>\n",
       "      <th>City</th>\n",
       "      <th>Neighborhood</th>\n",
       "      <th>Neighborhood Latitude</th>\n",
       "      <th>Neighborhood Longitude</th>\n",
       "      <th>Venue</th>\n",
       "      <th>Venue Latitude</th>\n",
       "      <th>Venue Longitude</th>\n",
       "      <th>Venue Category</th>\n",
       "    </tr>\n",
       "  </thead>\n",
       "  <tbody>\n",
       "    <tr>\n",
       "      <th>13107</th>\n",
       "      <td>San Francisco</td>\n",
       "      <td>Treasure Island</td>\n",
       "      <td>37.823354</td>\n",
       "      <td>-122.370153</td>\n",
       "      <td>Harvey's Gourmet Mini Doughnuts stand</td>\n",
       "      <td>37.821078</td>\n",
       "      <td>-122.374524</td>\n",
       "      <td>Donut Shop</td>\n",
       "    </tr>\n",
       "    <tr>\n",
       "      <th>13108</th>\n",
       "      <td>San Francisco</td>\n",
       "      <td>Treasure Island</td>\n",
       "      <td>37.823354</td>\n",
       "      <td>-122.370153</td>\n",
       "      <td>Golden Gate Rugby Club</td>\n",
       "      <td>37.820999</td>\n",
       "      <td>-122.365793</td>\n",
       "      <td>Rugby Pitch</td>\n",
       "    </tr>\n",
       "    <tr>\n",
       "      <th>13109</th>\n",
       "      <td>San Francisco</td>\n",
       "      <td>Treasure Island</td>\n",
       "      <td>37.823354</td>\n",
       "      <td>-122.370153</td>\n",
       "      <td>The Great Lawn at Treasure Island</td>\n",
       "      <td>37.821363</td>\n",
       "      <td>-122.374829</td>\n",
       "      <td>Park</td>\n",
       "    </tr>\n",
       "    <tr>\n",
       "      <th>13110</th>\n",
       "      <td>San Francisco</td>\n",
       "      <td>Treasure Island</td>\n",
       "      <td>37.823354</td>\n",
       "      <td>-122.370153</td>\n",
       "      <td>Gaelic Football Field</td>\n",
       "      <td>37.827460</td>\n",
       "      <td>-122.371548</td>\n",
       "      <td>Athletics &amp; Sports</td>\n",
       "    </tr>\n",
       "    <tr>\n",
       "      <th>13111</th>\n",
       "      <td>San Francisco</td>\n",
       "      <td>Treasure Island</td>\n",
       "      <td>37.823354</td>\n",
       "      <td>-122.370153</td>\n",
       "      <td>Treasure Island YMCA</td>\n",
       "      <td>37.826408</td>\n",
       "      <td>-122.368703</td>\n",
       "      <td>Gym</td>\n",
       "    </tr>\n",
       "  </tbody>\n",
       "</table>\n",
       "</div>"
      ],
      "text/plain": [
       "                City     Neighborhood  Neighborhood Latitude  \\\n",
       "13107  San Francisco  Treasure Island              37.823354   \n",
       "13108  San Francisco  Treasure Island              37.823354   \n",
       "13109  San Francisco  Treasure Island              37.823354   \n",
       "13110  San Francisco  Treasure Island              37.823354   \n",
       "13111  San Francisco  Treasure Island              37.823354   \n",
       "\n",
       "       Neighborhood Longitude                                  Venue  \\\n",
       "13107             -122.370153  Harvey's Gourmet Mini Doughnuts stand   \n",
       "13108             -122.370153                 Golden Gate Rugby Club   \n",
       "13109             -122.370153      The Great Lawn at Treasure Island   \n",
       "13110             -122.370153                  Gaelic Football Field   \n",
       "13111             -122.370153                   Treasure Island YMCA   \n",
       "\n",
       "       Venue Latitude  Venue Longitude      Venue Category  \n",
       "13107       37.821078      -122.374524          Donut Shop  \n",
       "13108       37.820999      -122.365793         Rugby Pitch  \n",
       "13109       37.821363      -122.374829                Park  \n",
       "13110       37.827460      -122.371548  Athletics & Sports  \n",
       "13111       37.826408      -122.368703                 Gym  "
      ]
     },
     "execution_count": 135,
     "metadata": {},
     "output_type": "execute_result"
    }
   ],
   "source": [
    "nyc_sfo_venues.tail()"
   ]
  },
  {
   "cell_type": "code",
   "execution_count": 136,
   "metadata": {},
   "outputs": [
    {
     "data": {
      "text/plain": [
       "(13112, 8)"
      ]
     },
     "execution_count": 136,
     "metadata": {},
     "output_type": "execute_result"
    }
   ],
   "source": [
    "nyc_sfo_venues.shape"
   ]
  },
  {
   "cell_type": "code",
   "execution_count": null,
   "metadata": {},
   "outputs": [],
   "source": []
  }
 ],
 "metadata": {
  "kernelspec": {
   "display_name": "Python 3",
   "language": "python",
   "name": "python3"
  },
  "language_info": {
   "codemirror_mode": {
    "name": "ipython",
    "version": 3
   },
   "file_extension": ".py",
   "mimetype": "text/x-python",
   "name": "python",
   "nbconvert_exporter": "python",
   "pygments_lexer": "ipython3",
   "version": "3.6.4"
  }
 },
 "nbformat": 4,
 "nbformat_minor": 2
}
